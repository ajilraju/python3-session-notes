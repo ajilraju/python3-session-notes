{
  "cells": [
    {
      "cell_type": "markdown",
      "metadata": {
        "id": "view-in-github",
        "colab_type": "text"
      },
      "source": [
        "<a href=\"https://colab.research.google.com/github/ajilraju/python3-session-notes/blob/main/python3_devops.ipynb\" target=\"_parent\"><img src=\"https://colab.research.google.com/assets/colab-badge.svg\" alt=\"Open In Colab\"/></a>"
      ]
    },
    {
      "cell_type": "markdown",
      "source": [
        "# Day 01"
      ],
      "metadata": {
        "id": "9sAOf49iqLWe"
      },
      "id": "9sAOf49iqLWe"
    },
    {
      "cell_type": "markdown",
      "source": [
        "# Python Programming (Python3) 🐍\n",
        "\n",
        "## Get Started\n",
        "\n",
        "* ### Python is an interpreted, object-oriented, high-level programming language with dynamic semantics.\n",
        "* ### Created by Guido van Rossum, and released in 1991.\n",
        "* ### [Why Python2 and Python3](https://www.geeksforgeeks.org/important-differences-between-python-2-x-and-python-3-x-with-examples/).\n",
        "* ### [More about Python](https://en.wikipedia.org/wiki/Python_(programming_language).\n"
      ],
      "metadata": {
        "id": "SvH2RF33QQoQ"
      },
      "id": "SvH2RF33QQoQ"
    },
    {
      "cell_type": "markdown",
      "source": [
        "## First Python Program\n",
        "\n",
        "`hello_world.py`\n",
        "\n",
        "Run the script by Python3 interpreter\n",
        "```bash\n",
        "python3 hello_world.py\n",
        "```\n"
      ],
      "metadata": {
        "id": "rU0lPOsWBzDI"
      },
      "id": "rU0lPOsWBzDI"
    },
    {
      "cell_type": "code",
      "source": [
        "print(\"Hello World!\")\n",
        "print('hello world')\n",
        "print(\"I'm Love Python\")"
      ],
      "metadata": {
        "id": "clJOanayCp7z",
        "colab": {
          "base_uri": "https://localhost:8080/"
        },
        "outputId": "5460bde0-7ac3-40c1-e7d0-fe245791cbcf"
      },
      "id": "clJOanayCp7z",
      "execution_count": null,
      "outputs": [
        {
          "output_type": "stream",
          "name": "stdout",
          "text": [
            "Hello World!\n",
            "hello world\n",
            "I'm Love Python\n"
          ]
        }
      ]
    },
    {
      "cell_type": "markdown",
      "source": [
        "## Variables\n",
        "\n",
        "* A Python Variables is a name given to a memory location. It is the basic unit of storage in a program.\n",
        "* [More about variables](https://en.wikipedia.org/wiki/Variable_(computer_science)\n",
        "\n",
        "### *Syntax*\n",
        "**varible_name = value**\n",
        "\n",
        "Eg: **my_name = \"Tom\"**"
      ],
      "metadata": {
        "id": "XLsm4f-5FwDO"
      },
      "id": "XLsm4f-5FwDO"
    },
    {
      "cell_type": "code",
      "source": [
        "first_varible = \"First value\""
      ],
      "metadata": {
        "id": "haWAPYZas70-"
      },
      "id": "haWAPYZas70-",
      "execution_count": null,
      "outputs": []
    },
    {
      "cell_type": "code",
      "source": [
        "my_name = \"Tom\"\n",
        "my_age = 25\n",
        "my_weight = 75.5\n",
        "\n",
        "print(first_varible)\n",
        "print(my_name)\n",
        "print(my_age)\n",
        "print(my_weight)"
      ],
      "metadata": {
        "id": "mNwCz1V1HH44",
        "colab": {
          "base_uri": "https://localhost:8080/"
        },
        "outputId": "7b39fcb0-ef9f-43a6-c884-953ff5389c98"
      },
      "id": "mNwCz1V1HH44",
      "execution_count": null,
      "outputs": [
        {
          "output_type": "stream",
          "name": "stdout",
          "text": [
            "First value\n",
            "Tom\n",
            "25\n",
            "75.5\n"
          ]
        }
      ]
    },
    {
      "cell_type": "markdown",
      "source": [
        "### Varible type data-type\n",
        "* string  `\"hello world or 'hello world'`\n",
        "* intger  `100`\n",
        "* float   `200.23`\n",
        "* boolean `True or False`\n",
        "* complex `1j`\n",
        "* [more](https://www.w3schools.com/python/python_datatypes.asp)"
      ],
      "metadata": {
        "id": "TI3POdtrzTP0"
      },
      "id": "TI3POdtrzTP0"
    },
    {
      "cell_type": "markdown",
      "source": [
        "## Working with string\n",
        "\n",
        "* A string is a series of characters. \n",
        "* Anything inside quotes is considered a string in Python.\n",
        "* Use single or double quotes around your strings\n",
        "* [String methods](https://docs.python.org/3/library/stdtypes.html#string-methods)"
      ],
      "metadata": {
        "id": "kmveI2m-1-MC"
      },
      "id": "kmveI2m-1-MC"
    },
    {
      "cell_type": "code",
      "source": [
        "# Using sring\n",
        "country_name = 'india'\n",
        "print(country_name)\n",
        "\n",
        "print(country_name.title())\n",
        "# title() is called method, \n",
        "# A method is an action that Python can perform on a piece of data.\n",
        "\n",
        "print(country_name.lower())\n",
        "print(country_name.upper())\n",
        "print(len(country_name))  # Special string function to find the string char length.\n",
        "print(type(country_name)) # Special function to out the data-type."
      ],
      "metadata": {
        "id": "QYnN2FyH0Xbx",
        "colab": {
          "base_uri": "https://localhost:8080/"
        },
        "outputId": "eacad4de-1c3f-46d9-ee3d-54776f305d1e"
      },
      "id": "QYnN2FyH0Xbx",
      "execution_count": null,
      "outputs": [
        {
          "output_type": "stream",
          "name": "stdout",
          "text": [
            "india\n",
            "India\n",
            "india\n",
            "INDIA\n",
            "5\n",
            "<class 'str'>\n"
          ]
        }
      ]
    },
    {
      "cell_type": "markdown",
      "source": [
        "### Using varible inside string\n",
        "\n",
        "* [f-­strings](https://peps.python.org/pep-0498)\n",
        "* Eg: `f\"Hello! {varible_name}\"`"
      ],
      "metadata": {
        "id": "_5ErI6ch2vHb"
      },
      "id": "_5ErI6ch2vHb"
    },
    {
      "cell_type": "code",
      "source": [
        "possession = \"I\"\n",
        "\n",
        "print(f\"Hello Folks, {possession} love {country_name.title()}\")"
      ],
      "metadata": {
        "id": "PmsYqFwV3V9f",
        "colab": {
          "base_uri": "https://localhost:8080/"
        },
        "outputId": "d03d76c0-d475-4223-fb5f-421aa6a500dc"
      },
      "id": "PmsYqFwV3V9f",
      "execution_count": null,
      "outputs": [
        {
          "output_type": "stream",
          "name": "stdout",
          "text": [
            "Hello Folks, I love India\n"
          ]
        }
      ]
    },
    {
      "cell_type": "markdown",
      "source": [
        "# Day 02"
      ],
      "metadata": {
        "id": "O6JkjLl4qIpm"
      },
      "id": "O6JkjLl4qIpm"
    },
    {
      "cell_type": "markdown",
      "source": [
        "## Numbers\n",
        "\n",
        "### Integer\n",
        "\n",
        "```\n",
        "2 + 2\n",
        "3 * 6\n",
        "```\n",
        "\n",
        "### Float\n",
        "\n",
        "Python calls any number with a decimal point a float.\n",
        "```\n",
        "3.43 + 3.14\n",
        "3 * 235\n",
        "```\n",
        "\n",
        "### Underscore in Numbers\n",
        "`universe_age = 14_000_000_000`\n",
        "\n",
        "### Multiple Assignment\n",
        "`x, y, z = 10, 100, 34.33`\n",
        "\n",
        "### Constants\n",
        "A constant is like a variable whose value stays the same throughout the life of a program. Python doesn’t have built-­in constant types.\n",
        "\n",
        "`MAX_CONNECTIONS = 5000`\n",
        "\n",
        "### Conversion\n",
        "* `int(x)` convert other datatype into int. x be the other datatype value."
      ],
      "metadata": {
        "id": "5ZomJbryoqUi"
      },
      "id": "5ZomJbryoqUi"
    },
    {
      "cell_type": "code",
      "source": [
        "sum = 2 + 2\n",
        "product = 2 * 6\n",
        "\n",
        "PI = 3.14159 # Constant\n",
        "\n",
        "sum_float = 2 + 2.22\n",
        "product_float = 3 * PI\n",
        "\n",
        "x, y, z = 1, 3, 2\n",
        "\n",
        "universe_age = 14_000_000_000\n",
        "\n",
        "print(sum)\n",
        "print(product)\n",
        "\n",
        "print(sum_float)\n",
        "print(product_float)\n",
        "\n",
        "print(f\"x = {x}, y = {y}, z = {z}\")\n",
        "\n",
        "print(universe_age * 2)"
      ],
      "metadata": {
        "id": "h7G4XMvqq0C4",
        "colab": {
          "base_uri": "https://localhost:8080/"
        },
        "outputId": "838bd3d6-7e80-4f73-b043-f37da0e9feaa"
      },
      "id": "h7G4XMvqq0C4",
      "execution_count": null,
      "outputs": [
        {
          "output_type": "stream",
          "name": "stdout",
          "text": [
            "4\n",
            "12\n",
            "4.220000000000001\n",
            "9.424769999999999\n",
            "x = 1, y = 3, z = 2\n",
            "28000000000\n"
          ]
        }
      ]
    },
    {
      "cell_type": "markdown",
      "source": [
        "## Python Operators\n",
        "\n",
        "* Arithmetic operators\n",
        "* Assignment operators\n",
        "* Comparison operators\n",
        "* Logical operators\n",
        "* Identity operators\n",
        "* Membership operators\n",
        "* Bitwise operators\n",
        "* [More about operators](https://www.w3schools.com/python/python_operators.asp)\n",
        "\n",
        "\n",
        "    | Operator | Operand |\n",
        "    |----------|---------|\n",
        "    |+ = - **  | x, sum  |\n"
      ],
      "metadata": {
        "id": "Pmddq9wHsJb9"
      },
      "id": "Pmddq9wHsJb9"
    },
    {
      "cell_type": "code",
      "source": [
        "# Arithmetic Operators\n",
        "print(2 + 2)\n",
        "print(2 * 2)\n",
        "print(2 - 2)\n",
        "print(3 / 2)\n",
        "print(3 % 2)\n",
        "print(2 ** 3)\n",
        "print(3 // 2)\n",
        "\n",
        "# Assignment Operators\n",
        "x = 10\n",
        "x = x + 10\n",
        "\n",
        "y = 10\n",
        "y += 10\n",
        "\n",
        "x *= 10\n",
        "\n",
        "print(y)\n",
        "print(x)\n",
        "\n",
        "# Comparison Operators\n",
        "print(2 == 2)\n",
        "print(2 > 3)\n",
        "print(2 < 2)\n",
        "print(2 <= 2)\n",
        "print(2 != 2)\n",
        "\n",
        "# Logical Operators\n",
        "print(True and True)\n",
        "print(True and False)\n",
        "print(True or True)\n",
        "print(True or False)\n",
        "print(not True)\n",
        "print(not False)\n",
        "\n"
      ],
      "metadata": {
        "id": "7AlGbq1As1qk",
        "colab": {
          "base_uri": "https://localhost:8080/"
        },
        "outputId": "7ee2b20d-7f83-478f-a06f-70251ed5f32f"
      },
      "id": "7AlGbq1As1qk",
      "execution_count": null,
      "outputs": [
        {
          "output_type": "stream",
          "name": "stdout",
          "text": [
            "4\n",
            "4\n",
            "0\n",
            "1.5\n",
            "1\n",
            "8\n",
            "1\n",
            "20\n",
            "200\n",
            "True\n",
            "False\n",
            "False\n",
            "True\n",
            "False\n",
            "True\n",
            "False\n",
            "True\n",
            "True\n",
            "False\n",
            "True\n"
          ]
        }
      ]
    },
    {
      "cell_type": "markdown",
      "source": [
        "## User input\n",
        "Developers often have a need to interact with users, either to get data or to provide some sort of result.\n",
        "\n",
        "`input(prompt)`\n",
        "\n",
        "`value = input(\"Enter your age\")`"
      ],
      "metadata": {
        "id": "al8-oWymxd8Y"
      },
      "id": "al8-oWymxd8Y"
    },
    {
      "cell_type": "code",
      "source": [
        "name = input(\"Enter your name: \")\n",
        "age = input(\"Enter you age: \")\n",
        "\n",
        "print(f\"Hello!!! {name} welcome to the world of python\")\n",
        "print(age)"
      ],
      "metadata": {
        "id": "rR6gOOb2yAwh"
      },
      "id": "rR6gOOb2yAwh",
      "execution_count": null,
      "outputs": []
    },
    {
      "cell_type": "code",
      "source": [
        "number = input(\"Enter the number\")\n",
        "print(2 + int(number))"
      ],
      "metadata": {
        "id": "OBwEka0WzI21"
      },
      "id": "OBwEka0WzI21",
      "execution_count": null,
      "outputs": []
    },
    {
      "cell_type": "code",
      "source": [
        "# Simple Calculator\n",
        "f_num = input(\"Enter the first number: \")\n",
        "s_num = int(input(\"Enter the second number: \"))\n",
        "\n",
        "f_num = int(f_num)\n",
        "\n",
        "print(\"=\" * 10)\n",
        "print(f\"Sum of {f_num} and {s_num} = {f_num + s_num}\")\n",
        "print(f\"Product of {f_num} and {s_num} = {f_num * s_num}\")\n",
        "print(f\"Quotient of {f_num} and {s_num} = {f_num / s_num}\")\n",
        "\n"
      ],
      "metadata": {
        "id": "aKK_AYr2ygUy"
      },
      "id": "aKK_AYr2ygUy",
      "execution_count": null,
      "outputs": []
    },
    {
      "cell_type": "markdown",
      "source": [
        "## Lists\n",
        "* A list is a collection of items in a particular order.\n",
        "* In Python, square brackets `( [] )` indicate a list, and individual elements in the list are separated by commas.\n",
        "*   ```\n",
        "    bicycles = ['trek', 'cannondale', 'redline', 'specialized']\n",
        "    print(bicycles)\n",
        "    ```\n",
        "\n",
        "\n"
      ],
      "metadata": {
        "id": "FzMNs5evjzC0"
      },
      "id": "FzMNs5evjzC0"
    },
    {
      "cell_type": "code",
      "source": [
        "bicycles = ['trek', 'cannondale', 'redline', 'specialized']\n",
        "print(bicycles)"
      ],
      "metadata": {
        "id": "gjzxADHWkrol"
      },
      "id": "gjzxADHWkrol",
      "execution_count": null,
      "outputs": []
    },
    {
      "cell_type": "markdown",
      "source": [
        "### Accessing elements in List\n",
        "\n",
        "* Lists are ordered collections.\n",
        "* Access any element in a list by telling Python the position, or index, of the item desired.\n",
        "* Index Positions Start at 0, Not 1\n",
        "* Last element is `(N-1)`\n",
        "* Python has a special syntax for accessing the last element in a list. with *negative index*."
      ],
      "metadata": {
        "id": "Vkr9noLok0z8"
      },
      "id": "Vkr9noLok0z8"
    },
    {
      "cell_type": "code",
      "source": [
        "print(bicycles[0])\n",
        "print(bicycles[0].title())\n",
        "print(bicycles[-1])\n",
        "print(bicycles[-2])"
      ],
      "metadata": {
        "id": "okmrfu3dlCbo"
      },
      "id": "okmrfu3dlCbo",
      "execution_count": null,
      "outputs": []
    },
    {
      "cell_type": "markdown",
      "source": [
        "### Modifiying element in a List"
      ],
      "metadata": {
        "id": "X9MUOsX5mfav"
      },
      "id": "X9MUOsX5mfav"
    },
    {
      "cell_type": "code",
      "source": [
        "bicycles[1] = 'BMX'\n",
        "print(bicycles)"
      ],
      "metadata": {
        "id": "b4MQZea7mpCo"
      },
      "id": "b4MQZea7mpCo",
      "execution_count": null,
      "outputs": []
    },
    {
      "cell_type": "markdown",
      "source": [
        "### Adding Elements to a List\n",
        "* Appending Elements to the End of a List, `append(ele)`.\n",
        "* Inserting Elements into a List, `insert(pos, elem)`.\n"
      ],
      "metadata": {
        "id": "yZemEKAKm4zN"
      },
      "id": "yZemEKAKm4zN"
    },
    {
      "cell_type": "markdown",
      "source": [
        "### More about List\n",
        "[Python3 list](https://docs.python.org/3/tutorial/datastructures.html)"
      ],
      "metadata": {
        "id": "SAINb7_KnU2l"
      },
      "id": "SAINb7_KnU2l"
    },
    {
      "cell_type": "markdown",
      "source": [
        "# Day 03"
      ],
      "metadata": {
        "id": "eQFisnJSet83"
      },
      "id": "eQFisnJSet83"
    },
    {
      "cell_type": "markdown",
      "source": [
        "## Decision Making (if-else statement)\n",
        "* Decision making is anticipation of conditions occurring while execution of the program and specifying actions taken according to the conditions.\n",
        "* Decision structures evaluate multiple expressions which produce TRUE or FALSE as outcome.\n",
        "![image](https://www.tutorialspoint.com/python/images/decision_making.jpg)\n",
        "* Python programming language assumes any non-zero and non-null values as TRUE, and if it is either zero or null, then it is assumed as FALSE value.\n",
        "* **if statement**\n",
        "* **if..else statement**\n",
        "* **nested if statement**\n",
        "\n",
        "* [Watch out Indentation](https://peps.python.org/pep-0008/#indentation)"
      ],
      "metadata": {
        "id": "UFlBY3iPno_Q"
      },
      "id": "UFlBY3iPno_Q"
    },
    {
      "cell_type": "code",
      "source": [
        "total_days_year = 365\n",
        "\n",
        "if total_days_year == 365:\n",
        "    print(\"You're in Earth.\")"
      ],
      "metadata": {
        "id": "hg5topLqo-pH"
      },
      "id": "hg5topLqo-pH",
      "execution_count": null,
      "outputs": []
    },
    {
      "cell_type": "code",
      "source": [
        "if total_days_year == 3666:\n",
        "    print(\"You're in Exo\")\n",
        "else:\n",
        "    print(\"You're in Earth\")"
      ],
      "metadata": {
        "id": "3ByV-WENp8c6"
      },
      "id": "3ByV-WENp8c6",
      "execution_count": null,
      "outputs": []
    },
    {
      "cell_type": "code",
      "source": [
        "total_days_year = int(input(\"Enter days: \"))\n",
        "if total_days_year == 365:\n",
        "    print(\"You're in Earth\")\n",
        "elif total_days_year == 243:\n",
        "    print(\"You're in Venus\")\n",
        "else:\n",
        "    print(\"You're in Exoplant\")"
      ],
      "metadata": {
        "id": "wZPXr_pnr2A3"
      },
      "id": "wZPXr_pnr2A3",
      "execution_count": null,
      "outputs": []
    },
    {
      "cell_type": "markdown",
      "source": [
        "### Example: Decision Making (Covid Vaccine)"
      ],
      "metadata": {
        "id": "TJnUBPELSrqj"
      },
      "id": "TJnUBPELSrqj"
    },
    {
      "cell_type": "code",
      "source": [
        "age = int(input(\"Enter you age: \"))\n",
        "\n",
        "if age >= 18:\n",
        "    taken_first_dose = input(\"Have you taken the first dose covid vaccine (y/n): \")\n",
        "    if taken_first_dose == 'y' or taken_first_dose == 'Y':\n",
        "        print(\"You're eligible to second dose vaccine\")\n",
        "    else:\n",
        "        print(\"Visit your nearest vaccine centre first dose vaccine\")\n",
        "else:\n",
        "    print(\"You are minor, Keep: 😷 🧼\")"
      ],
      "metadata": {
        "id": "2jpV8ajSSqee"
      },
      "id": "2jpV8ajSSqee",
      "execution_count": null,
      "outputs": []
    },
    {
      "cell_type": "markdown",
      "source": [
        "## Loops\n",
        "Loop is a sequence of instruction s that is continually repeated until a certain condition is reached.\n",
        "* **While loops (Conditional loops)**\n",
        "* **For loops (Counting loops)**\n",
        "* **[More](https://docs.python.org/3/tutorial/controlflow.html)**\n",
        "* `break, continue and else` are the loop controllers\n"
      ],
      "metadata": {
        "id": "2XL87eiOqucd"
      },
      "id": "2XL87eiOqucd"
    },
    {
      "cell_type": "markdown",
      "source": [
        "### While Loops\n",
        "`while` loop we can execute a set of statements as long as a condition is true."
      ],
      "metadata": {
        "id": "XuNTy7N3IBX_"
      },
      "id": "XuNTy7N3IBX_"
    },
    {
      "cell_type": "code",
      "source": [
        "number = 1\n",
        "count = 1\n",
        "while number <= 10:\n",
        "    print(f\"Iteration {count}, number variable value is {number}\")\n",
        "    count += 1\n",
        "    number += 1\n"
      ],
      "metadata": {
        "id": "CDgklaNCIQ9r"
      },
      "id": "CDgklaNCIQ9r",
      "execution_count": null,
      "outputs": []
    },
    {
      "cell_type": "markdown",
      "source": [
        "### For Loops\n",
        "A `for` loop is used for iterating over a sequence (that is either a list, a tuple, a dictionary, a set, or a string)."
      ],
      "metadata": {
        "id": "85b-CH0uH5K8"
      },
      "id": "85b-CH0uH5K8"
    },
    {
      "cell_type": "code",
      "source": [
        "cars = [\"Nissan\", \"Tata\", \"Hyundai\", \"MG\", \"BMW\"]\n",
        "\n",
        "for car in cars:\n",
        "    print(car)\n",
        "\n",
        "print(\"*\" * 20)\n",
        "for car in cars:\n",
        "    print(f\"{car} is so nice\")\n",
        "\n",
        "print(\"=\" * 20)\n",
        "for i in range(0, 10):\n",
        "    print(i)"
      ],
      "metadata": {
        "id": "22mGcArfJGu7"
      },
      "id": "22mGcArfJGu7",
      "execution_count": null,
      "outputs": []
    },
    {
      "cell_type": "markdown",
      "source": [
        "### Examples of break and continue in loops"
      ],
      "metadata": {
        "id": "ngFraxzpLH_6"
      },
      "id": "ngFraxzpLH_6"
    },
    {
      "cell_type": "code",
      "source": [
        "for i in range(1, 10):\n",
        "    if i == 5:\n",
        "        break\n",
        "    print(i)"
      ],
      "metadata": {
        "id": "0JgEpyibLM9V"
      },
      "id": "0JgEpyibLM9V",
      "execution_count": null,
      "outputs": []
    },
    {
      "cell_type": "code",
      "source": [
        "for i in range(1, 10):\n",
        "    if i == 5:\n",
        "        continue\n",
        "    print(i)"
      ],
      "metadata": {
        "id": "zTju6gkaLdpZ"
      },
      "id": "zTju6gkaLdpZ",
      "execution_count": null,
      "outputs": []
    },
    {
      "cell_type": "markdown",
      "source": [
        "### Example of while and for loops"
      ],
      "metadata": {
        "id": "nw3DNEyrL5Nh"
      },
      "id": "nw3DNEyrL5Nh"
    },
    {
      "cell_type": "code",
      "source": [
        "# program: printing even nubmers\n",
        "\n",
        "number = 1\n",
        "\n",
        "while number <= 20:\n",
        "    if number % 2 != 0:\n",
        "        print(number)\n",
        "    number += 1"
      ],
      "metadata": {
        "id": "qHzBoF-_L8_u"
      },
      "id": "qHzBoF-_L8_u",
      "execution_count": null,
      "outputs": []
    },
    {
      "cell_type": "code",
      "source": [
        "for num in range(1, 21):\n",
        "    if num % 2 != 0:\n",
        "        print(num)"
      ],
      "metadata": {
        "id": "8IErza7yMnFo"
      },
      "id": "8IErza7yMnFo",
      "execution_count": null,
      "outputs": []
    },
    {
      "cell_type": "markdown",
      "source": [
        "### Example: Pasword policy checker"
      ],
      "metadata": {
        "id": "aMlZnFueOD-s"
      },
      "id": "aMlZnFueOD-s"
    },
    {
      "cell_type": "code",
      "source": [
        "# title Default title text\n",
        "# program: password policy checking.\n",
        "#\n",
        "\n",
        "# Password policies are\n",
        "# * Atlest 1 uppercase\n",
        "# * Atlest 1 lowercase\n",
        "# * Atlest 1 digit\n",
        "# * Atlest 1 special character\n",
        "# * min length 8 characters\n",
        "# * max length 12 characters\n",
        "\n",
        "password = input(\"Enter your password: \")\n",
        "\n",
        "upper   = False\n",
        "lower   = False\n",
        "digit   = False\n",
        "special = False\n",
        "\n",
        "if len(password) >= 8 and len(password) <= 12:\n",
        "    for char in password:\n",
        "        if char.isupper():\n",
        "            upper = True\n",
        "        elif char.islower():\n",
        "            lower = True\n",
        "        elif char.isdigit():\n",
        "            digit = True\n",
        "        else:\n",
        "            special = True\n",
        "    if upper and lower and digit and special:\n",
        "        print(\"Valid password\")\n",
        "    else:\n",
        "        print(\"Not all password policy met\")\n",
        "else:\n",
        "    print(\"Password is too short or large\")"
      ],
      "metadata": {
        "id": "XKwWhahEOJzG"
      },
      "id": "XKwWhahEOJzG",
      "execution_count": null,
      "outputs": []
    },
    {
      "cell_type": "markdown",
      "source": [
        "# Day 04\n"
      ],
      "metadata": {
        "id": "rA2f8v3ia_fR"
      },
      "id": "rA2f8v3ia_fR"
    },
    {
      "cell_type": "markdown",
      "source": [
        "### Example: Find Odd and Even number"
      ],
      "metadata": {
        "id": "fBF30NGVRPSD"
      },
      "id": "fBF30NGVRPSD"
    },
    {
      "cell_type": "code",
      "source": [
        "for num in range(1, 11):\n",
        "    if num % 2 == 0:\n",
        "        print(\"Found an even number\", num)\n",
        "        continue\n",
        "    print(\"Found an odd number\", num)"
      ],
      "metadata": {
        "id": "Aw6FhoYoRTuk"
      },
      "id": "Aw6FhoYoRTuk",
      "execution_count": null,
      "outputs": []
    },
    {
      "cell_type": "markdown",
      "source": [
        "### Nest Loops"
      ],
      "metadata": {
        "id": "niLeuSpsfIEH"
      },
      "id": "niLeuSpsfIEH"
    },
    {
      "cell_type": "code",
      "source": [
        "for f in range(1, 4):\n",
        "    for s in range(1, 6):\n",
        "        print(f\"outside loop var={f}, inside loop var={s}\")"
      ],
      "metadata": {
        "id": "2sJ9_n2sfMdW"
      },
      "id": "2sJ9_n2sfMdW",
      "execution_count": null,
      "outputs": []
    },
    {
      "cell_type": "code",
      "source": [
        "for i in range(1, 10):\n",
        "    for j in range(0, i):\n",
        "        print(\"*\", end='')\n",
        "    print(\"\")"
      ],
      "metadata": {
        "id": "3Pzti-G4f3jM"
      },
      "id": "3Pzti-G4f3jM",
      "execution_count": null,
      "outputs": []
    },
    {
      "cell_type": "markdown",
      "source": [
        "## Tuples\n",
        "\n",
        "* Tuples are used to store multiple items in a single variable.\n",
        "* Container for storing data items.\n",
        "* Immutable, aka unchangeable.\n",
        "* Tuples are written with round brackets.\n",
        "* [more](https://www.w3schools.com/python/python_tuples.asp)"
      ],
      "metadata": {
        "id": "uBdYkFkwg5Iz"
      },
      "id": "uBdYkFkwg5Iz"
    },
    {
      "cell_type": "code",
      "source": [
        "# Tuple exampless\n",
        "\n",
        "coordinates = (1, 0)\n",
        "print(coordinates)\n",
        "\n",
        "# accessing individual tuple elements\n",
        "print(coordinates[0])\n",
        "\n",
        "# assigning elements to tuples\n",
        "coordinates[0] = 22"
      ],
      "metadata": {
        "id": "4PQzN-8EiIBq"
      },
      "id": "4PQzN-8EiIBq",
      "execution_count": null,
      "outputs": []
    },
    {
      "cell_type": "markdown",
      "source": [
        "## Unpacking\n",
        "* Unpacking in Python refers to an operation that consists of assigning an iterable of values to a tuple (or list ) of variables in a single assignment statement."
      ],
      "metadata": {
        "id": "Llu8YXTViyLW"
      },
      "id": "Llu8YXTViyLW"
    },
    {
      "cell_type": "code",
      "source": [
        "coordinates = (1, 2, 20)\n",
        "x = coordinates[0]\n",
        "y = coordinates[1]\n",
        "z = coordinates[2]\n",
        "print(x, y, z)\n",
        "\n",
        "# easy\n",
        "coordinates = (100, 22, 20)\n",
        "x, y, z = coordinates\n",
        "print(x, y, z)"
      ],
      "metadata": {
        "id": "lhSyITBJi3CS"
      },
      "id": "lhSyITBJi3CS",
      "execution_count": null,
      "outputs": []
    },
    {
      "cell_type": "markdown",
      "source": [
        "## Dictionary\n",
        "\n",
        "* Dictionaries are used to store data values in key:value pairs.\n",
        "* A dictionary is a collection which is ordered*, changeable and do not allow duplicates.\n",
        "* Dictionaries are written with curly brackets, and have keys and values:\n",
        "\n",
        "* [more](https://www.w3schools.com/python/python_dictionaries.asp)"
      ],
      "metadata": {
        "id": "YXg3LtzojmJz"
      },
      "id": "YXg3LtzojmJz"
    },
    {
      "cell_type": "code",
      "source": [
        "user_details = {\n",
        "    \"name\": \"kevin\",\n",
        "    \"age\": 25,\n",
        "    \"skills\": [\"Python\", \"Ansible\",\n",
        "               \"Ruby\", \"Perl\"]\n",
        "}\n",
        "\n",
        "print(user_details)\n",
        "\n",
        "# Accessing individual elements\n",
        "\n",
        "print(f\"The user name is {user_details['name']} and age is {user_details['age']}\")\n",
        "\n",
        "print(f\"The user name is {user_details.get('name')} and age is {user_details.get('age')}\")\n",
        "\n",
        "print(\"==\" * 20)\n",
        "\n",
        "for k in user_details:\n",
        "    print(k)"
      ],
      "metadata": {
        "id": "q_l6k2dzj-F7"
      },
      "id": "q_l6k2dzj-F7",
      "execution_count": null,
      "outputs": []
    },
    {
      "cell_type": "code",
      "source": [
        "# Program: Numbers to word\n",
        "\n",
        "DIGIT_WORD_LIST = {\n",
        "    \"0\": \"Zero\",\n",
        "    \"1\": \"One\",\n",
        "    \"2\": \"Two\",\n",
        "    \"3\": \"Three\",\n",
        "    \"4\": \"Four\",\n",
        "    \"5\": \"Five\",\n",
        "    \"6\": \"Six\",\n",
        "    \"7\": \"Seven\",\n",
        "    \"8\": \"Eight\",\n",
        "    \"9\": \"Nine\",\n",
        "}\n",
        "\n",
        "number = input(\"Enter a multi-digit number:  \")\n",
        "for num in number:\n",
        "    print(DIGIT_WORD_LIST.get(num), end=' ')"
      ],
      "metadata": {
        "id": "hssy3ERzvGUM"
      },
      "id": "hssy3ERzvGUM",
      "execution_count": null,
      "outputs": []
    },
    {
      "cell_type": "code",
      "source": [
        "# Write a Python program to sum all the items in a dictionary.\n",
        "\n",
        "mark_list = {\"Tom\": 233, \"Tony\": 232, \"Hulk\": 500}\n",
        "print(sum(mark_list.values()))\n"
      ],
      "metadata": {
        "id": "-6ZoInMhw9aI"
      },
      "id": "-6ZoInMhw9aI",
      "execution_count": null,
      "outputs": []
    },
    {
      "cell_type": "markdown",
      "source": [
        "## Functions\n",
        "\n",
        "\n",
        "* A function is a block of code which only runs when it is called.\n",
        "* You can pass data, known as parameters, into a function.\n",
        "* A function can return data as a result.\n",
        "* Function blocks begin with the keyword `def` followed by the function name and parentheses ( ( ) ).\n",
        "```\n",
        "def function_name(parameters):\n",
        "    \"\"\"docstring\"\"\"\n",
        "    # body of the function\n",
        "    return expression\n",
        "```\n",
        "\n"
      ],
      "metadata": {
        "id": "zPA0UpXHixcH"
      },
      "id": "zPA0UpXHixcH"
    },
    {
      "cell_type": "code",
      "source": [
        "# functions definition\n",
        "def greet():\n",
        "    print(\"Hello!\")\n",
        "\n",
        "# function call\n",
        "greet()\n"
      ],
      "metadata": {
        "id": "OS3RYVZXnsOx"
      },
      "id": "OS3RYVZXnsOx",
      "execution_count": null,
      "outputs": []
    },
    {
      "cell_type": "markdown",
      "source": [
        "### Positional Arguments\n"
      ],
      "metadata": {
        "id": "vpOqFvUToUJO"
      },
      "id": "vpOqFvUToUJO"
    },
    {
      "cell_type": "code",
      "source": [
        "def greet_user(username, greet):\n",
        "    print(f\"{greet} {username}\")\n",
        "\n",
        "greet_user('Kevin', 'Hello')"
      ],
      "metadata": {
        "id": "z3J9nO27odzY"
      },
      "id": "z3J9nO27odzY",
      "execution_count": null,
      "outputs": []
    },
    {
      "cell_type": "markdown",
      "source": [
        "### Keyword Arguments\n",
        "* A keyword argument is a name-value pair that you pass to a function.\n",
        "* When you use keyword arguments, be sure to use the exact names of the parameters in the function’s definition."
      ],
      "metadata": {
        "id": "AwzNpHhdo9xy"
      },
      "id": "AwzNpHhdo9xy"
    },
    {
      "cell_type": "code",
      "source": [
        "def greet_user_k(username, greet):\n",
        "    print(f\"{greet} {username}\")\n",
        "\n",
        "greet_user_k(greet='Hola', username='Kevin')"
      ],
      "metadata": {
        "id": "OhkyW5hhpBur"
      },
      "id": "OhkyW5hhpBur",
      "execution_count": null,
      "outputs": []
    },
    {
      "cell_type": "markdown",
      "source": [
        "### Default Values"
      ],
      "metadata": {
        "id": "2gbeK90HpSYp"
      },
      "id": "2gbeK90HpSYp"
    },
    {
      "cell_type": "code",
      "source": [
        "def greeting_user(username, greet='Hello!!!!'):\n",
        "    print(f\"{greet} {username}\")\n",
        "\n",
        "greeting_user('Tim Cook')"
      ],
      "metadata": {
        "id": "6ri-bMoVpXA4"
      },
      "id": "6ri-bMoVpXA4",
      "execution_count": null,
      "outputs": []
    },
    {
      "cell_type": "markdown",
      "source": [
        "# Day 05"
      ],
      "metadata": {
        "id": "RRpGYI_yHMCx"
      },
      "id": "RRpGYI_yHMCx"
    },
    {
      "cell_type": "markdown",
      "source": [
        "### Arbitrary Arguments (Non-Keyword Arguments)\n",
        "* The special syntax `*args` in function definitions in python is used to pass a variable number of arguments to a function. It is used to pass a non-key worded, variable-length argument list."
      ],
      "metadata": {
        "id": "JV__00QCrQGE"
      },
      "id": "JV__00QCrQGE"
    },
    {
      "cell_type": "code",
      "source": [
        "def adder(*numbers):\n",
        "    print(type(numbers))\n",
        "    sum = 0\n",
        "    for num in numbers:\n",
        "        sum += num\n",
        "    return sum\n",
        "\n",
        "print(adder(1, 2, 3, 4, 5))"
      ],
      "metadata": {
        "id": "ZsY2Yy77rpIT"
      },
      "id": "ZsY2Yy77rpIT",
      "execution_count": null,
      "outputs": []
    },
    {
      "cell_type": "markdown",
      "source": [
        "### Arbitrary Arguments (Keyword Arguments)"
      ],
      "metadata": {
        "id": "wNKPC2CWtmzv"
      },
      "id": "wNKPC2CWtmzv"
    },
    {
      "cell_type": "code",
      "source": [
        "def details(**kwargs):\n",
        "    for key, value in kwargs.items():\n",
        "        print(\"%s == %s\" % (key, value))\n",
        " \n",
        "details(name='Tim Cook', age=61, CEO='apple')"
      ],
      "metadata": {
        "id": "qAEtUl7ptppP"
      },
      "id": "qAEtUl7ptppP",
      "execution_count": null,
      "outputs": []
    },
    {
      "cell_type": "markdown",
      "source": [
        "### Return Values\n",
        "* A function doesn’t always have to display its output directly. Instead, it can\n",
        "process some data and then return a value or set of values.\n",
        "* The `return` statement takes a value from inside a function and sends it back to the line that called the function."
      ],
      "metadata": {
        "id": "v6rh4JZaqAEK"
      },
      "id": "v6rh4JZaqAEK"
    },
    {
      "cell_type": "code",
      "source": [
        "def mul(f, s):\n",
        "    return f * s\n",
        "\n",
        "mul(10, 10)\n",
        "print(mul(100, 100))"
      ],
      "metadata": {
        "id": "PaKjGxKLqPkW"
      },
      "id": "PaKjGxKLqPkW",
      "execution_count": null,
      "outputs": []
    },
    {
      "cell_type": "code",
      "source": [
        "\n",
        "def upper(string):\n",
        "    upper_str = ''\n",
        "    for s in string:\n",
        "        if s.isalpha():\n",
        "            upper_str += chr((ord(s) - 32))\n",
        "        else:\n",
        "            upper_str += s\n",
        "    return upper_str\n",
        "\n",
        "string = input(\"Enter you string \")\n",
        "print(upper(string))"
      ],
      "metadata": {
        "id": "gl_pKwL6bPE3",
        "colab": {
          "base_uri": "https://localhost:8080/"
        },
        "outputId": "f77e5718-f420-4953-da42-d49b68b7953e"
      },
      "id": "gl_pKwL6bPE3",
      "execution_count": null,
      "outputs": [
        {
          "output_type": "stream",
          "name": "stdout",
          "text": [
            "Enter you string gdfg\n",
            "GDFG\n"
          ]
        }
      ]
    },
    {
      "cell_type": "markdown",
      "source": [
        "## Modules\n",
        "\n",
        "* A module allows you to logically organize your Python code.\n",
        "* Grouping related code into a module makes the code easier to understand and use.\n",
        "* A module is a Python object with arbitrarily named attributes that you can bind and reference.\n",
        "* A module can define `functions, classes and variables`.\n",
        "* Python source file as a module by executing an `import` statement in some other Python source file.\n",
        "* [more](https://docs.python.org/3/tutorial/modules.html)\n",
        "* [import module from other path](https://www.geeksforgeeks.org/python-import-module-from-different-directory/#:~:text=We%20can%20use%20sys.,module%20in%20its%20current%20directory.)\n"
      ],
      "metadata": {
        "id": "xSBxVv3UHae2"
      },
      "id": "xSBxVv3UHae2"
    },
    {
      "cell_type": "markdown",
      "source": [
        "### User defined modules"
      ],
      "metadata": {
        "id": "4KPM2SnqPjLt"
      },
      "id": "4KPM2SnqPjLt"
    },
    {
      "cell_type": "markdown",
      "source": [
        "### file: `mymodule.py`\n",
        "\n",
        "```\n",
        "myvar = \"Variable from module\"\n",
        "\n",
        "def upper(string):\n",
        "    upper_str = ''\n",
        "    for s in string:\n",
        "        if s.isalpha() and ord(s) in range(97, 123):\n",
        "            upper_str += chr((ord(s) - 32))\n",
        "        else:\n",
        "            upper_str += s\n",
        "    return upper_str\n",
        "\n",
        "\n",
        "def custom_sum(f, s):\n",
        "    return  f + s\n",
        "\n",
        "def print_mod_name():\n",
        "    return __name__\n",
        "\n",
        "if __name__ == '__main__':\n",
        "    print(\"From source mod\", upper(\"HEllo\"))\n",
        "```\n",
        "\n"
      ],
      "metadata": {
        "id": "Dt5W8avoXpzu"
      },
      "id": "Dt5W8avoXpzu"
    },
    {
      "cell_type": "code",
      "source": [
        "import mymodule\n",
        "\n",
        "print(mymodule.upper(\"hello\"))"
      ],
      "metadata": {
        "colab": {
          "base_uri": "https://localhost:8080/"
        },
        "id": "SAA8YpUtIcWS",
        "outputId": "47dd17e6-b8c7-4d23-a874-532a15b3c326"
      },
      "id": "SAA8YpUtIcWS",
      "execution_count": null,
      "outputs": [
        {
          "output_type": "stream",
          "name": "stdout",
          "text": [
            "HELLO\n"
          ]
        }
      ]
    },
    {
      "cell_type": "code",
      "source": [
        "from mymodule import myvar\n",
        "\n",
        "print(myvar)"
      ],
      "metadata": {
        "colab": {
          "base_uri": "https://localhost:8080/"
        },
        "id": "0QZ0J4MVJepR",
        "outputId": "5f6d8696-5222-416f-9423-3066b3ff585e"
      },
      "id": "0QZ0J4MVJepR",
      "execution_count": null,
      "outputs": [
        {
          "output_type": "stream",
          "name": "stdout",
          "text": [
            "Variable from module\n"
          ]
        }
      ]
    },
    {
      "cell_type": "code",
      "source": [
        "print(__name__)"
      ],
      "metadata": {
        "colab": {
          "base_uri": "https://localhost:8080/"
        },
        "id": "5AxSNZblJpLI",
        "outputId": "e59558b1-23e3-4598-8cb9-b2badc9787c7"
      },
      "id": "5AxSNZblJpLI",
      "execution_count": null,
      "outputs": [
        {
          "output_type": "stream",
          "name": "stdout",
          "text": [
            "__main__\n"
          ]
        }
      ]
    },
    {
      "cell_type": "code",
      "source": [
        "import mymodule as my_mod\n",
        "\n",
        "print(f\"Load module name is '{my_mod.print_mod_name()}'\")\n",
        "\n",
        "print(\"Find out which names a module defines.\")\n",
        "print(dir(my_mod))"
      ],
      "metadata": {
        "colab": {
          "base_uri": "https://localhost:8080/"
        },
        "id": "NjxPV-fyJ3Mf",
        "outputId": "f315a8d8-0936-4a18-da10-18681576ae49"
      },
      "id": "NjxPV-fyJ3Mf",
      "execution_count": null,
      "outputs": [
        {
          "output_type": "stream",
          "name": "stdout",
          "text": [
            "Load module name is 'mymodule'\n",
            "Find out which names a module defines.\n",
            "['__builtins__', '__cached__', '__doc__', '__file__', '__loader__', '__name__', '__package__', '__spec__', 'custom_sum', 'myvar', 'print_mod_name', 'upper']\n"
          ]
        }
      ]
    },
    {
      "cell_type": "markdown",
      "source": [
        "# Day 06"
      ],
      "metadata": {
        "id": "ZC6cSBGh-8Ue"
      },
      "id": "ZC6cSBGh-8Ue"
    },
    {
      "cell_type": "markdown",
      "source": [
        "### Working with *Standard Modules*\n",
        "* Python comes with a library of standard modules.\n",
        "* [Python3 Library Ref](https://docs.python.org/3/library/)\n"
      ],
      "metadata": {
        "id": "NswMz08TLMyk"
      },
      "id": "NswMz08TLMyk"
    },
    {
      "cell_type": "code",
      "source": [
        "import datetime as date\n",
        "import math\n",
        "import os\n",
        "import sys\n",
        "\n",
        "\n",
        "print(f\"Year: {date.datetime.now()}\")\n",
        "\n",
        "print(f\"Squre root of 64 is {math.sqrt(64)}\")\n",
        "print(f\"Value of sin(90) is {math.sin(30)}\")\n",
        "print(f\"Ceil value of 5.69 is {math.ceil(5.69)}\")\n",
        "\n",
        "print(os.environ['HOME'])\n",
        "print(os.environ['PWD'])\n",
        "print(os.getpid())\n",
        "\n",
        "print(f\"Current platform is {sys.platform}\")\n",
        "\n"
      ],
      "metadata": {
        "colab": {
          "base_uri": "https://localhost:8080/"
        },
        "id": "GeL-dVozLr7G",
        "outputId": "08fc58aa-9e49-420b-bcb1-1957640f9acc"
      },
      "id": "GeL-dVozLr7G",
      "execution_count": null,
      "outputs": [
        {
          "output_type": "stream",
          "name": "stdout",
          "text": [
            "Year: 2022-07-26 02:24:24.102988\n",
            "Squre root of 64 is 8.0\n",
            "Value of sin(90) is -0.9880316240928618\n",
            "Ceil value of 5.69 is 6\n",
            "/root\n",
            "/\n",
            "59\n",
            "Current platform is linux\n"
          ]
        }
      ]
    },
    {
      "cell_type": "markdown",
      "source": [
        "## Reading and Writing (File I/O)\n",
        "\n",
        "* Python provides inbuilt functions for creating, writing, and reading files. \n",
        "* There are two types of files that can be handled in python, normal text files and binary files."
      ],
      "metadata": {
        "id": "LeLkRdl_kap5"
      },
      "id": "LeLkRdl_kap5"
    },
    {
      "cell_type": "markdown",
      "source": [
        "### Opening and Closing a File in Python\n",
        "\n",
        "Function to to read and write files\n",
        "\n",
        "`open(\"file_name\", \"file access mode\")`\n",
        "\n",
        "Eg: `file = open('dog_breeds.txt')`\n"
      ],
      "metadata": {
        "id": "I2trVsPZksD9"
      },
      "id": "I2trVsPZksD9"
    },
    {
      "cell_type": "code",
      "source": [
        "%shell echo -e \"Hello World\\nHello World!\\n\" > ./demo.txt\n",
        "\n",
        "%ls -la"
      ],
      "metadata": {
        "colab": {
          "base_uri": "https://localhost:8080/"
        },
        "id": "Co2ONgFQpIQm",
        "outputId": "3d72d94f-bf9f-4cda-839c-bcaf16ee0c21"
      },
      "id": "Co2ONgFQpIQm",
      "execution_count": null,
      "outputs": [
        {
          "output_type": "stream",
          "name": "stdout",
          "text": [
            "total 28\n",
            "drwxr-xr-x 1 root root 4096 Jul 24 14:40 \u001b[0m\u001b[01;34m.\u001b[0m/\n",
            "drwxr-xr-x 1 root root 4096 Jul 24 12:08 \u001b[01;34m..\u001b[0m/\n",
            "drwxr-xr-x 4 root root 4096 Jul 13 13:42 \u001b[01;34m.config\u001b[0m/\n",
            "-rw-r--r-- 1 root root   26 Jul 24 15:35 demo.txt\n",
            "-rw-r--r-- 1 root root  374 Jul 24 12:21 mymodule.py\n",
            "drwxr-xr-x 2 root root 4096 Jul 24 12:23 \u001b[01;34m__pycache__\u001b[0m/\n",
            "drwxr-xr-x 1 root root 4096 Jul 13 13:43 \u001b[01;34msample_data\u001b[0m/\n"
          ]
        }
      ]
    },
    {
      "cell_type": "markdown",
      "source": [
        ""
      ],
      "metadata": {
        "id": "nw-BGT3KqFMP"
      },
      "id": "nw-BGT3KqFMP"
    },
    {
      "cell_type": "code",
      "source": [
        "\n",
        "file = open('demo.txt')\n",
        "file.close()"
      ],
      "metadata": {
        "id": "nns2eknx1zA_"
      },
      "id": "nns2eknx1zA_",
      "execution_count": null,
      "outputs": []
    },
    {
      "cell_type": "code",
      "source": [
        "# reading content from the file\n",
        "\n",
        "file = open('demo.txt')\n",
        "print(file.read())\n",
        "\n",
        "file.seek(0)\n",
        "print(file.read(2))\n",
        "\n",
        "file.seek(0)\n",
        "print(file.readline())\n",
        "\n",
        "file.seek(0)\n",
        "print(file.readlines())\n"
      ],
      "metadata": {
        "colab": {
          "base_uri": "https://localhost:8080/"
        },
        "id": "iXrleSTd164w",
        "outputId": "eee66d0a-01fb-4e66-b72f-7cb0b40db3a1"
      },
      "id": "iXrleSTd164w",
      "execution_count": null,
      "outputs": [
        {
          "output_type": "stream",
          "name": "stdout",
          "text": [
            "Hello World\n",
            "Hello World!\n",
            "\n",
            "\n",
            "He\n",
            "Hello World\n",
            "\n",
            "['Hello World\\n', 'Hello World!\\n', '\\n']\n"
          ]
        }
      ]
    },
    {
      "cell_type": "code",
      "source": [
        "# Writing to the file\n",
        "\n",
        "file = open(r'file.txt', 'w+')\n",
        "file.write(\"Hello, Sample text\\n\")\n",
        "\n",
        "content = [\"Python\\n\", \"is\\n\", \"a nice language\"]\n",
        "file.writelines(content)\n",
        "file.close()\n"
      ],
      "metadata": {
        "id": "aBDqvDi1_sT6"
      },
      "id": "aBDqvDi1_sT6",
      "execution_count": null,
      "outputs": []
    },
    {
      "cell_type": "code",
      "source": [
        "%ls -l file.txt\n",
        "%cat file.txt"
      ],
      "metadata": {
        "colab": {
          "base_uri": "https://localhost:8080/"
        },
        "id": "wEOarb-AEtPQ",
        "outputId": "9eaa9f98-5992-4a77-e54e-552d949a86fe"
      },
      "id": "wEOarb-AEtPQ",
      "execution_count": null,
      "outputs": [
        {
          "output_type": "stream",
          "name": "stdout",
          "text": [
            "-rw-r--r-- 1 root root 44 Jul 25 17:49 file.txt\n",
            "Hello, Sample text\n",
            "Python\n",
            "is\n",
            "a nice language"
          ]
        }
      ]
    },
    {
      "cell_type": "code",
      "source": [
        "# Iterating Over Each Line in the File\n",
        "\n",
        "with open('/etc/passwd', 'r') as reader:\n",
        "    line = reader.readline()\n",
        "    while line != '': # '' is representing the EOF\n",
        "        print(line, end='')\n",
        "        line = reader.readline()\n"
      ],
      "metadata": {
        "colab": {
          "base_uri": "https://localhost:8080/"
        },
        "id": "oi5wLKvtFMsG",
        "outputId": "1ed47999-030f-427a-bc9a-d2ce84f09747"
      },
      "id": "oi5wLKvtFMsG",
      "execution_count": null,
      "outputs": [
        {
          "output_type": "stream",
          "name": "stdout",
          "text": [
            "root:x:0:0:root:/root:/bin/bash\n",
            "daemon:x:1:1:daemon:/usr/sbin:/usr/sbin/nologin\n",
            "bin:x:2:2:bin:/bin:/usr/sbin/nologin\n",
            "sys:x:3:3:sys:/dev:/usr/sbin/nologin\n",
            "sync:x:4:65534:sync:/bin:/bin/sync\n",
            "games:x:5:60:games:/usr/games:/usr/sbin/nologin\n",
            "man:x:6:12:man:/var/cache/man:/usr/sbin/nologin\n",
            "lp:x:7:7:lp:/var/spool/lpd:/usr/sbin/nologin\n",
            "mail:x:8:8:mail:/var/mail:/usr/sbin/nologin\n",
            "news:x:9:9:news:/var/spool/news:/usr/sbin/nologin\n",
            "uucp:x:10:10:uucp:/var/spool/uucp:/usr/sbin/nologin\n",
            "proxy:x:13:13:proxy:/bin:/usr/sbin/nologin\n",
            "www-data:x:33:33:www-data:/var/www:/usr/sbin/nologin\n",
            "backup:x:34:34:backup:/var/backups:/usr/sbin/nologin\n",
            "list:x:38:38:Mailing List Manager:/var/list:/usr/sbin/nologin\n",
            "irc:x:39:39:ircd:/var/run/ircd:/usr/sbin/nologin\n",
            "gnats:x:41:41:Gnats Bug-Reporting System (admin):/var/lib/gnats:/usr/sbin/nologin\n",
            "nobody:x:65534:65534:nobody:/nonexistent:/usr/sbin/nologin\n",
            "_apt:x:100:65534::/nonexistent:/usr/sbin/nologin\n",
            "systemd-network:x:101:104:systemd Network Management,,,:/run/systemd/netif:/usr/sbin/nologin\n",
            "systemd-resolve:x:102:105:systemd Resolver,,,:/run/systemd/resolve:/usr/sbin/nologin\n",
            "messagebus:x:103:107::/nonexistent:/usr/sbin/nologin\n",
            "nvidia-persistenced:x:104:108:NVIDIA Persistence Daemon,,,:/nonexistent:/usr/sbin/nologin\n"
          ]
        }
      ]
    },
    {
      "cell_type": "code",
      "source": [
        "# Example: read from /etc/passwd and check any login shell is present\n",
        "\n",
        "with open('/etc/passwd', 'r') as reader:\n",
        "    for line in reader:\n",
        "        stripped_line = line.strip()\n",
        "        user = stripped_line.split(':')[0]\n",
        "        shell = stripped_line.split(':')[6]\n",
        "\n",
        "        if shell == '/usr/sbin/nologin':\n",
        "            continue\n",
        "        print(f\"{user} is {shell}\")"
      ],
      "metadata": {
        "colab": {
          "base_uri": "https://localhost:8080/"
        },
        "id": "Z50y9tyiGEKx",
        "outputId": "4bf45d77-7998-4e45-8f71-50cb0b60d7a0"
      },
      "id": "Z50y9tyiGEKx",
      "execution_count": null,
      "outputs": [
        {
          "output_type": "stream",
          "name": "stdout",
          "text": [
            "root is /bin/bash\n",
            "sync is /bin/sync\n"
          ]
        }
      ]
    },
    {
      "cell_type": "code",
      "source": [
        "%shell wget https://upload.wikimedia.org/wikipedia/commons/e/e6/1kb.png -O computer.png"
      ],
      "metadata": {
        "colab": {
          "base_uri": "https://localhost:8080/"
        },
        "id": "zXTh7kAZOVU3",
        "outputId": "81d20a9f-825a-42e1-a1bd-391dec841d94"
      },
      "id": "zXTh7kAZOVU3",
      "execution_count": null,
      "outputs": [
        {
          "output_type": "stream",
          "name": "stdout",
          "text": [
            "--2022-07-26 02:56:52--  https://upload.wikimedia.org/wikipedia/commons/e/e6/1kb.png\n",
            "Resolving upload.wikimedia.org (upload.wikimedia.org)... 103.102.166.240, 2001:df2:e500:ed1a::2:b\n",
            "Connecting to upload.wikimedia.org (upload.wikimedia.org)|103.102.166.240|:443... connected.\n",
            "HTTP request sent, awaiting response... 200 OK\n",
            "Length: 1049 (1.0K) [image/png]\n",
            "Saving to: ‘computer.png’\n",
            "\n",
            "computer.png        100%[===================>]   1.02K  --.-KB/s    in 0s      \n",
            "\n",
            "2022-07-26 02:56:52 (289 MB/s) - ‘computer.png’ saved [1049/1049]\n",
            "\n"
          ]
        },
        {
          "output_type": "execute_result",
          "data": {
            "text/plain": [
              ""
            ]
          },
          "metadata": {},
          "execution_count": 3
        }
      ]
    },
    {
      "cell_type": "code",
      "source": [
        "# Reading binary file\n",
        "\n",
        "image_file = open(r'computer.png', 'rb')\n",
        "print(image_file.readlines())"
      ],
      "metadata": {
        "colab": {
          "base_uri": "https://localhost:8080/"
        },
        "id": "EB2tnAHYOdKe",
        "outputId": "11d93a4b-6256-49e9-90c9-1bf2ea469529"
      },
      "id": "EB2tnAHYOdKe",
      "execution_count": null,
      "outputs": [
        {
          "output_type": "stream",
          "name": "stdout",
          "text": [
            "[b'\\x89PNG\\r\\n', b'\\x1a\\n', b'\\x00\\x00\\x00\\rIHDR\\x00\\x00\\x00\\x11\\x00\\x00\\x00\\x0e\\x08\\x03\\x00\\x00\\x00\\xfe3\\x07\\x86\\x00\\x00\\x03\\x00PLTE\\x00\\x00\\x00\\x00\\x00U\\x00\\x00\\xaa\\x00\\x00\\xff\\x00$\\x00\\x00$U\\x00$\\xaa\\x00$\\xff\\x00I\\x00\\x00IU\\x00I\\xaa\\x00I\\xff\\x00m\\x00\\x00mU\\x00m\\xaa\\x00m\\xff\\x00\\x92\\x00\\x00\\x92U\\x00\\x92\\xaa\\x00\\x92\\xff\\x00\\xb6\\x00\\x00\\xb6U\\x00\\xb6\\xaa\\x00\\xb6\\xff\\x00\\xdb\\x00\\x00\\xdbU\\x00\\xdb\\xaa\\x00\\xdb\\xff\\x00\\xff\\x00\\x00\\xffU\\x00\\xff\\xaa\\x00\\xff\\xff$\\x00\\x00$\\x00U$\\x00\\xaa$\\x00\\xff$$\\x00$$U$$\\xaa$$\\xff$I\\x00$IU$I\\xaa$I\\xff$m\\x00$mU$m\\xaa$m\\xff$\\x92\\x00$\\x92U$\\x92\\xaa$\\x92\\xff$\\xb6\\x00$\\xb6U$\\xb6\\xaa$\\xb6\\xff$\\xdb\\x00$\\xdbU$\\xdb\\xaa$\\xdb\\xff$\\xff\\x00$\\xffU$\\xff\\xaa$\\xff\\xffI\\x00\\x00I\\x00UI\\x00\\xaaI\\x00\\xffI$\\x00I$UI$\\xaaI$\\xffII\\x00IIUII\\xaaII\\xffIm\\x00ImUIm\\xaaIm\\xffI\\x92\\x00I\\x92UI\\x92\\xaaI\\x92\\xffI\\xb6\\x00I\\xb6UI\\xb6\\xaaI\\xb6\\xffI\\xdb\\x00I\\xdbUI\\xdb\\xaaI\\xdb\\xffI\\xff\\x00I\\xffUI\\xff\\xaaI\\xff\\xffm\\x00\\x00m\\x00Um\\x00\\xaam\\x00\\xffm$\\x00m$Um$\\xaam$\\xffmI\\x00mIUmI\\xaamI\\xffmm\\x00mmUmm\\xaamm\\xffm\\x92\\x00m\\x92Um\\x92\\xaam\\x92\\xffm\\xb6\\x00m\\xb6Um\\xb6\\xaam\\xb6\\xffm\\xdb\\x00m\\xdbUm\\xdb\\xaam\\xdb\\xffm\\xff\\x00m\\xffUm\\xff\\xaam\\xff\\xff\\x92\\x00\\x00\\x92\\x00U\\x92\\x00\\xaa\\x92\\x00\\xff\\x92$\\x00\\x92$U\\x92$\\xaa\\x92$\\xff\\x92I\\x00\\x92IU\\x92I\\xaa\\x92I\\xff\\x92m\\x00\\x92mU\\x92m\\xaa\\x92m\\xff\\x92\\x92\\x00\\x92\\x92U\\x92\\x92\\xaa\\x92\\x92\\xff\\x92\\xb6\\x00\\x92\\xb6U\\x92\\xb6\\xaa\\x92\\xb6\\xff\\x92\\xdb\\x00\\x92\\xdbU\\x92\\xdb\\xaa\\x92\\xdb\\xff\\x92\\xff\\x00\\x92\\xffU\\x92\\xff\\xaa\\x92\\xff\\xff\\xb6\\x00\\x00\\xb6\\x00U\\xb6\\x00\\xaa\\xb6\\x00\\xff\\xb6$\\x00\\xb6$U\\xb6$\\xaa\\xb6$\\xff\\xb6I\\x00\\xb6IU\\xb6I\\xaa\\xb6I\\xff\\xb6m\\x00\\xb6mU\\xb6m\\xaa\\xb6m\\xff\\xb6\\x92\\x00\\xb6\\x92U\\xb6\\x92\\xaa\\xb6\\x92\\xff\\xb6\\xb6\\x00\\xb6\\xb6U\\xb6\\xb6\\xaa\\xb6\\xb6\\xff\\xb6\\xdb\\x00\\xb6\\xdbU\\xb6\\xdb\\xaa\\xb6\\xdb\\xff\\xb6\\xff\\x00\\xb6\\xffU\\xb6\\xff\\xaa\\xb6\\xff\\xff\\xdb\\x00\\x00\\xdb\\x00U\\xdb\\x00\\xaa\\xdb\\x00\\xff\\xdb$\\x00\\xdb$U\\xdb$\\xaa\\xdb$\\xff\\xdbI\\x00\\xdbIU\\xdbI\\xaa\\xdbI\\xff\\xdbm\\x00\\xdbmU\\xdbm\\xaa\\xdbm\\xff\\xdb\\x92\\x00\\xdb\\x92U\\xdb\\x92\\xaa\\xdb\\x92\\xff\\xdb\\xb6\\x00\\xdb\\xb6U\\xdb\\xb6\\xaa\\xdb\\xb6\\xff\\xdb\\xdb\\x00\\xdb\\xdbU\\xdb\\xdb\\xaa\\xdb\\xdb\\xff\\xdb\\xff\\x00\\xdb\\xffU\\xdb\\xff\\xaa\\xdb\\xff\\xff\\xff\\x00\\x00\\xff\\x00U\\xff\\x00\\xaa\\xff\\x00\\xff\\xff$\\x00\\xff$U\\xff$\\xaa\\xff$\\xff\\xffI\\x00\\xffIU\\xffI\\xaa\\xffI\\xff\\xffm\\x00\\xffmU\\xffm\\xaa\\xffm\\xff\\xff\\x92\\x00\\xff\\x92U\\xff\\x92\\xaa\\xff\\x92\\xff\\xff\\xb6\\x00\\xff\\xb6U\\xff\\xb6\\xaa\\xff\\xb6\\xff\\xff\\xdb\\x00\\xff\\xdbU\\xff\\xdb\\xaa\\xff\\xdb\\xff\\xff\\xff\\x00\\xff\\xffU\\xff\\xff\\xaa\\xff\\xff\\xff\\xea\\x9bn.\\x00\\x00\\x00\\xd4IDATx\\xda\\x1dO1n\\x02A\\x0c\\x1c\\xefy\\xa5\\x14\\x91\\x82@(E\"\\x9d\\x11\\x87DA\\x19^@\\x15E\\xca\\x0b\\xf2\\x8f|!]\\xaa\\xbc\\x84\\x82\\x82|!}\\n', b\"\\x10^\\xb8\\xabC\\xcf\\x9e\\x8c7\\x8d=\\x96\\xc73c\\xfa\\x00 \\x00g\\xef\\xbc7B@\\x81\\xe8Jq\\x98p`\\xc4\\xdaq\\xfd\\xd8:\\x11\\xa96\\t\\xd9\\xb4\\xdc\\xb0\\xa8*\\x84\\x88\\xb8\\xedW`\\x01cf\\xc0T\\x85\\x03U\\x00\\x01=\\xacHW'\\xab\\xc6\\xb7\\xc7\\xfc\\xe4\\x90\\x9a\\xe1ht\\xf77\\xe8C\\xdd\\xa1\\xfbf\\xe6\\x9b\\x18u\\xfbn\\xc4\\x8c\\x87\\x1c\\x13$\\xba\\xf7z\\xf7\\xf5{I\\xc1U\\xcc&\\xa9\\xc4\\xd9\\xb9\\xabJ\\xa0\\x96\\x81\\xed\\xd4\\x87\\x8d6]3A\\xb5\\x1c\\x14\\xd6y\\xf9r\\xff\\xfa\\xb6\\x10\\x1e\\xff\\x04K\\xe4\\xe6\\xf9\\xb3y\\x06\\x89\\xef\\xfcJ<\\x89\\xa9\\xce\\xff?\\xb3\\x88+\\x84\\x0cG\\x97@\\xec\\xa8e\\x00\\x00\\x00\\x00IEND\\xaeB`\\x82\"]\n"
          ]
        }
      ]
    },
    {
      "cell_type": "markdown",
      "source": [
        "## Exception Handling\n",
        "* Error in Python can be of two types i.e. [Syntax errors and Exceptions](https://www.geeksforgeeks.org/errors-and-exceptions-in-python/). "
      ],
      "metadata": {
        "id": "Lspnm2_iR9Dj"
      },
      "id": "Lspnm2_iR9Dj"
    },
    {
      "cell_type": "code",
      "source": [
        "# syntax errors\n",
        "\n",
        "amount = 10000\n",
        "\n",
        "if(amount > 2999)\n",
        "print(\"You are eligible to purchase Dsa Self Paced\")"
      ],
      "metadata": {
        "colab": {
          "base_uri": "https://localhost:8080/",
          "height": 130
        },
        "id": "TUFGEO7sSWMg",
        "outputId": "b8c63d66-daa7-43cb-f0c4-568275ccb92b"
      },
      "id": "TUFGEO7sSWMg",
      "execution_count": null,
      "outputs": [
        {
          "output_type": "error",
          "ename": "SyntaxError",
          "evalue": "ignored",
          "traceback": [
            "\u001b[0;36m  File \u001b[0;32m\"<ipython-input-96-82138608d563>\"\u001b[0;36m, line \u001b[0;32m5\u001b[0m\n\u001b[0;31m    if(amount > 2999)\u001b[0m\n\u001b[0m                     ^\u001b[0m\n\u001b[0;31mSyntaxError\u001b[0m\u001b[0;31m:\u001b[0m invalid syntax\n"
          ]
        }
      ]
    },
    {
      "cell_type": "code",
      "source": [
        "# Logical errors (Exceptions)\n",
        "\n",
        "dividend = 1000\n",
        "divisors = [1, 5, 50, 0, 100, 1, 2]\n",
        "\n",
        "for d in divisors:\n",
        "    print(dividend / d)"
      ],
      "metadata": {
        "colab": {
          "base_uri": "https://localhost:8080/",
          "height": 252
        },
        "id": "8gYTRPkKSmrO",
        "outputId": "895d7d5f-d7f9-4754-e6ea-8eabd813e7f9"
      },
      "id": "8gYTRPkKSmrO",
      "execution_count": null,
      "outputs": [
        {
          "output_type": "stream",
          "name": "stdout",
          "text": [
            "1000.0\n",
            "200.0\n",
            "20.0\n"
          ]
        },
        {
          "output_type": "error",
          "ename": "ZeroDivisionError",
          "evalue": "ignored",
          "traceback": [
            "\u001b[0;31m---------------------------------------------------------------------------\u001b[0m",
            "\u001b[0;31mZeroDivisionError\u001b[0m                         Traceback (most recent call last)",
            "\u001b[0;32m<ipython-input-97-9ac5b7588210>\u001b[0m in \u001b[0;36m<module>\u001b[0;34m()\u001b[0m\n\u001b[1;32m      5\u001b[0m \u001b[0;34m\u001b[0m\u001b[0m\n\u001b[1;32m      6\u001b[0m \u001b[0;32mfor\u001b[0m \u001b[0md\u001b[0m \u001b[0;32min\u001b[0m \u001b[0mdivisors\u001b[0m\u001b[0;34m:\u001b[0m\u001b[0;34m\u001b[0m\u001b[0;34m\u001b[0m\u001b[0m\n\u001b[0;32m----> 7\u001b[0;31m     \u001b[0mprint\u001b[0m\u001b[0;34m(\u001b[0m\u001b[0mdividend\u001b[0m \u001b[0;34m/\u001b[0m \u001b[0md\u001b[0m\u001b[0;34m)\u001b[0m\u001b[0;34m\u001b[0m\u001b[0;34m\u001b[0m\u001b[0m\n\u001b[0m",
            "\u001b[0;31mZeroDivisionError\u001b[0m: division by zero"
          ]
        }
      ]
    },
    {
      "cell_type": "markdown",
      "source": [
        "### Try and Except Statement – Catching Exceptions\n",
        "\n",
        "Try and except statements are used to catch and handle exceptions in Python. Statements that can raise exceptions are kept inside the try clause and the statements that handle the exception are written inside except clause.\n"
      ],
      "metadata": {
        "id": "H9rgc_T4TK43"
      },
      "id": "H9rgc_T4TK43"
    },
    {
      "cell_type": "code",
      "source": [
        "# Logical errors (Exceptions)\n",
        "\n",
        "dividend = 1000\n",
        "divisors = [1, 5, 50, 0, 100, 1, 2]\n",
        "\n",
        "try:\n",
        "    for d in divisors:\n",
        "        print(dividend / d)\n",
        "except:\n",
        "    print(\"Unsupported mathematical operation\")"
      ],
      "metadata": {
        "colab": {
          "base_uri": "https://localhost:8080/"
        },
        "id": "C2jaeI6KTKMN",
        "outputId": "040e49c5-ad8a-466f-e63f-ac19fe2e97c1"
      },
      "id": "C2jaeI6KTKMN",
      "execution_count": null,
      "outputs": [
        {
          "output_type": "stream",
          "name": "stdout",
          "text": [
            "Unsupported mathematical operation\n"
          ]
        }
      ]
    },
    {
      "cell_type": "markdown",
      "source": [
        "### Catching Specific Exception"
      ],
      "metadata": {
        "id": "wSVhu-yzTn0x"
      },
      "id": "wSVhu-yzTn0x"
    },
    {
      "cell_type": "code",
      "source": [
        "# Logical errors (Exceptions)\n",
        "\n",
        "dividend = 1000\n",
        "divisors = [1, 5, 50, 0, 100, 1, 2]\n",
        "\n",
        "try:\n",
        "    for d in divisors:\n",
        "        print(dividend / d)\n",
        "    value = divisors[1000]\n",
        "except ZeroDivisionError:\n",
        "    print(\"Unsupported mathematical operation.\")\n",
        "except IndexError:\n",
        "    print(\"Accessing element from out of list.\")"
      ],
      "metadata": {
        "colab": {
          "base_uri": "https://localhost:8080/"
        },
        "id": "UzkywBdJTpb7",
        "outputId": "804a9ec6-2cdf-4adb-d6d4-fe5408f375aa"
      },
      "id": "UzkywBdJTpb7",
      "execution_count": null,
      "outputs": [
        {
          "output_type": "stream",
          "name": "stdout",
          "text": [
            "1000.0\n",
            "200.0\n",
            "20.0\n",
            "Unsupported mathematical operation.\n"
          ]
        }
      ]
    },
    {
      "cell_type": "markdown",
      "source": [
        "# Examples"
      ],
      "metadata": {
        "id": "yXKjIm4a_Hus"
      },
      "id": "yXKjIm4a_Hus"
    },
    {
      "cell_type": "code",
      "source": [
        "# Return in conditionals\n",
        "\n",
        "def odd_or_even(num):\n",
        "\n",
        "    if num % 2 == 0:\n",
        "        return \"Even\"\n",
        "    else:\n",
        "        return 'Odd'\n",
        "\n",
        "print(odd_or_even(5))\n",
        "print(odd_or_even(6))\n"
      ],
      "metadata": {
        "colab": {
          "base_uri": "https://localhost:8080/"
        },
        "id": "_jptpnan18I0",
        "outputId": "f736f7ee-d30e-4802-d284-95380181a3fb"
      },
      "id": "_jptpnan18I0",
      "execution_count": 1,
      "outputs": [
        {
          "output_type": "stream",
          "name": "stdout",
          "text": [
            "Odd\n",
            "Even\n"
          ]
        }
      ]
    },
    {
      "cell_type": "code",
      "source": [
        "# code: custom file copy script\n",
        "#\n",
        "#!/usr/bin/python3\n",
        "\n",
        "import os.path\n",
        "import shutil\n",
        "import sys\n",
        "\n",
        "if len(sys.argv) < 2:\n",
        "    print(\"copy: missing src and dest\")\n",
        "    print(\"Usage: copy <src> <dest>\")\n",
        "    sys.exit(1)\n",
        "\n",
        "src = sys.argv[1]\n",
        "dest = sys.argv[2]\n",
        "\n",
        "try:\n",
        "    \n",
        "    if os.path.isfile(src):\n",
        "        shutil.copy(src, dest)\n",
        "    else:\n",
        "        print(\"Source file not exist or it's directory\")\n",
        "\n",
        "except shutil.SameFileError:\n",
        "    print(\"Source and destination are same file\")\n",
        "\n",
        "except PermissionError:\n",
        "    print(\"Permission denied.\")\n"
      ],
      "metadata": {
        "id": "XVUB5-8Pxc1W"
      },
      "id": "XVUB5-8Pxc1W",
      "execution_count": null,
      "outputs": []
    },
    {
      "cell_type": "code",
      "source": [
        "# Program: port_scanner.py\n",
        "\n",
        "import socket\n",
        "\n",
        "if __name__ == '__main__':\n",
        "\n",
        "    target = input(\"Enter the hostname for scan: \")\n",
        "    target_port = input(\"Enter the port number for scan: \")\n",
        "    target_ip = socket.gethostbyname(target)\n",
        "\n",
        "\n",
        "    s = socket.socket(socket.AF_INET, socket.SOCK_STREAM)\n",
        "    s.settimeout(10)\n",
        "    conn = s.connect_ex((target_ip, int(target_port)))\n",
        "    \n",
        "\n",
        "    if conn == 0:\n",
        "        print(f\"Port {target_port} is OPEN\")\n",
        "    s.close()\n"
      ],
      "metadata": {
        "id": "3KBCwuYF_LDf"
      },
      "id": "3KBCwuYF_LDf",
      "execution_count": null,
      "outputs": []
    },
    {
      "cell_type": "code",
      "source": [
        "# Program: port_scanner.py\n",
        "#\n",
        "# Feature: Cli\n",
        "\n",
        "import socket\n",
        "import sys\n",
        "\n",
        "usage=\"\"\"\n",
        "Usage: python3 port_scanner.py [-h] <ip> <port>\n",
        "\"\"\"\n",
        "\n",
        "if __name__ == '__main__':\n",
        "\n",
        "    if len(sys.argv) == 3:\n",
        "        if '-h' in sys.argv:\n",
        "            print(usage)\n",
        "        else:\n",
        "            target = sys.argv[1]\n",
        "            target_port = sys.argv[2]\n",
        "            target_ip = socket.gethostbyname(target)\n",
        "\n",
        "\n",
        "            s = socket.socket(socket.AF_INET, socket.SOCK_STREAM)\n",
        "            s.settimeout(10)\n",
        "            conn = s.connect_ex((target_ip, int(target_port)))\n",
        "            \n",
        "\n",
        "            if conn == 0:\n",
        "                print(f\"Port {target_port} is OPEN\")\n",
        "            s.close()\n",
        "    else:\n",
        "        print(usage)\n",
        "        sys.exit(1)"
      ],
      "metadata": {
        "id": "N3o6Z7QB_UFE"
      },
      "id": "N3o6Z7QB_UFE",
      "execution_count": null,
      "outputs": []
    },
    {
      "cell_type": "code",
      "source": [
        "#!/usr/bin/env python3\n",
        "# mydu.py\n",
        "\n",
        "import os\n",
        "import sys\n",
        "\n",
        "\n",
        "def print_usage():\n",
        "    print(\"Usage: python3 mydu.py <dir>\")\n",
        "\n",
        "def filesize(path):\n",
        "    try:\n",
        "        for dirpath, dirname, filenames in os.walk(path):\n",
        "            for filename in filenames:\n",
        "                filepath = os.path.join(dirpath, filename)\n",
        "                _bytes  = os.path.getsize(filepath)\n",
        "                print(f\"{_bytes}\\t{filepath}\")\n",
        "    except:\n",
        "        print(\"Unexpected things happened\")\n",
        "\n",
        "def main(argv):\n",
        "    if not len(argv) == 1:\n",
        "        print_usage()\n",
        "    \n",
        "    path = argv[0]\n",
        "    filesize(path)\n",
        "\n",
        "if __name__ == '__main__':\n",
        "    main(sys.argv[1:])\n"
      ],
      "metadata": {
        "colab": {
          "base_uri": "https://localhost:8080/"
        },
        "id": "SfvtWORRYOpe",
        "outputId": "5cc1cfac-a9e8-4bd8-fc64-3c3cbd7b43c9"
      },
      "id": "SfvtWORRYOpe",
      "execution_count": 18,
      "outputs": [
        {
          "output_type": "stream",
          "name": "stdout",
          "text": [
            "Usage: python3 mydu.py <dir>\n"
          ]
        }
      ]
    },
    {
      "cell_type": "code",
      "source": [
        "%shell wget https://raw.githubusercontent.com/elastic/examples/master/Common%20Data%20Formats/apache_logs/apache_logs -O apache2-access.log"
      ],
      "metadata": {
        "colab": {
          "base_uri": "https://localhost:8080/"
        },
        "id": "bNCNnhF9b0xa",
        "outputId": "a05910fe-caf1-455f-e316-02b68ad2a5b4"
      },
      "id": "bNCNnhF9b0xa",
      "execution_count": 2,
      "outputs": [
        {
          "output_type": "stream",
          "name": "stdout",
          "text": [
            "--2022-07-27 16:14:02--  https://raw.githubusercontent.com/elastic/examples/master/Common%20Data%20Formats/apache_logs/apache_logs\n",
            "Resolving raw.githubusercontent.com (raw.githubusercontent.com)... 185.199.108.133, 185.199.109.133, 185.199.110.133, ...\n",
            "Connecting to raw.githubusercontent.com (raw.githubusercontent.com)|185.199.108.133|:443... connected.\n",
            "HTTP request sent, awaiting response... 200 OK\n",
            "Length: 2370789 (2.3M) [text/plain]\n",
            "Saving to: ‘apache2-access.log’\n",
            "\n",
            "\rapache2-access.log    0%[                    ]       0  --.-KB/s               \rapache2-access.log  100%[===================>]   2.26M  --.-KB/s    in 0.01s   \n",
            "\n",
            "2022-07-27 16:14:02 (180 MB/s) - ‘apache2-access.log’ saved [2370789/2370789]\n",
            "\n"
          ]
        },
        {
          "output_type": "execute_result",
          "data": {
            "text/plain": [
              ""
            ]
          },
          "metadata": {},
          "execution_count": 2
        }
      ]
    },
    {
      "cell_type": "code",
      "source": [
        "import re\n",
        "\n",
        "ip_pattern = r'(\\d{1,3}.\\d{1,3}.\\d{1,3}.\\d{1,3})'\n",
        "\n",
        "ip_list = []\n",
        "\n",
        "def convert_to_uniqe(ip):\n",
        "    if ip not in ip_list:\n",
        "        ip_list.append(ip)\n",
        "\n",
        "def main():\n",
        "    with open('apache2-access.log', 'r') as logfile:\n",
        "        ip = re.compile(ip_pattern)\n",
        "        for line in logfile:\n",
        "            match = ip.search(line)\n",
        "            if match:\n",
        "                convert_to_uniqe(match.group())\n",
        "    \n",
        "    for ip in set(ip_list):\n",
        "        print(ip)\n",
        "\n",
        "main()"
      ],
      "metadata": {
        "colab": {
          "base_uri": "https://localhost:8080/"
        },
        "id": "VdYNoGkGb8_s",
        "outputId": "826e1bc7-8fe1-449c-ba37-dc09f58b13f5"
      },
      "id": "VdYNoGkGb8_s",
      "execution_count": 17,
      "outputs": [
        {
          "output_type": "stream",
          "name": "stdout",
          "text": [
            "216.151.154.100\n",
            "82.130.49.223\n",
            "91.180.146.16\n",
            "173.236.32.219\n",
            "109.189.132.223\n",
            "5.135.214.254\n",
            "41.99.29.14\n",
            "105.224.234.235\n",
            "213.181.52.10\n",
            "88.162.202.146\n",
            "99.252.100.83\n",
            "69.181.104.228\n",
            "59.167.142.22\n",
            "121.209.208.128\n",
            "23.105.131.2\n",
            "5.10.83.91\n",
            "2.137.32.153\n",
            "84.121.6.23\n",
            "177.144.77.89\n",
            "107.170.40.205\n",
            "83.25.215.235\n",
            "157.55.35.80\n",
            "5.10.83.53\n",
            "86.182.52.145\n",
            "218.28.225.87\n",
            "192.95.12.193\n",
            "184.60.23.120\n",
            "74.125.40.23\n",
            "199.30.20.30\n",
            "80.153.191.173\n",
            "39.41.133.216\n",
            "72.174.22.174\n",
            "62.4.19.142\n",
            "95.153.89.104\n",
            "213.150.233.62\n",
            "65.52.104.233\n",
            "93.191.160.193\n",
            "64.134.102.242\n",
            "86.220.101.19\n",
            "54.246.137.243\n",
            "86.166.162.41\n",
            "54.215.96.68\n",
            "91.232.96.8\n",
            "180.76.6.231\n",
            "69.175.87.242\n",
            "180.76.6.56\n",
            "50.180.79.170\n",
            "195.211.162.22\n",
            "70.109.45.64\n",
            "87.169.99.232\n",
            "180.245.66.177\n",
            "46.105.14.53\n",
            "83.105.90.45\n",
            "213.124.13.242\n",
            "217.12.215.94\n",
            "69.167.130.5\n",
            "193.24.88.211\n",
            "188.9.138.189\n",
            "82.247.137.135\n",
            "150.101.221.21\n",
            "78.57.150.9\n",
            "5.0.46.207\n",
            "199.59.148.210\n",
            "37.188.233.114\n",
            "93.129.45.32\n",
            "88.152.28.187\n",
            "78.6.176.46\n",
            "63.249.66.212\n",
            "179.179.206.176\n",
            "50.58.161.66\n",
            "88.218.141.221\n",
            "74.125.19.82\n",
            "82.80.23.217\n",
            "54.215.54.10\n",
            "177.132.188.205\n",
            "63.223.125.175\n",
            "80.94.240.100\n",
            "125.236.205.70\n",
            "46.105.125.31\n",
            "180.76.6.66\n",
            "82.181.180.138\n",
            "23.231.5.40\n",
            "193.252.149.222\n",
            "112.202.18.45\n",
            "157.56.93.154\n",
            "61.135.190.100\n",
            "207.241.237.101\n",
            "183.60.215.50\n",
            "180.76.6.51\n",
            "217.71.46.55\n",
            "199.15.233.140\n",
            "208.93.0.48\n",
            "203.118.242.184\n",
            "212.234.218.51\n",
            "74.125.176.147\n",
            "68.97.23.170\n",
            "186.44.199.211\n",
            "103.9.43.132\n",
            "66.147.244.126\n",
            "174.93.161.163\n",
            "180.180.100.65\n",
            "195.250.34.144\n",
            "46.105.37.142\n",
            "193.167.195.60\n",
            "216.14.208.102\n",
            "31.4.197.143\n",
            "202.101.244.118\n",
            "79.171.127.34\n",
            "178.17.6.226\n",
            "217.12.185.5\n",
            "46.26.114.245\n",
            "50.16.19.13\n",
            "150.101.171.78\n",
            "173.164.44.34\n",
            "77.11.205.74\n",
            "68.88.73.113\n",
            "115.112.233.75\n",
            "199.187.125.26\n",
            "212.90.148.107\n",
            "68.65.254.140\n",
            "69.171.237.9\n",
            "66.211.105.190\n",
            "92.234.93.242\n",
            "128.141.154.221\n",
            "24.196.39.217\n",
            "69.175.14.228\n",
            "54.226.176.99\n",
            "219.64.34.68\n",
            "92.115.179.247\n",
            "50.149.129.119\n",
            "199.47.81.13\n",
            "107.203.4.32\n",
            "46.4.101.88\n",
            "68.180.224.235\n",
            "80.133.249.216\n",
            "82.24.16.46\n",
            "208.88.254.164\n",
            "71.33.204.157\n",
            "193.146.92.166\n",
            "74.125.19.84\n",
            "125.239.92.211\n",
            "91.144.171.126\n",
            "68.183.65.140\n",
            "97.82.80.65\n",
            "207.241.237.221\n",
            "91.68.55.56\n",
            "23.105.131.247\n",
            "82.38.225.83\n",
            "108.28.155.98\n",
            "70.83.251.183\n",
            "193.238.231.119\n",
            "217.212.224.181\n",
            "177.73.254.10\n",
            "180.76.5.214\n",
            "77.175.4.43\n",
            "96.254.233.150\n",
            "188.122.8.79\n",
            "194.250.79.71\n",
            "54.234.1.193\n",
            "131.107.160.94\n",
            "189.148.62.33\n",
            "80.108.25.232\n",
            "1.22.35.226\n",
            "94.153.9.168\n",
            "157.55.32.109\n",
            "49.230.158.243\n",
            "24.183.21.30\n",
            "213.160.130.242\n",
            "88.61.50.114\n",
            "203.99.205.107\n",
            "74.125.19.81\n",
            "216.172.140.128\n",
            "65.19.138.34\n",
            "180.76.6.158\n",
            "173.252.110.119\n",
            "202.134.13.137\n",
            "99.188.185.40\n",
            "5.153.234.2\n",
            "69.171.248.3\n",
            "184.154.153.210\n",
            "183.221.90.177\n",
            "108.61.140.67\n",
            "109.163.234.2\n",
            "216.56.20.98\n",
            "217.174.111.254\n",
            "128.179.155.97\n",
            "122.167.215.241\n",
            "180.76.5.167\n",
            "70.186.197.197\n",
            "123.125.71.72\n",
            "54.196.174.134\n",
            "184.185.208.221\n",
            "194.249.247.164\n",
            "108.178.13.202\n",
            "80.57.170.121\n",
            "155.63.71.11\n",
            "180.211.69.209\n",
            "204.93.54.167\n",
            "106.79.29.147\n",
            "198.228.201.171\n",
            "79.84.40.134\n",
            "141.92.19.36\n",
            "107.170.40.201\n",
            "180.76.5.17\n",
            "109.190.148.218\n",
            "69.171.237.10\n",
            "216.152.243.146\n",
            "147.142.186.54\n",
            "62.97.194.235\n",
            "119.63.196.17\n",
            "83.61.80.53\n",
            "195.14.103.53\n",
            "193.77.158.208\n",
            "77.0.42.68\n",
            "91.236.75.25\n",
            "182.253.73.95\n",
            "180.76.5.26\n",
            "218.188.93.140\n",
            "179.186.211.223\n",
            "41.189.161.63\n",
            "79.215.79.185\n",
            "180.76.5.190\n",
            "99.179.126.76\n",
            "37.241.118.235\n",
            "5.255.72.168\n",
            "23.105.131.185\n",
            "125.199.63.98\n",
            "2.241.35.167\n",
            "89.68.134.81\n",
            "62.210.189.45\n",
            "72.223.76.198\n",
            "5.9.143.150\n",
            "209.85.238.199\n",
            "195.160.233.249\n",
            "81.210.53.2\n",
            "183.91.14.219\n",
            "106.51.250.126\n",
            "71.59.29.242\n",
            "195.250.62.9\n",
            "95.153.95.223\n",
            "180.76.5.189\n",
            "15.211.201.85\n",
            "69.26.164.70\n",
            "185.5.152.85\n",
            "174.37.205.76\n",
            "67.225.29.201\n",
            "180.76.6.53\n",
            "74.207.228.17\n",
            "82.136.45.164\n",
            "91.236.74.121\n",
            "89.216.30.194\n",
            "82.225.159.87\n",
            "68.8.191.88\n",
            "134.76.249.10\n",
            "204.93.54.178\n",
            "62.225.70.202\n",
            "118.72.253.84\n",
            "151.250.94.199\n",
            "192.254.157.212\n",
            "122.56.232.122\n",
            "213.112.253.123\n",
            "201.124.21.149\n",
            "109.167.131.110\n",
            "61.156.217.135\n",
            "95.49.190.247\n",
            "5.39.15.151\n",
            "204.93.54.177\n",
            "95.222.193.200\n",
            "91.221.131.30\n",
            "79.170.40.34\n",
            "218.30.103.114\n",
            "194.254.139.66\n",
            "200.49.190.100\n",
            "193.83.204.66\n",
            "178.203.37.192\n",
            "67.244.81.209\n",
            "112.216.234.90\n",
            "82.181.39.216\n",
            "27.159.230.187\n",
            "61.119.116.21\n",
            "37.220.7.250\n",
            "66.249.93.91\n",
            "70.177.214.34\n",
            "186.202.153.56\n",
            "173.0.50.24\n",
            "157.55.33.183\n",
            "66.249.80.24\n",
            "93.175.2.211\n",
            "122.61.197.176\n",
            "12.43.40.25\n",
            "23.24.200.86\n",
            "96.49.214.84\n",
            "196.14.132.154\n",
            "117.172.98.228\n",
            "50.177.153.223\n",
            "180.183.207.146\n",
            "213.61.156.100\n",
            "223.72.228.186\n",
            "208.43.251.181\n",
            "93.91.233.50\n",
            "176.46.113.39\n",
            "173.232.106.129\n",
            "68.184.202.186\n",
            "81.130.81.254\n",
            "24.151.226.65\n",
            "180.76.5.191\n",
            "198.50.227.136\n",
            "107.170.40.198\n",
            "108.171.116.194\n",
            "91.207.7.78\n",
            "143.233.204.28\n",
            "93.104.161.108\n",
            "83.161.149.61\n",
            "180.153.206.27\n",
            "5.10.83.65\n",
            "146.1.1.2\n",
            "54.225.29.47\n",
            "8.8.178.123\n",
            "216.16.195.52\n",
            "112.110.247.227\n",
            "119.147.146.189\n",
            "14.203.126.78\n",
            "68.115.79.126\n",
            "157.55.33.44\n",
            "49.224.226.115\n",
            "193.252.118.167\n",
            "180.76.5.75\n",
            "204.93.54.238\n",
            "110.136.166.128\n",
            "196.196.16.139\n",
            "150.162.56.185\n",
            "76.203.196.208\n",
            "176.31.39.30\n",
            "49.206.120.190\n",
            "74.208.16.115\n",
            "87.64.176.135\n",
            "82.233.80.245\n",
            "142.197.51.102\n",
            "188.176.12.4\n",
            "180.180.119.57\n",
            "103.245.44.13\n",
            "65.172.240.122\n",
            "176.14.63.246\n",
            "184.162.26.147\n",
            "180.166.130.86\n",
            "188.65.166.78\n",
            "173.231.106.34\n",
            "66.169.220.99\n",
            "74.125.176.151\n",
            "106.66.30.77\n",
            "180.76.6.153\n",
            "217.212.224.183\n",
            "37.115.113.172\n",
            "91.191.197.87\n",
            "96.127.149.186\n",
            "54.226.35.19\n",
            "204.15.164.228\n",
            "14.140.163.52\n",
            "180.76.6.151\n",
            "65.55.215.241\n",
            "157.55.32.107\n",
            "59.124.42.160\n",
            "204.19.246.36\n",
            "62.161.94.37\n",
            "91.114.206.13\n",
            "46.161.41.24\n",
            "101.226.33.222\n",
            "67.61.162.49\n",
            "37.237.137.58\n",
            "88.184.51.134\n",
            "220.181.108.149\n",
            "95.78.54.93\n",
            "62.108.180.233\n",
            "91.236.74.5\n",
            "54.225.104.196\n",
            "176.92.75.62\n",
            "157.56.229.184\n",
            "70.197.6.64\n",
            "190.107.140.178\n",
            "37.11.0.8\n",
            "108.71.169.76\n",
            "68.189.165.19\n",
            "5.39.50.0\n",
            "94.93.82.148\n",
            "129.27.3.93\n",
            "74.218.234.48\n",
            "109.74.151.149\n",
            "8.35.201.55\n",
            "207.241.237.228\n",
            "24.210.169.33\n",
            "89.2.87.1\n",
            "119.36.179.179\n",
            "61.174.9.96\n",
            "23.94.36.245\n",
            "183.83.4.248\n",
            "46.5.254.123\n",
            "180.76.5.20\n",
            "178.216.54.152\n",
            "113.189.161.125\n",
            "208.43.255.31\n",
            "79.148.255.215\n",
            "199.30.20.65\n",
            "173.192.238.44\n",
            "190.181.197.43\n",
            "195.242.218.133\n",
            "5.56.158.218\n",
            "91.217.86.20\n",
            "74.125.176.80\n",
            "81.190.174.219\n",
            "176.31.103.52\n",
            "66.187.233.202\n",
            "91.207.5.54\n",
            "187.211.57.202\n",
            "203.82.66.233\n",
            "76.167.133.189\n",
            "209.141.128.208\n",
            "87.219.103.122\n",
            "36.37.235.225\n",
            "199.16.156.124\n",
            "180.76.6.63\n",
            "208.43.243.244\n",
            "193.173.113.126\n",
            "194.153.130.2\n",
            "23.105.131.70\n",
            "74.125.40.18\n",
            "54.215.118.244\n",
            "5.39.4.211\n",
            "177.6.142.6\n",
            "83.253.123.163\n",
            "91.183.139.98\n",
            "194.14.211.19\n",
            "108.231.135.74\n",
            "67.253.133.120\n",
            "24.8.92.137\n",
            "201.216.154.220\n",
            "204.244.74.22\n",
            "183.60.243.242\n",
            "185.26.239.20\n",
            "74.208.180.23\n",
            "77.125.123.137\n",
            "157.56.92.164\n",
            "129.184.84.11\n",
            "54.220.160.83\n",
            "54.255.13.204\n",
            "119.63.193.130\n",
            "189.221.118.68\n",
            "108.29.33.122\n",
            "94.253.195.219\n",
            "180.76.6.52\n",
            "54.219.224.86\n",
            "14.207.105.216\n",
            "189.71.37.115\n",
            "121.107.188.202\n",
            "112.110.247.250\n",
            "66.168.50.129\n",
            "75.132.156.143\n",
            "200.89.129.197\n",
            "96.36.44.80\n",
            "23.105.131.64\n",
            "89.156.153.83\n",
            "180.76.5.154\n",
            "74.125.40.19\n",
            "193.179.215.103\n",
            "23.30.147.145\n",
            "208.115.111.72\n",
            "208.71.68.122\n",
            "69.115.24.125\n",
            "31.35.64.245\n",
            "107.170.40.203\n",
            "82.135.32.98\n",
            "130.226.230.7\n",
            "202.68.209.129\n",
            "203.206.205.64\n",
            "85.11.191.105\n",
            "116.125.143.84\n",
            "80.252.78.170\n",
            "82.165.139.53\n",
            "72.4.104.94\n",
            "69.234.185.154\n",
            "178.137.95.70\n",
            "88.8.30.135\n",
            "70.210.13.207\n",
            "216.14.198.50\n",
            "155.140.133.248\n",
            "89.191.52.88\n",
            "61.135.169.84\n",
            "50.87.144.128\n",
            "207.241.237.224\n",
            "2.51.241.128\n",
            "216.107.155.114\n",
            "172.56.28.38\n",
            "71.207.12.53\n",
            "147.210.12.12\n",
            "188.252.129.118\n",
            "213.252.7.178\n",
            "160.92.7.69\n",
            "59.163.27.11\n",
            "131.253.24.76\n",
            "81.82.116.247\n",
            "94.175.135.116\n",
            "203.173.194.136\n",
            "118.92.157.140\n",
            "188.240.136.240\n",
            "54.242.254.219\n",
            "85.216.186.139\n",
            "90.175.31.133\n",
            "151.225.221.231\n",
            "101.119.18.35\n",
            "180.76.5.22\n",
            "200.123.214.163\n",
            "190.198.191.75\n",
            "198.143.156.2\n",
            "54.241.62.89\n",
            "122.107.211.222\n",
            "87.175.104.247\n",
            "202.86.115.186\n",
            "122.146.177.66\n",
            "195.122.146.186\n",
            "217.69.133.235\n",
            "54.242.115.144\n",
            "195.56.119.209\n",
            "180.76.6.37\n",
            "173.213.76.77\n",
            "74.105.15.185\n",
            "50.195.216.83\n",
            "195.37.190.67\n",
            "178.15.11.82\n",
            "123.125.71.35\n",
            "75.97.9.59\n",
            "219.89.193.142\n",
            "37.115.186.244\n",
            "141.89.226.149\n",
            "178.32.216.134\n",
            "180.76.5.143\n",
            "178.19.99.39\n",
            "93.139.195.61\n",
            "182.64.207.187\n",
            "71.212.224.97\n",
            "78.73.74.252\n",
            "54.236.213.208\n",
            "82.130.48.164\n",
            "93.17.51.134\n",
            "120.59.2.54\n",
            "131.253.24.32\n",
            "8.35.201.49\n",
            "202.7.107.76\n",
            "74.125.176.81\n",
            "174.26.93.238\n",
            "47.22.128.211\n",
            "72.215.249.101\n",
            "131.253.24.107\n",
            "183.82.101.58\n",
            "113.252.200.224\n",
            "88.198.156.152\n",
            "203.211.107.162\n",
            "177.37.5.6\n",
            "201.22.249.225\n",
            "157.55.32.185\n",
            "190.1.111.247\n",
            "62.50.6.113\n",
            "203.145.79.41\n",
            "186.93.16.149\n",
            "91.151.182.109\n",
            "180.76.5.69\n",
            "69.160.56.236\n",
            "193.252.118.175\n",
            "46.118.116.232\n",
            "112.208.14.199\n",
            "180.76.5.81\n",
            "198.167.137.193\n",
            "194.103.63.154\n",
            "78.171.202.100\n",
            "220.209.87.113\n",
            "64.131.102.243\n",
            "173.252.74.112\n",
            "87.109.78.50\n",
            "220.181.108.171\n",
            "213.193.72.155\n",
            "198.143.145.210\n",
            "83.31.36.250\n",
            "74.125.40.16\n",
            "50.152.223.37\n",
            "178.84.1.162\n",
            "54.215.29.126\n",
            "216.150.76.218\n",
            "66.249.80.128\n",
            "89.107.180.34\n",
            "173.252.74.119\n",
            "134.192.71.41\n",
            "93.203.255.51\n",
            "216.151.137.35\n",
            "201.141.65.112\n",
            "220.181.108.162\n",
            "111.199.235.239\n",
            "70.42.255.243\n",
            "86.1.76.62\n",
            "155.201.35.55\n",
            "94.23.164.135\n",
            "38.99.236.50\n",
            "107.170.40.197\n",
            "180.76.5.194\n",
            "50.132.55.62\n",
            "184.169.185.164\n",
            "92.163.85.51\n",
            "97.93.16.156\n",
            "88.159.158.68\n",
            "76.176.53.173\n",
            "108.91.82.251\n",
            "79.191.201.108\n",
            "74.125.176.149\n",
            "67.170.98.63\n",
            "116.199.211.249\n",
            "66.249.84.69\n",
            "8.35.201.54\n",
            "75.93.220.113\n",
            "213.95.18.125\n",
            "98.248.53.169\n",
            "180.76.5.187\n",
            "210.19.254.116\n",
            "180.76.6.156\n",
            "210.13.83.18\n",
            "86.180.53.110\n",
            "116.203.238.137\n",
            "128.237.28.16\n",
            "202.232.30.232\n",
            "203.173.241.145\n",
            "162.210.196.130\n",
            "15.219.153.83\n",
            "89.218.93.74\n",
            "41.223.160.234\n",
            "177.37.188.215\n",
            "194.29.137.5\n",
            "198.208.159.20\n",
            "130.185.72.6\n",
            "85.28.124.249\n",
            "203.116.198.120\n",
            "83.222.46.173\n",
            "41.141.61.166\n",
            "108.32.74.68\n",
            "208.54.40.237\n",
            "81.169.144.135\n",
            "203.41.198.36\n",
            "50.97.97.54\n",
            "217.116.157.26\n",
            "103.25.13.22\n",
            "197.237.89.221\n",
            "59.124.251.135\n",
            "79.101.87.86\n",
            "173.252.80.112\n",
            "69.50.176.67\n",
            "212.107.116.234\n",
            "207.241.237.102\n",
            "79.103.41.39\n",
            "153.174.34.38\n",
            "74.125.176.150\n",
            "81.52.143.26\n",
            "197.187.26.144\n",
            "159.50.249.150\n",
            "192.3.183.199\n",
            "198.148.112.117\n",
            "180.76.6.142\n",
            "66.147.242.187\n",
            "194.237.142.21\n",
            "67.220.144.164\n",
            "124.35.244.2\n",
            "95.128.40.244\n",
            "85.89.160.218\n",
            "50.59.104.212\n",
            "62.44.32.116\n",
            "31.41.216.135\n",
            "180.76.5.28\n",
            "87.6.86.34\n",
            "123.125.71.56\n",
            "68.151.4.139\n",
            "213.10.136.118\n",
            "189.214.42.128\n",
            "199.30.24.78\n",
            "27.251.237.154\n",
            "82.98.148.169\n",
            "192.185.81.134\n",
            "62.245.157.217\n",
            "123.63.97.14\n",
            "37.72.189.120\n",
            "89.250.16.2\n",
            "180.76.5.147\n",
            "62.192.67.154\n",
            "180.153.236.122\n",
            "157.55.35.114\n",
            "189.127.128.209\n",
            "89.182.254.89\n",
            "213.133.224.50\n",
            "64.128.17.78\n",
            "86.76.247.183\n",
            "80.156.209.18\n",
            "107.170.40.199\n",
            "141.0.10.123\n",
            "128.214.173.46\n",
            "122.60.77.197\n",
            "74.125.40.22\n",
            "117.7.102.100\n",
            "120.43.27.41\n",
            "81.220.24.207\n",
            "117.78.13.17\n",
            "183.60.244.20\n",
            "85.43.182.12\n",
            "63.141.248.27\n",
            "78.231.138.213\n",
            "211.150.124.10\n",
            "162.211.96.55\n",
            "82.145.219.13\n",
            "187.45.193.158\n",
            "120.136.4.243\n",
            "79.35.84.239\n",
            "5.144.176.206\n",
            "87.182.248.236\n",
            "80.130.134.87\n",
            "180.76.6.17\n",
            "54.211.215.107\n",
            "208.43.252.200\n",
            "74.125.40.17\n",
            "111.240.183.248\n",
            "184.154.149.126\n",
            "68.87.42.115\n",
            "99.11.114.240\n",
            "100.2.4.116\n",
            "81.157.147.252\n",
            "83.42.229.238\n",
            "85.246.85.57\n",
            "69.167.81.126\n",
            "85.19.71.167\n",
            "180.76.5.73\n",
            "98.122.171.175\n",
            "5.10.83.82\n",
            "184.154.15.210\n",
            "213.160.109.10\n",
            "81.142.35.154\n",
            "205.159.86.10\n",
            "119.224.20.139\n",
            "37.130.227.133\n",
            "188.165.243.45\n",
            "24.0.194.37\n",
            "91.204.25.44\n",
            "195.38.23.137\n",
            "78.19.193.147\n",
            "54.219.40.115\n",
            "193.252.149.15\n",
            "41.251.155.27\n",
            "103.247.192.5\n",
            "54.219.196.51\n",
            "180.76.6.28\n",
            "144.76.137.226\n",
            "184.66.149.103\n",
            "78.26.132.172\n",
            "79.83.255.199\n",
            "144.76.95.39\n",
            "75.127.15.68\n",
            "49.204.238.249\n",
            "66.249.74.55\n",
            "212.180.233.101\n",
            "68.13.110.158\n",
            "180.76.6.54\n",
            "180.76.5.27\n",
            "105.235.218.242\n",
            "120.202.255.147\n",
            "24.190.3.5\n",
            "204.93.54.176\n",
            "79.185.184.23\n",
            "71.59.185.163\n",
            "199.30.20.7\n",
            "124.197.25.116\n",
            "209.17.114.78\n",
            "62.112.244.2\n",
            "216.14.102.16\n",
            "109.87.146.211\n",
            "208.91.156.11\n",
            "89.170.74.95\n",
            "213.180.27.58\n",
            "197.36.142.40\n",
            "81.198.20.11\n",
            "91.236.75.26\n",
            "2.85.194.19\n",
            "5.63.5.62\n",
            "60.234.195.253\n",
            "37.115.190.128\n",
            "99.171.108.193\n",
            "46.119.114.245\n",
            "94.222.112.110\n",
            "90.220.199.149\n",
            "180.76.6.137\n",
            "42.156.136.43\n",
            "14.141.91.20\n",
            "80.237.234.150\n",
            "108.170.215.93\n",
            "117.227.171.181\n",
            "216.143.11.118\n",
            "192.44.32.8\n",
            "192.91.173.36\n",
            "72.182.137.233\n",
            "66.249.84.55\n",
            "157.55.33.88\n",
            "173.11.136.157\n",
            "204.236.226.210\n",
            "87.216.109.88\n",
            "180.211.193.6\n",
            "190.82.255.69\n",
            "174.23.200.134\n",
            "167.220.26.44\n",
            "183.63.83.14\n",
            "83.252.13.79\n",
            "24.97.227.132\n",
            "192.30.34.115\n",
            "86.56.94.63\n",
            "88.134.8.254\n",
            "27.159.203.227\n",
            "42.107.175.146\n",
            "130.239.41.58\n",
            "72.199.66.220\n",
            "66.249.81.20\n",
            "69.165.204.172\n",
            "173.200.233.195\n",
            "76.21.44.161\n",
            "218.240.60.244\n",
            "110.143.13.225\n",
            "220.181.108.178\n",
            "178.118.111.33\n",
            "193.58.82.178\n",
            "109.74.154.79\n",
            "203.122.224.39\n",
            "66.49.182.146\n",
            "5.255.75.89\n",
            "94.153.8.37\n",
            "82.80.14.189\n",
            "212.39.97.114\n",
            "207.45.249.135\n",
            "98.252.226.135\n",
            "69.171.248.4\n",
            "27.252.40.146\n",
            "63.223.125.170\n",
            "182.68.184.78\n",
            "186.231.123.210\n",
            "74.208.172.133\n",
            "202.156.10.11\n",
            "84.85.130.133\n",
            "81.52.143.33\n",
            "180.76.5.74\n",
            "195.27.15.134\n",
            "108.174.55.234\n",
            "198.167.137.156\n",
            "61.12.113.192\n",
            "54.227.17.146\n",
            "95.108.158.230\n",
            "121.162.188.120\n",
            "184.148.132.111\n",
            "157.55.32.84\n",
            "199.102.67.16\n",
            "182.118.20.213\n",
            "110.159.23.90\n",
            "46.32.254.207\n",
            "114.250.134.175\n",
            "88.234.222.56\n",
            "190.250.238.82\n",
            "60.53.124.75\n",
            "209.118.149.82\n",
            "83.206.120.18\n",
            "174.36.228.156\n",
            "188.178.214.179\n",
            "46.165.197.141\n",
            "50.150.204.184\n",
            "12.110.81.190\n",
            "180.76.5.152\n",
            "14.141.56.98\n",
            "67.233.210.41\n",
            "50.157.244.41\n",
            "80.254.166.203\n",
            "183.60.244.24\n",
            "37.137.150.253\n",
            "173.242.120.61\n",
            "212.242.185.85\n",
            "118.82.184.54\n",
            "121.99.121.185\n",
            "101.226.168.196\n",
            "108.178.4.100\n",
            "41.223.160.233\n",
            "177.141.70.11\n",
            "144.76.194.187\n",
            "203.144.5.101\n",
            "184.151.222.45\n",
            "222.77.201.107\n",
            "77.241.193.88\n",
            "182.253.23.3\n",
            "122.58.125.143\n",
            "173.36.196.6\n",
            "92.236.181.94\n",
            "218.30.103.62\n",
            "79.114.119.129\n",
            "75.161.167.75\n",
            "216.152.249.242\n",
            "193.104.184.225\n",
            "24.236.252.67\n",
            "207.255.245.133\n",
            "79.197.82.119\n",
            "85.224.97.187\n",
            "194.149.247.24\n",
            "166.37.114.52\n",
            "46.165.197.151\n",
            "220.245.217.154\n",
            "62.47.98.178\n",
            "109.9.166.16\n",
            "20.137.2.50\n",
            "68.193.198.76\n",
            "180.169.2.99\n",
            "65.55.213.73\n",
            "87.179.0.125\n",
            "37.236.9.107\n",
            "83.10.253.20\n",
            "92.100.97.83\n",
            "50.2.225.180\n",
            "67.215.172.14\n",
            "173.162.242.85\n",
            "113.212.68.167\n",
            "88.80.20.186\n",
            "188.40.60.225\n",
            "88.196.179.78\n",
            "84.52.150.17\n",
            "187.60.96.7\n",
            "201.244.101.132\n",
            "121.244.49.42\n",
            "212.101.243.11\n",
            "66.249.88.135\n",
            "71.229.217.245\n",
            "5.10.83.21\n",
            "118.92.253.144\n",
            "173.236.61.220\n",
            "184.153.164.52\n",
            "199.16.156.126\n",
            "207.241.237.225\n",
            "2.38.110.208\n",
            "37.79.145.225\n",
            "115.112.80.98\n",
            "81.169.149.220\n",
            "84.46.60.57\n",
            "96.127.213.6\n",
            "201.26.152.202\n",
            "130.243.172.179\n",
            "46.65.248.177\n",
            "69.175.14.230\n",
            "107.170.41.69\n",
            "89.238.233.38\n",
            "198.55.109.202\n",
            "193.61.104.6\n",
            "5.235.199.240\n",
            "54.219.117.220\n",
            "209.148.84.30\n",
            "130.117.119.79\n",
            "91.9.25.91\n",
            "87.158.133.11\n",
            "98.206.132.188\n",
            "186.22.52.72\n",
            "161.72.16.78\n",
            "74.125.176.145\n",
            "123.125.71.97\n",
            "183.179.22.186\n",
            "182.253.73.51\n",
            "91.220.39.15\n",
            "50.90.110.61\n",
            "180.76.5.98\n",
            "213.5.179.37\n",
            "151.225.218.180\n",
            "8.35.201.53\n",
            "67.214.178.190\n",
            "71.171.122.192\n",
            "54.219.60.151\n",
            "86.43.205.189\n",
            "200.50.183.132\n",
            "74.125.176.82\n",
            "93.42.158.73\n",
            "88.172.188.129\n",
            "217.69.133.236\n",
            "204.236.190.162\n",
            "81.136.131.79\n",
            "77.240.31.230\n",
            "180.76.5.151\n",
            "213.174.192.220\n",
            "223.67.143.84\n",
            "180.76.6.134\n",
            "180.76.5.145\n",
            "37.252.127.97\n",
            "122.57.207.174\n",
            "188.253.16.227\n",
            "75.144.62.181\n",
            "180.76.5.62\n",
            "220.181.51.37\n",
            "186.9.133.54\n",
            "199.30.20.11\n",
            "24.84.241.107\n",
            "75.134.169.174\n",
            "118.97.174.156\n",
            "77.231.200.120\n",
            "68.14.231.140\n",
            "123.125.71.117\n",
            "128.61.92.96\n",
            "82.178.75.63\n",
            "98.216.194.189\n",
            "199.30.20.8\n",
            "50.8.159.176\n",
            "185.5.156.107\n",
            "217.69.133.239\n",
            "95.234.214.194\n",
            "202.59.2.2\n",
            "180.180.97.143\n",
            "85.248.108.8\n",
            "180.76.6.147\n",
            "64.237.51.169\n",
            "89.107.177.18\n",
            "173.252.110.115\n",
            "166.147.88.15\n",
            "46.118.127.106\n",
            "108.77.164.97\n",
            "121.54.41.121\n",
            "197.153.69.109\n",
            "84.198.71.68\n",
            "180.180.78.19\n",
            "108.184.124.170\n",
            "125.239.81.249\n",
            "180.76.6.50\n",
            "83.139.110.254\n",
            "84.75.200.115\n",
            "46.166.199.137\n",
            "23.21.22.111\n",
            "131.114.11.55\n",
            "192.254.138.148\n",
            "72.54.172.193\n",
            "54.203.120.42\n",
            "117.192.147.163\n",
            "72.9.0.86\n",
            "54.204.20.250\n",
            "180.76.5.172\n",
            "173.166.158.222\n",
            "199.59.148.209\n",
            "197.206.232.180\n",
            "84.58.19.108\n",
            "14.1.42.114\n",
            "180.76.5.204\n",
            "93.79.237.62\n",
            "130.126.255.121\n",
            "114.141.164.18\n",
            "59.252.170.29\n",
            "192.187.119.210\n",
            "82.145.208.98\n",
            "84.95.88.100\n",
            "66.249.85.135\n",
            "91.207.8.61\n",
            "5.102.48.12\n",
            "208.43.251.180\n",
            "134.99.112.2\n",
            "208.43.255.26\n",
            "78.157.30.184\n",
            "173.176.91.196\n",
            "208.50.255.30\n",
            "98.115.54.224\n",
            "202.46.62.20\n",
            "81.61.214.106\n",
            "99.151.9.144\n",
            "178.140.172.164\n",
            "220.181.127.18\n",
            "123.125.71.82\n",
            "70.190.77.28\n",
            "199.16.156.125\n",
            "203.81.69.86\n",
            "117.28.234.67\n",
            "74.125.19.208\n",
            "200.31.173.106\n",
            "129.10.115.241\n",
            "199.119.124.43\n",
            "88.210.182.128\n",
            "121.189.37.60\n",
            "93.114.45.13\n",
            "178.152.18.59\n",
            "185.38.249.133\n",
            "159.50.249.148\n",
            "84.137.208.44\n",
            "134.58.253.57\n",
            "180.76.5.116\n",
            "100.43.83.137\n",
            "173.252.103.7\n",
            "71.9.98.194\n",
            "23.92.61.96\n",
            "200.141.109.74\n",
            "173.192.238.41\n",
            "176.10.104.96\n",
            "180.76.5.64\n",
            "123.125.71.85\n",
            "198.228.201.147\n",
            "123.125.71.114\n",
            "204.93.54.173\n",
            "180.76.6.43\n",
            "178.19.99.105\n",
            "98.210.187.48\n",
            "139.184.30.132\n",
            "178.222.167.128\n",
            "83.69.235.12\n",
            "78.157.154.210\n",
            "77.175.189.215\n",
            "67.220.144.226\n",
            "201.242.142.135\n",
            "180.76.5.59\n",
            "97.74.24.112\n",
            "203.99.206.243\n",
            "189.60.115.148\n",
            "46.120.130.221\n",
            "54.244.142.254\n",
            "62.12.14.27\n",
            "61.16.241.98\n",
            "116.212.243.74\n",
            "50.158.157.89\n",
            "157.55.33.114\n",
            "180.76.5.213\n",
            "89.176.234.221\n",
            "65.55.52.94\n",
            "115.245.219.74\n",
            "194.171.252.104\n",
            "157.55.33.19\n",
            "54.204.20.249\n",
            "86.28.207.22\n",
            "152.118.148.226\n",
            "77.248.77.178\n",
            "72.76.128.176\n",
            "199.30.20.64\n",
            "84.215.206.35\n",
            "212.159.68.200\n",
            "109.195.177.171\n",
            "199.168.96.66\n",
            "83.31.73.148\n",
            "207.241.237.220\n",
            "112.110.247.238\n",
            "211.25.11.99\n",
            "207.241.237.227\n",
            "86.9.201.133\n",
            "178.250.45.51\n",
            "193.30.41.222\n",
            "94.197.120.210\n",
            "79.116.60.76\n",
            "180.76.5.144\n",
            "170.148.69.141\n",
            "207.158.15.119\n",
            "180.76.5.157\n",
            "78.166.243.242\n",
            "130.227.120.134\n",
            "68.40.205.212\n",
            "180.76.6.233\n",
            "111.117.160.16\n",
            "192.99.12.169\n",
            "217.26.210.20\n",
            "70.127.254.161\n",
            "76.2.185.161\n",
            "181.160.193.212\n",
            "195.176.191.93\n",
            "130.229.158.194\n",
            "50.2.225.202\n",
            "88.120.89.50\n",
            "212.197.170.45\n",
            "91.231.179.253\n",
            "46.119.119.29\n",
            "199.30.22.61\n",
            "212.51.173.12\n",
            "184.169.233.10\n",
            "190.153.25.242\n",
            "194.94.204.181\n",
            "74.125.19.215\n",
            "128.2.142.104\n",
            "178.191.44.227\n",
            "99.17.221.6\n",
            "74.125.19.83\n",
            "223.81.196.65\n",
            "132.229.223.2\n",
            "208.43.255.27\n",
            "198.143.155.251\n",
            "50.18.71.222\n",
            "97.74.24.113\n",
            "31.208.44.206\n",
            "157.55.32.142\n",
            "59.90.241.113\n",
            "180.76.5.71\n",
            "195.176.110.194\n",
            "78.193.126.4\n",
            "180.76.5.196\n",
            "23.105.131.207\n",
            "81.56.9.191\n",
            "78.97.239.35\n",
            "98.202.182.168\n",
            "187.210.142.8\n",
            "74.125.19.80\n",
            "220.181.108.153\n",
            "199.247.189.63\n",
            "50.131.51.216\n",
            "46.53.98.24\n",
            "173.213.97.176\n",
            "212.84.56.58\n",
            "88.112.19.251\n",
            "112.110.247.236\n",
            "72.182.73.81\n",
            "108.15.20.23\n",
            "24.114.40.26\n",
            "81.154.31.181\n",
            "70.112.152.59\n",
            "119.63.196.16\n",
            "178.48.154.212\n",
            "98.245.87.136\n",
            "188.165.58.197\n",
            "195.248.32.227\n",
            "95.91.242.50\n",
            "194.150.156.142\n",
            "77.1.77.21\n",
            "117.211.161.185\n",
            "95.87.197.134\n",
            "129.121.176.228\n",
            "80.89.192.53\n",
            "217.69.133.234\n",
            "2.179.147.248\n",
            "162.213.42.132\n",
            "162.44.252.21\n",
            "180.76.6.48\n",
            "74.93.1.97\n",
            "67.220.144.166\n",
            "86.96.42.185\n",
            "85.254.143.114\n",
            "158.136.112.187\n",
            "92.230.229.41\n",
            "106.187.98.170\n",
            "173.236.32.108\n",
            "83.115.137.249\n",
            "183.37.131.40\n",
            "180.76.6.65\n",
            "195.14.72.29\n",
            "113.212.70.121\n",
            "157.55.34.93\n",
            "5.10.83.98\n",
            "174.26.232.198\n",
            "112.133.195.22\n",
            "176.195.140.189\n",
            "93.210.154.199\n",
            "85.115.58.180\n",
            "180.76.5.61\n",
            "95.97.244.106\n",
            "88.198.255.242\n",
            "74.125.176.148\n",
            "210.246.47.78\n",
            "213.17.226.11\n",
            "217.69.133.238\n",
            "72.177.92.9\n",
            "79.118.91.108\n",
            "92.237.208.151\n",
            "180.76.5.114\n",
            "41.249.219.90\n",
            "188.80.229.128\n",
            "180.76.6.232\n",
            "122.57.173.238\n",
            "211.125.92.233\n",
            "193.77.124.16\n",
            "220.181.108.18\n",
            "204.236.153.140\n",
            "178.137.5.235\n",
            "187.16.77.116\n",
            "69.63.23.193\n",
            "107.170.9.55\n",
            "197.235.139.144\n",
            "166.137.8.20\n",
            "173.213.99.1\n",
            "79.114.20.37\n",
            "130.126.255.52\n",
            "65.55.215.237\n",
            "112.110.247.233\n",
            "176.58.196.36\n",
            "98.193.68.66\n",
            "46.118.158.25\n",
            "180.235.148.243\n",
            "14.160.65.22\n",
            "24.237.38.218\n",
            "193.185.55.253\n",
            "80.254.147.68\n",
            "158.102.162.14\n",
            "46.29.8.202\n",
            "217.195.202.13\n",
            "74.125.176.84\n",
            "78.173.140.106\n",
            "14.18.25.243\n",
            "178.255.215.71\n",
            "106.51.144.106\n",
            "212.33.34.196\n",
            "78.47.134.185\n",
            "99.33.244.41\n",
            "194.126.102.178\n",
            "24.233.162.179\n",
            "219.137.88.123\n",
            "66.249.81.91\n",
            "198.20.79.140\n",
            "200.10.161.5\n",
            "70.193.72.87\n",
            "202.65.130.3\n",
            "184.22.115.74\n",
            "118.96.89.249\n",
            "88.3.37.62\n",
            "157.55.32.190\n",
            "192.3.22.170\n",
            "93.152.153.38\n",
            "180.76.6.230\n",
            "182.253.38.89\n",
            "148.241.190.81\n",
            "66.249.83.223\n",
            "207.241.237.104\n",
            "207.241.237.103\n",
            "62.245.76.5\n",
            "80.239.169.204\n",
            "122.248.149.254\n",
            "101.226.168.198\n",
            "119.6.7.18\n",
            "176.198.189.108\n",
            "115.77.7.145\n",
            "157.55.35.36\n",
            "165.139.161.160\n",
            "69.143.198.134\n",
            "199.47.180.6\n",
            "220.181.108.150\n",
            "183.87.253.120\n",
            "129.70.212.93\n",
            "199.74.99.157\n",
            "94.194.53.206\n",
            "198.143.144.61\n",
            "79.224.95.124\n",
            "163.157.254.25\n",
            "65.55.52.111\n",
            "180.76.5.118\n",
            "194.105.145.147\n",
            "175.143.7.57\n",
            "138.96.204.237\n",
            "165.145.12.44\n",
            "157.56.92.142\n",
            "118.126.5.149\n",
            "62.159.237.82\n",
            "193.40.6.84\n",
            "180.76.6.57\n",
            "80.32.77.152\n",
            "63.140.98.80\n",
            "195.188.180.1\n",
            "173.55.80.151\n",
            "94.23.106.234\n",
            "89.100.113.231\n",
            "173.252.110.114\n",
            "200.28.244.131\n",
            "188.238.146.131\n",
            "71.191.158.163\n",
            "85.170.84.143\n",
            "92.230.101.44\n",
            "151.235.176.219\n",
            "213.21.42.46\n",
            "80.187.96.71\n",
            "82.209.214.162\n",
            "82.127.237.118\n",
            "75.67.42.229\n",
            "106.187.34.32\n",
            "31.150.236.68\n",
            "118.148.175.45\n",
            "152.16.50.192\n",
            "5.10.83.23\n",
            "157.55.33.49\n",
            "203.173.130.29\n",
            "217.17.193.66\n",
            "217.91.18.234\n",
            "66.249.73.135\n",
            "93.164.60.142\n",
            "177.229.230.254\n",
            "188.250.157.192\n",
            "94.242.255.188\n",
            "54.204.217.52\n",
            "49.50.247.181\n",
            "117.244.105.81\n",
            "65.19.138.33\n",
            "141.142.223.45\n",
            "174.51.6.146\n",
            "199.204.56.18\n",
            "37.187.101.122\n",
            "46.118.126.53\n",
            "68.180.224.225\n",
            "37.31.40.234\n",
            "50.103.242.61\n",
            "99.158.0.150\n",
            "86.101.235.77\n",
            "180.76.6.14\n",
            "46.33.196.184\n",
            "37.115.112.88\n",
            "208.43.255.28\n",
            "118.186.69.62\n",
            "80.108.184.97\n",
            "199.116.117.212\n",
            "54.224.92.206\n",
            "95.82.59.254\n",
            "80.241.254.122\n",
            "172.56.29.98\n",
            "78.128.48.215\n",
            "95.172.74.38\n",
            "180.76.6.146\n",
            "46.28.105.80\n",
            "93.80.29.12\n",
            "54.242.167.99\n",
            "23.229.67.14\n",
            "81.187.167.236\n",
            "79.235.40.176\n",
            "199.30.20.161\n",
            "118.93.208.204\n",
            "5.102.173.71\n",
            "90.1.43.248\n",
            "129.184.84.13\n",
            "108.178.45.172\n",
            "66.249.73.185\n",
            "107.170.40.200\n",
            "216.152.243.152\n",
            "184.154.100.130\n",
            "190.73.45.219\n",
            "188.207.200.116\n",
            "199.15.233.137\n",
            "60.29.35.14\n",
            "76.103.82.13\n",
            "77.234.68.135\n",
            "188.159.245.205\n",
            "173.192.238.58\n",
            "94.7.95.97\n",
            "184.154.170.122\n",
            "115.114.17.146\n",
            "185.37.161.34\n",
            "50.105.149.90\n",
            "207.241.237.226\n",
            "188.205.61.177\n",
            "24.130.53.65\n",
            "178.172.239.240\n",
            "181.141.250.44\n",
            "193.33.2.113\n",
            "157.56.92.158\n",
            "105.235.130.196\n",
            "24.11.96.184\n",
            "212.227.66.11\n",
            "84.233.151.236\n",
            "99.101.69.97\n",
            "123.125.71.116\n",
            "76.164.234.106\n",
            "5.10.83.66\n",
            "91.177.205.119\n",
            "172.251.97.53\n",
            "84.112.29.184\n",
            "67.220.144.83\n",
            "195.194.187.106\n",
            "70.182.103.221\n",
            "74.221.220.196\n",
            "217.140.110.23\n",
            "62.4.23.48\n",
            "94.79.44.40\n",
            "217.172.190.158\n",
            "180.222.70.88\n",
            "157.55.33.17\n",
            "199.30.25.233\n",
            "86.103.158.181\n",
            "180.76.5.39\n",
            "80.160.68.134\n",
            "66.162.222.50\n",
            "194.186.207.105\n",
            "217.69.133.70\n",
            "180.153.236.175\n",
            "79.176.36.151\n",
            "213.112.247.129\n",
            "41.74.172.23\n",
            "125.237.203.218\n",
            "182.72.242.3\n",
            "89.136.142.105\n",
            "76.115.204.132\n",
            "213.52.196.70\n",
            "190.131.202.114\n",
            "64.80.110.74\n",
            "155.69.2.12\n",
            "65.55.213.79\n",
            "190.239.74.15\n",
            "223.225.206.164\n",
            "222.14.252.108\n",
            "202.65.36.249\n",
            "62.77.171.249\n",
            "89.238.251.138\n",
            "92.239.20.53\n",
            "5.10.83.30\n",
            "203.84.135.120\n",
            "129.184.84.12\n",
            "74.76.53.142\n",
            "67.61.65.249\n",
            "23.20.83.155\n",
            "203.219.2.2\n",
            "198.245.61.43\n",
            "101.199.108.50\n",
            "62.24.122.25\n",
            "195.228.139.91\n",
            "180.76.6.131\n",
            "184.154.137.213\n",
            "112.110.247.244\n",
            "109.231.204.82\n",
            "99.100.25.83\n",
            "46.109.147.195\n",
            "62.134.44.20\n",
            "8.35.201.52\n",
            "5.102.10.173\n",
            "74.125.176.144\n",
            "74.125.176.83\n",
            "123.125.71.41\n",
            "74.125.40.21\n",
            "86.101.250.29\n",
            "78.46.140.200\n",
            "64.237.35.242\n",
            "187.214.29.27\n",
            "61.246.186.198\n",
            "91.179.36.136\n",
            "157.56.229.247\n",
            "96.242.86.110\n",
            "92.50.146.166\n",
            "71.207.215.148\n",
            "54.219.246.6\n",
            "176.226.17.33\n",
            "83.216.183.22\n",
            "180.76.6.49\n",
            "80.28.130.108\n",
            "157.55.33.108\n",
            "98.85.3.179\n",
            "81.34.53.43\n",
            "157.56.92.141\n",
            "95.37.5.175\n",
            "131.191.91.87\n",
            "131.253.24.47\n",
            "74.125.40.20\n",
            "116.50.181.5\n",
            "5.135.113.131\n",
            "109.109.46.88\n",
            "185.2.138.125\n",
            "46.190.80.53\n",
            "180.76.6.213\n",
            "54.219.33.174\n",
            "193.65.112.2\n",
            "180.76.5.21\n",
            "96.49.174.109\n",
            "46.118.125.84\n",
            "78.49.133.207\n",
            "141.92.18.62\n",
            "94.7.215.43\n",
            "99.146.78.102\n",
            "180.76.5.77\n",
            "185.4.253.67\n",
            "177.106.12.201\n",
            "220.244.10.116\n",
            "86.185.215.203\n",
            "83.221.67.237\n",
            "166.82.99.140\n",
            "83.175.127.2\n",
            "68.4.202.231\n",
            "66.249.83.239\n",
            "122.166.142.108\n",
            "65.55.215.37\n",
            "89.212.62.88\n",
            "211.9.44.193\n",
            "173.44.57.180\n",
            "83.149.9.216\n",
            "150.101.192.144\n",
            "188.236.57.27\n",
            "86.19.216.99\n",
            "192.185.83.181\n",
            "212.48.66.64\n",
            "114.69.226.80\n",
            "193.244.33.47\n",
            "12.165.188.130\n",
            "24.5.221.92\n",
            "80.123.167.213\n",
            "157.56.93.40\n",
            "74.125.176.146\n",
            "94.228.34.233\n",
            "199.189.248.95\n",
            "201.76.90.77\n",
            "61.140.183.41\n",
            "89.121.200.106\n",
            "210.71.251.31\n",
            "208.115.113.88\n",
            "93.57.95.188\n",
            "173.236.34.182\n",
            "84.60.79.43\n",
            "129.10.115.56\n",
            "92.96.157.230\n",
            "193.148.35.14\n",
            "41.248.194.136\n",
            "193.50.193.83\n",
            "212.201.44.247\n",
            "121.99.148.41\n",
            "178.32.51.157\n",
            "204.62.56.3\n",
            "180.76.6.144\n",
            "220.241.45.142\n",
            "65.55.213.74\n",
            "77.185.166.237\n",
            "200.49.190.101\n",
            "172.245.214.208\n",
            "80.118.116.26\n",
            "98.173.30.75\n",
            "180.76.5.193\n",
            "54.221.138.247\n",
            "69.85.215.56\n",
            "203.173.200.21\n",
            "157.127.239.146\n",
            "99.237.56.116\n",
            "130.117.119.80\n",
            "96.63.29.108\n",
            "124.124.1.57\n",
            "31.45.226.43\n",
            "68.120.89.142\n",
            "152.23.4.70\n",
            "106.36.113.138\n",
            "107.22.42.225\n",
            "117.195.177.223\n",
            "130.193.173.90\n",
            "37.59.47.177\n",
            "110.174.108.127\n",
            "88.103.19.195\n",
            "206.47.94.142\n",
            "157.55.33.15\n",
            "180.76.6.46\n",
            "195.44.196.178\n",
            "178.213.67.2\n",
            "198.46.149.143\n",
            "118.169.39.21\n",
            "85.76.162.29\n",
            "62.159.77.167\n",
            "116.75.148.149\n",
            "72.167.232.223\n",
            "5.144.176.110\n",
            "178.255.215.83\n",
            "180.76.5.119\n",
            "207.241.237.223\n",
            "78.134.38.242\n",
            "50.7.50.90\n",
            "188.35.22.24\n",
            "24.147.91.100\n",
            "128.118.108.67\n",
            "180.76.6.130\n",
            "36.38.8.174\n",
            "91.213.10.2\n",
            "111.69.99.101\n",
            "189.11.65.66\n",
            "86.130.160.107\n",
            "185.38.249.96\n",
            "134.158.231.20\n",
            "80.48.102.35\n",
            "82.60.18.23\n",
            "24.115.69.95\n",
            "180.76.6.141\n",
            "213.87.123.186\n",
            "157.55.35.45\n",
            "97.116.185.190\n",
            "111.93.41.206\n",
            "36.250.177.94\n",
            "109.163.234.10\n",
            "31.6.71.243\n",
            "201.74.200.85\n",
            "67.171.28.123\n",
            "82.193.99.33\n",
            "199.30.20.6\n",
            "110.184.146.254\n",
            "81.170.148.153\n",
            "24.21.55.63\n",
            "180.76.5.149\n",
            "98.234.37.228\n",
            "200.85.183.174\n",
            "206.161.220.42\n",
            "5.10.83.105\n",
            "176.181.182.132\n",
            "77.230.140.4\n",
            "204.236.162.60\n",
            "50.131.220.143\n",
            "192.118.78.198\n",
            "54.242.155.74\n",
            "130.88.99.231\n",
            "178.213.66.2\n",
            "180.76.6.150\n",
            "98.227.31.237\n",
            "5.10.83.73\n",
            "31.142.223.246\n",
            "192.227.137.164\n",
            "74.80.168.244\n",
            "92.108.120.46\n",
            "178.24.154.17\n",
            "81.52.143.34\n",
            "49.14.115.120\n",
            "132.252.139.85\n",
            "192.118.118.1\n",
            "99.6.61.4\n",
            "50.139.66.106\n",
            "37.194.3.12\n",
            "85.168.225.197\n",
            "115.188.97.115\n",
            "173.232.105.27\n",
            "199.119.124.45\n",
            "193.105.0.2\n",
            "130.237.218.86\n",
            "173.252.73.114\n",
            "198.27.64.9\n",
            "110.170.125.5\n",
            "173.217.194.185\n",
            "76.14.236.249\n",
            "95.153.110.172\n",
            "180.76.6.148\n",
            "98.64.39.111\n",
            "194.45.150.17\n",
            "178.32.31.15\n",
            "68.174.223.12\n",
            "203.219.136.224\n",
            "194.146.132.138\n",
            "82.200.166.110\n",
            "189.170.95.135\n",
            "217.119.24.14\n",
            "198.50.175.174\n",
            "186.93.30.106\n",
            "200.68.86.233\n",
            "217.69.133.237\n",
            "202.76.247.11\n",
            "106.78.19.160\n",
            "199.59.148.211\n",
            "128.61.85.15\n",
            "173.252.74.113\n",
            "188.192.27.241\n",
            "183.60.214.19\n",
            "193.225.194.254\n",
            "66.6.147.80\n",
            "203.116.59.13\n",
            "78.145.242.171\n",
            "220.181.108.185\n",
            "173.252.77.116\n",
            "46.119.121.49\n",
            "88.115.211.201\n",
            "95.148.254.71\n",
            "195.250.51.10\n",
            "24.111.34.227\n",
            "46.118.118.101\n",
            "128.147.28.1\n",
            "107.170.40.204\n",
            "125.122.211.40\n",
            "202.156.10.254\n",
            "184.154.88.108\n",
            "157.55.32.106\n",
            "79.164.36.106\n",
            "180.76.5.173\n",
            "157.56.92.151\n",
            "98.130.2.118\n",
            "91.99.29.38\n",
            "89.44.18.87\n",
            "216.109.99.4\n"
          ]
        }
      ]
    }
  ],
  "metadata": {
    "kernelspec": {
      "display_name": "Python 3 (ipykernel)",
      "language": "python",
      "name": "python3"
    },
    "language_info": {
      "codemirror_mode": {
        "name": "ipython",
        "version": 3
      },
      "file_extension": ".py",
      "mimetype": "text/x-python",
      "name": "python",
      "nbconvert_exporter": "python",
      "pygments_lexer": "ipython3",
      "version": "3.8.10"
    },
    "colab": {
      "name": "python3-devops.ipynb",
      "provenance": [],
      "collapsed_sections": [],
      "include_colab_link": true
    },
    "gpuClass": "standard"
  },
  "nbformat": 4,
  "nbformat_minor": 5
}