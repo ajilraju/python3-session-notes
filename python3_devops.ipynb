{
  "cells": [
    {
      "cell_type": "markdown",
      "metadata": {
        "id": "view-in-github",
        "colab_type": "text"
      },
      "source": [
        "<a href=\"https://colab.research.google.com/github/ajilraju/python3-session-notes/blob/main/python3_devops.ipynb\" target=\"_parent\"><img src=\"https://colab.research.google.com/assets/colab-badge.svg\" alt=\"Open In Colab\"/></a>"
      ]
    },
    {
      "cell_type": "markdown",
      "source": [
        "# Day 01"
      ],
      "metadata": {
        "id": "9sAOf49iqLWe"
      },
      "id": "9sAOf49iqLWe"
    },
    {
      "cell_type": "markdown",
      "source": [
        "# Python Programming (Python3) 🐍\n",
        "\n",
        "## Get Started\n",
        "\n",
        "* ### Python is an interpreted, object-oriented, high-level programming language with dynamic semantics.\n",
        "* ### Created by Guido van Rossum, and released in 1991.\n",
        "* ### [Why Python2 and Python3](https://www.geeksforgeeks.org/important-differences-between-python-2-x-and-python-3-x-with-examples/).\n",
        "* ### [More about Python](https://en.wikipedia.org/wiki/Python_(programming_language).\n"
      ],
      "metadata": {
        "id": "SvH2RF33QQoQ"
      },
      "id": "SvH2RF33QQoQ"
    },
    {
      "cell_type": "markdown",
      "source": [
        "## First Python Program\n",
        "\n",
        "`hello_world.py`\n",
        "\n",
        "Run the script by Python3 interpreter\n",
        "```bash\n",
        "python3 hello_world.py\n",
        "```\n"
      ],
      "metadata": {
        "id": "rU0lPOsWBzDI"
      },
      "id": "rU0lPOsWBzDI"
    },
    {
      "cell_type": "code",
      "source": [
        "print(\"Hello World!\")\n",
        "print('hello world')\n",
        "print(\"I'm Love Python\")"
      ],
      "metadata": {
        "id": "clJOanayCp7z",
        "colab": {
          "base_uri": "https://localhost:8080/"
        },
        "outputId": "b8afeb8e-8c10-4350-b4f6-5a760d25eeba"
      },
      "id": "clJOanayCp7z",
      "execution_count": null,
      "outputs": [
        {
          "output_type": "stream",
          "name": "stdout",
          "text": [
            "Hello World!\n",
            "hello world\n",
            "I'm Love Python\n"
          ]
        }
      ]
    },
    {
      "cell_type": "markdown",
      "source": [
        "## Variables\n",
        "\n",
        "* A Python Variables is a name given to a memory location. It is the basic unit of storage in a program.\n",
        "* [More about variables](https://en.wikipedia.org/wiki/Variable_(computer_science)\n",
        "\n",
        "### *Syntax*\n",
        "**varible_name = value**\n",
        "\n",
        "Eg: **my_name = \"Tom\"**"
      ],
      "metadata": {
        "id": "XLsm4f-5FwDO"
      },
      "id": "XLsm4f-5FwDO"
    },
    {
      "cell_type": "code",
      "source": [
        "first_varible = \"First value\""
      ],
      "metadata": {
        "id": "haWAPYZas70-"
      },
      "id": "haWAPYZas70-",
      "execution_count": null,
      "outputs": []
    },
    {
      "cell_type": "code",
      "source": [
        "my_name = \"Tom\"\n",
        "my_age = 25\n",
        "my_weight = 75.5\n",
        "\n",
        "print(first_varible)\n",
        "print(my_name)\n",
        "print(my_age)\n",
        "print(my_weight)"
      ],
      "metadata": {
        "id": "mNwCz1V1HH44",
        "colab": {
          "base_uri": "https://localhost:8080/"
        },
        "outputId": "4996e889-91cd-403f-aa78-2d736371c75d"
      },
      "id": "mNwCz1V1HH44",
      "execution_count": null,
      "outputs": [
        {
          "output_type": "stream",
          "name": "stdout",
          "text": [
            "First value\n",
            "Tom\n",
            "25\n",
            "75.5\n"
          ]
        }
      ]
    },
    {
      "cell_type": "markdown",
      "source": [
        "### Varible type data-type\n",
        "* string  `\"hello world or 'hello world'`\n",
        "* intger  `100`\n",
        "* float   `200.23`\n",
        "* boolean `True or False`\n",
        "* complex `1j`\n",
        "* [more](https://www.w3schools.com/python/python_datatypes.asp)"
      ],
      "metadata": {
        "id": "TI3POdtrzTP0"
      },
      "id": "TI3POdtrzTP0"
    },
    {
      "cell_type": "markdown",
      "source": [
        "## Working with string\n",
        "\n",
        "* A string is a series of characters. \n",
        "* Anything inside quotes is considered a string in Python.\n",
        "* Use single or double quotes around your strings\n",
        "* [String methods](https://docs.python.org/3/library/stdtypes.html#string-methods)"
      ],
      "metadata": {
        "id": "kmveI2m-1-MC"
      },
      "id": "kmveI2m-1-MC"
    },
    {
      "cell_type": "code",
      "source": [
        "# Using sring\n",
        "country_name = 'india'\n",
        "print(country_name)\n",
        "\n",
        "print(country_name.title())\n",
        "# title() is called method, \n",
        "# A method is an action that Python can perform on a piece of data.\n",
        "\n",
        "print(country_name.lower())\n",
        "print(country_name.upper())\n",
        "print(len(country_name))  # Special string function to find the string char length.\n",
        "print(type(country_name)) # Special function to out the data-type."
      ],
      "metadata": {
        "id": "QYnN2FyH0Xbx",
        "colab": {
          "base_uri": "https://localhost:8080/"
        },
        "outputId": "06621d83-fd50-40b2-ea01-01bd2dc92985"
      },
      "id": "QYnN2FyH0Xbx",
      "execution_count": null,
      "outputs": [
        {
          "output_type": "stream",
          "name": "stdout",
          "text": [
            "india\n",
            "India\n",
            "india\n",
            "INDIA\n",
            "5\n",
            "<class 'str'>\n"
          ]
        }
      ]
    },
    {
      "cell_type": "markdown",
      "source": [
        "### Using varible inside string\n",
        "\n",
        "* [f-­strings](https://peps.python.org/pep-0498)\n",
        "* Eg: `f\"Hello! {varible_name}\"`"
      ],
      "metadata": {
        "id": "_5ErI6ch2vHb"
      },
      "id": "_5ErI6ch2vHb"
    },
    {
      "cell_type": "code",
      "source": [
        "possession = \"I\"\n",
        "\n",
        "print(f\"Hello Folks, {possession} love {country_name.title()}\")"
      ],
      "metadata": {
        "id": "PmsYqFwV3V9f",
        "colab": {
          "base_uri": "https://localhost:8080/"
        },
        "outputId": "79ac7567-a023-428f-89d1-87d1434ed252"
      },
      "id": "PmsYqFwV3V9f",
      "execution_count": null,
      "outputs": [
        {
          "output_type": "stream",
          "name": "stdout",
          "text": [
            "Hello Folks, I love India\n"
          ]
        }
      ]
    },
    {
      "cell_type": "markdown",
      "source": [
        "# Day 02"
      ],
      "metadata": {
        "id": "O6JkjLl4qIpm"
      },
      "id": "O6JkjLl4qIpm"
    },
    {
      "cell_type": "markdown",
      "source": [
        "## Numbers\n",
        "\n",
        "### Integer\n",
        "\n",
        "```\n",
        "2 + 2\n",
        "3 * 6\n",
        "```\n",
        "\n",
        "### Float\n",
        "\n",
        "Python calls any number with a decimal point a float.\n",
        "```\n",
        "3.43 + 3.14\n",
        "3 * 235\n",
        "```\n",
        "\n",
        "### Underscore in Numbers\n",
        "`universe_age = 14_000_000_000`\n",
        "\n",
        "### Multiple Assignment\n",
        "`x, y, z = 10, 100, 34.33`\n",
        "\n",
        "### Constants\n",
        "A constant is like a variable whose value stays the same throughout the life of a program. Python doesn’t have built-­in constant types.\n",
        "\n",
        "`MAX_CONNECTIONS = 5000`\n",
        "\n",
        "### Conversion\n",
        "* `int(x)` convert other datatype into int. x be the other datatype value."
      ],
      "metadata": {
        "id": "5ZomJbryoqUi"
      },
      "id": "5ZomJbryoqUi"
    },
    {
      "cell_type": "code",
      "source": [
        "sum = 2 + 2\n",
        "product = 2 * 6\n",
        "\n",
        "PI = 3.14159 # Constant\n",
        "\n",
        "sum_float = 2 + 2.22\n",
        "product_float = 3 * PI\n",
        "\n",
        "x, y, z = 1, 3, 2\n",
        "\n",
        "universe_age = 14_000_000_000\n",
        "\n",
        "print(sum)\n",
        "print(product)\n",
        "\n",
        "print(sum_float)\n",
        "print(product_float)\n",
        "\n",
        "print(f\"x = {x}, y = {y}, z = {z}\")\n",
        "\n",
        "print(universe_age * 2)"
      ],
      "metadata": {
        "id": "h7G4XMvqq0C4",
        "colab": {
          "base_uri": "https://localhost:8080/"
        },
        "outputId": "2eb5088f-3b5b-4748-8e20-cbaa93015289"
      },
      "id": "h7G4XMvqq0C4",
      "execution_count": null,
      "outputs": [
        {
          "output_type": "stream",
          "name": "stdout",
          "text": [
            "4\n",
            "12\n",
            "4.220000000000001\n",
            "9.424769999999999\n",
            "x = 1, y = 3, z = 2\n",
            "28000000000\n"
          ]
        }
      ]
    },
    {
      "cell_type": "markdown",
      "source": [
        "## Python Operators\n",
        "\n",
        "* Arithmetic operators\n",
        "* Assignment operators\n",
        "* Comparison operators\n",
        "* Logical operators\n",
        "* Identity operators\n",
        "* Membership operators\n",
        "* Bitwise operators\n",
        "* [More about operators](https://www.w3schools.com/python/python_operators.asp)\n",
        "\n",
        "\n",
        "    | Operator | Operand |\n",
        "    |----------|---------|\n",
        "    |+ = - **  | x, sum  |\n"
      ],
      "metadata": {
        "id": "Pmddq9wHsJb9"
      },
      "id": "Pmddq9wHsJb9"
    },
    {
      "cell_type": "code",
      "source": [
        "# Arithmetic Operators\n",
        "print(2 + 2)\n",
        "print(2 * 2)\n",
        "print(2 - 2)\n",
        "print(3 / 2)\n",
        "print(3 % 2)\n",
        "print(2 ** 3)\n",
        "print(3 // 2)\n",
        "\n",
        "# Assignment Operators\n",
        "x = 10\n",
        "x = x + 10\n",
        "\n",
        "y = 10\n",
        "y += 10\n",
        "\n",
        "x *= 10\n",
        "\n",
        "print(y)\n",
        "print(x)\n",
        "\n",
        "# Comparison Operators\n",
        "print(2 == 2)\n",
        "print(2 > 3)\n",
        "print(2 < 2)\n",
        "print(2 <= 2)\n",
        "print(2 != 2)\n",
        "\n",
        "# Logical Operators\n",
        "print(True and True)\n",
        "print(True and False)\n",
        "print(True or True)\n",
        "print(True or False)\n",
        "print(not True)\n",
        "print(not False)\n",
        "\n"
      ],
      "metadata": {
        "id": "7AlGbq1As1qk",
        "colab": {
          "base_uri": "https://localhost:8080/"
        },
        "outputId": "2964fb53-33da-4fe4-fa18-160db6bb5485"
      },
      "id": "7AlGbq1As1qk",
      "execution_count": null,
      "outputs": [
        {
          "output_type": "stream",
          "name": "stdout",
          "text": [
            "4\n",
            "4\n",
            "0\n",
            "1.5\n",
            "1\n",
            "8\n",
            "1\n",
            "20\n",
            "200\n",
            "True\n",
            "False\n",
            "False\n",
            "True\n",
            "False\n",
            "True\n",
            "False\n",
            "True\n",
            "True\n",
            "False\n",
            "True\n"
          ]
        }
      ]
    },
    {
      "cell_type": "markdown",
      "source": [
        "## User input\n",
        "Developers often have a need to interact with users, either to get data or to provide some sort of result.\n",
        "\n",
        "`input(prompt)`\n",
        "\n",
        "`value = input(\"Enter your age\")`"
      ],
      "metadata": {
        "id": "al8-oWymxd8Y"
      },
      "id": "al8-oWymxd8Y"
    },
    {
      "cell_type": "code",
      "source": [
        "name = input(\"Enter your name: \")\n",
        "age = input(\"Enter you age: \")\n",
        "\n",
        "print(f\"Hello!!! {name} welcome to the world of python\")\n",
        "print(age)"
      ],
      "metadata": {
        "id": "rR6gOOb2yAwh",
        "colab": {
          "base_uri": "https://localhost:8080/"
        },
        "outputId": "a40a08bc-91bb-4c1a-afa4-1909802b6869"
      },
      "id": "rR6gOOb2yAwh",
      "execution_count": null,
      "outputs": [
        {
          "output_type": "stream",
          "name": "stdout",
          "text": [
            "Enter your name: tim\n",
            "Enter you age: 52\n",
            "Hello!!! tim welcome to the world of python\n",
            "52\n"
          ]
        }
      ]
    },
    {
      "cell_type": "code",
      "source": [
        "number = input(\"Enter the number\")\n",
        "print(2 + int(number))"
      ],
      "metadata": {
        "id": "OBwEka0WzI21",
        "colab": {
          "base_uri": "https://localhost:8080/"
        },
        "outputId": "df77e7f1-5628-40e9-9e2f-bf4622830047"
      },
      "id": "OBwEka0WzI21",
      "execution_count": null,
      "outputs": [
        {
          "output_type": "stream",
          "name": "stdout",
          "text": [
            "Enter the number100\n",
            "102\n"
          ]
        }
      ]
    },
    {
      "cell_type": "code",
      "source": [
        "# Simple Calculator\n",
        "f_num = input(\"Enter the first number: \")\n",
        "s_num = int(input(\"Enter the second number: \"))\n",
        "\n",
        "f_num = int(f_num)\n",
        "\n",
        "print(\"=\" * 10)\n",
        "print(f\"Sum of {f_num} and {s_num} = {f_num + s_num}\")\n",
        "print(f\"Product of {f_num} and {s_num} = {f_num * s_num}\")\n",
        "print(f\"Quotient of {f_num} and {s_num} = {f_num / s_num}\")\n",
        "\n"
      ],
      "metadata": {
        "id": "aKK_AYr2ygUy",
        "colab": {
          "base_uri": "https://localhost:8080/"
        },
        "outputId": "8916165d-94d8-4e73-d47f-4c3aaff50347"
      },
      "id": "aKK_AYr2ygUy",
      "execution_count": null,
      "outputs": [
        {
          "output_type": "stream",
          "name": "stdout",
          "text": [
            "Enter the first number: 3\n",
            "Enter the second number: 2\n",
            "==========\n",
            "Sum of 3 and 2 = 5\n",
            "Product of 3 and 2 = 6\n",
            "Quotient of 3 and 2 = 1.5\n"
          ]
        }
      ]
    },
    {
      "cell_type": "markdown",
      "source": [
        "## Lists\n",
        "* A list is a collection of items in a particular order.\n",
        "* In Python, square brackets `( [] )` indicate a list, and individual elements in the list are separated by commas.\n",
        "*   ```\n",
        "    bicycles = ['trek', 'cannondale', 'redline', 'specialized']\n",
        "    print(bicycles)\n",
        "    ```\n",
        "\n",
        "\n"
      ],
      "metadata": {
        "id": "FzMNs5evjzC0"
      },
      "id": "FzMNs5evjzC0"
    },
    {
      "cell_type": "code",
      "source": [
        "bicycles = ['trek', 'cannondale', 'redline', 'specialized']\n",
        "print(bicycles)"
      ],
      "metadata": {
        "id": "gjzxADHWkrol",
        "colab": {
          "base_uri": "https://localhost:8080/"
        },
        "outputId": "28ada3ce-909f-4095-f705-ca9bd9951342"
      },
      "id": "gjzxADHWkrol",
      "execution_count": null,
      "outputs": [
        {
          "output_type": "stream",
          "name": "stdout",
          "text": [
            "['trek', 'cannondale', 'redline', 'specialized']\n"
          ]
        }
      ]
    },
    {
      "cell_type": "markdown",
      "source": [
        "### Accessing elements in List\n",
        "\n",
        "* Lists are ordered collections.\n",
        "* Access any element in a list by telling Python the position, or index, of the item desired.\n",
        "* Index Positions Start at 0, Not 1\n",
        "* Last element is `(N-1)`\n",
        "* Python has a special syntax for accessing the last element in a list. with *negative index*."
      ],
      "metadata": {
        "id": "Vkr9noLok0z8"
      },
      "id": "Vkr9noLok0z8"
    },
    {
      "cell_type": "code",
      "source": [
        "print(bicycles[0])\n",
        "print(bicycles[0].title())\n",
        "print(bicycles[-1])\n",
        "print(bicycles[-2])"
      ],
      "metadata": {
        "id": "okmrfu3dlCbo",
        "colab": {
          "base_uri": "https://localhost:8080/"
        },
        "outputId": "5d23789a-7689-47c1-9ed2-9ec76470f3cc"
      },
      "id": "okmrfu3dlCbo",
      "execution_count": null,
      "outputs": [
        {
          "output_type": "stream",
          "name": "stdout",
          "text": [
            "trek\n",
            "Trek\n",
            "specialized\n",
            "redline\n"
          ]
        }
      ]
    },
    {
      "cell_type": "markdown",
      "source": [
        "### Modifiying element in a List"
      ],
      "metadata": {
        "id": "X9MUOsX5mfav"
      },
      "id": "X9MUOsX5mfav"
    },
    {
      "cell_type": "code",
      "source": [
        "bicycles[1] = 'BMX'\n",
        "print(bicycles)"
      ],
      "metadata": {
        "id": "b4MQZea7mpCo"
      },
      "id": "b4MQZea7mpCo",
      "execution_count": null,
      "outputs": []
    },
    {
      "cell_type": "markdown",
      "source": [
        "### Adding Elements to a List\n",
        "* Appending Elements to the End of a List, `append(ele)`.\n",
        "* Inserting Elements into a List, `insert(pos, elem)`.\n"
      ],
      "metadata": {
        "id": "yZemEKAKm4zN"
      },
      "id": "yZemEKAKm4zN"
    },
    {
      "cell_type": "markdown",
      "source": [
        "### More about List\n",
        "[Python3 list](https://docs.python.org/3/tutorial/datastructures.html)"
      ],
      "metadata": {
        "id": "SAINb7_KnU2l"
      },
      "id": "SAINb7_KnU2l"
    },
    {
      "cell_type": "markdown",
      "source": [
        "# Day 03"
      ],
      "metadata": {
        "id": "eQFisnJSet83"
      },
      "id": "eQFisnJSet83"
    },
    {
      "cell_type": "markdown",
      "source": [
        "## Decision Making (if-else statement)\n",
        "* Decision making is anticipation of conditions occurring while execution of the program and specifying actions taken according to the conditions.\n",
        "* Decision structures evaluate multiple expressions which produce TRUE or FALSE as outcome.\n",
        "![image](https://www.tutorialspoint.com/python/images/decision_making.jpg)\n",
        "* Python programming language assumes any non-zero and non-null values as TRUE, and if it is either zero or null, then it is assumed as FALSE value.\n",
        "* **if statement**\n",
        "* **if..else statement**\n",
        "* **nested if statement**\n",
        "\n",
        "* [Watch out Indentation](https://peps.python.org/pep-0008/#indentation)"
      ],
      "metadata": {
        "id": "UFlBY3iPno_Q"
      },
      "id": "UFlBY3iPno_Q"
    },
    {
      "cell_type": "code",
      "source": [
        "total_days_year = 365\n",
        "\n",
        "if total_days_year == 365:\n",
        "    print(\"You're in Earth.\")"
      ],
      "metadata": {
        "id": "hg5topLqo-pH",
        "colab": {
          "base_uri": "https://localhost:8080/"
        },
        "outputId": "0d614f99-bc3e-420a-ac85-871d97bd6567"
      },
      "id": "hg5topLqo-pH",
      "execution_count": null,
      "outputs": [
        {
          "output_type": "stream",
          "name": "stdout",
          "text": [
            "You're in Earth.\n"
          ]
        }
      ]
    },
    {
      "cell_type": "code",
      "source": [
        "if total_days_year == 3666:\n",
        "    print(\"You're in Exo\")\n",
        "else:\n",
        "    print(\"You're in Earth\")"
      ],
      "metadata": {
        "id": "3ByV-WENp8c6",
        "colab": {
          "base_uri": "https://localhost:8080/"
        },
        "outputId": "3f32df0d-7c72-424a-8429-a42a3f4c8702"
      },
      "id": "3ByV-WENp8c6",
      "execution_count": null,
      "outputs": [
        {
          "output_type": "stream",
          "name": "stdout",
          "text": [
            "You're in Earth\n"
          ]
        }
      ]
    },
    {
      "cell_type": "code",
      "source": [
        "total_days_year = int(input(\"Enter days: \"))\n",
        "if total_days_year == 365:\n",
        "    print(\"You're in Earth\")\n",
        "elif total_days_year == 243:\n",
        "    print(\"You're in Venus\")\n",
        "else:\n",
        "    print(\"You're in Exoplant\")"
      ],
      "metadata": {
        "id": "wZPXr_pnr2A3"
      },
      "id": "wZPXr_pnr2A3",
      "execution_count": null,
      "outputs": []
    },
    {
      "cell_type": "markdown",
      "source": [
        "### Example: Decision Making (Covid Vaccine)"
      ],
      "metadata": {
        "id": "TJnUBPELSrqj"
      },
      "id": "TJnUBPELSrqj"
    },
    {
      "cell_type": "code",
      "source": [
        "age = int(input(\"Enter you age: \"))\n",
        "\n",
        "if age >= 18:\n",
        "    taken_first_dose = input(\"Have you taken the first dose covid vaccine (y/n): \")\n",
        "    if taken_first_dose == 'y' or taken_first_dose == 'Y':\n",
        "        print(\"You're eligible to second dose vaccine\")\n",
        "    else:\n",
        "        print(\"Visit your nearest vaccine centre first dose vaccine\")\n",
        "else:\n",
        "    print(\"You are minor, Keep: 😷 🧼\")"
      ],
      "metadata": {
        "colab": {
          "base_uri": "https://localhost:8080/"
        },
        "id": "2jpV8ajSSqee",
        "outputId": "c4e414f2-33b6-4aa3-aa9c-fd48ace133c5"
      },
      "id": "2jpV8ajSSqee",
      "execution_count": null,
      "outputs": [
        {
          "output_type": "stream",
          "name": "stdout",
          "text": [
            "Enter you age2\n",
            "You are minor, Keep: 😷 🧼\n"
          ]
        }
      ]
    },
    {
      "cell_type": "markdown",
      "source": [
        "## Loops\n",
        "Loop is a sequence of instruction s that is continually repeated until a certain condition is reached.\n",
        "* **While loops (Conditional loops)**\n",
        "* **For loops (Counting loops)**\n",
        "* **[More](https://docs.python.org/3/tutorial/controlflow.html)**\n",
        "* `break, continue and else` are the loop controllers\n"
      ],
      "metadata": {
        "id": "2XL87eiOqucd"
      },
      "id": "2XL87eiOqucd"
    },
    {
      "cell_type": "markdown",
      "source": [
        "### While Loops\n",
        "`while` loop we can execute a set of statements as long as a condition is true."
      ],
      "metadata": {
        "id": "XuNTy7N3IBX_"
      },
      "id": "XuNTy7N3IBX_"
    },
    {
      "cell_type": "code",
      "source": [
        "number = 1\n",
        "count = 1\n",
        "while number <= 10:\n",
        "    print(f\"Iteration {count}, number variable value is {number}\")\n",
        "    count += 1\n",
        "    number += 1\n"
      ],
      "metadata": {
        "id": "CDgklaNCIQ9r"
      },
      "id": "CDgklaNCIQ9r",
      "execution_count": null,
      "outputs": []
    },
    {
      "cell_type": "markdown",
      "source": [
        "### For Loops\n",
        "A `for` loop is used for iterating over a sequence (that is either a list, a tuple, a dictionary, a set, or a string)."
      ],
      "metadata": {
        "id": "85b-CH0uH5K8"
      },
      "id": "85b-CH0uH5K8"
    },
    {
      "cell_type": "code",
      "source": [
        "cars = [\"Nissan\", \"Tata\", \"Hyundai\", \"MG\", \"BMW\"]\n",
        "\n",
        "for car in cars:\n",
        "    print(car)\n",
        "\n",
        "print(\"*\" * 20)\n",
        "for car in cars:\n",
        "    print(f\"{car} is so nice\")\n",
        "\n",
        "print(\"=\" * 20)\n",
        "for i in range(0, 10):\n",
        "    print(i)"
      ],
      "metadata": {
        "id": "22mGcArfJGu7"
      },
      "id": "22mGcArfJGu7",
      "execution_count": null,
      "outputs": []
    },
    {
      "cell_type": "markdown",
      "source": [
        "### Examples of break and continue in loops"
      ],
      "metadata": {
        "id": "ngFraxzpLH_6"
      },
      "id": "ngFraxzpLH_6"
    },
    {
      "cell_type": "code",
      "source": [
        "for i in range(1, 10):\n",
        "    if i == 5:\n",
        "        break\n",
        "    print(i)"
      ],
      "metadata": {
        "id": "0JgEpyibLM9V"
      },
      "id": "0JgEpyibLM9V",
      "execution_count": null,
      "outputs": []
    },
    {
      "cell_type": "code",
      "source": [
        "for i in range(1, 10):\n",
        "    if i == 5:\n",
        "        continue\n",
        "    print(i)"
      ],
      "metadata": {
        "id": "zTju6gkaLdpZ"
      },
      "id": "zTju6gkaLdpZ",
      "execution_count": null,
      "outputs": []
    },
    {
      "cell_type": "markdown",
      "source": [
        "### Example of while and for loops"
      ],
      "metadata": {
        "id": "nw3DNEyrL5Nh"
      },
      "id": "nw3DNEyrL5Nh"
    },
    {
      "cell_type": "code",
      "source": [
        "# program: printing even nubmers\n",
        "\n",
        "number = 1\n",
        "\n",
        "while number <= 20:\n",
        "    if number % 2 != 0:\n",
        "        print(number)\n",
        "    number += 1"
      ],
      "metadata": {
        "id": "qHzBoF-_L8_u"
      },
      "id": "qHzBoF-_L8_u",
      "execution_count": null,
      "outputs": []
    },
    {
      "cell_type": "code",
      "source": [
        "for num in range(1, 21):\n",
        "    if num % 2 != 0:\n",
        "        print(num)"
      ],
      "metadata": {
        "id": "8IErza7yMnFo"
      },
      "id": "8IErza7yMnFo",
      "execution_count": null,
      "outputs": []
    },
    {
      "cell_type": "markdown",
      "source": [
        "### Example: Pasword policy checker"
      ],
      "metadata": {
        "id": "aMlZnFueOD-s"
      },
      "id": "aMlZnFueOD-s"
    },
    {
      "cell_type": "code",
      "source": [
        "# title Default title text\n",
        "# program: password policy checking.\n",
        "#\n",
        "\n",
        "# Password policies are\n",
        "# * Atlest 1 uppercase\n",
        "# * Atlest 1 lowercase\n",
        "# * Atlest 1 digit\n",
        "# * Atlest 1 special character\n",
        "# * min length 8 characters\n",
        "# * max length 12 characters\n",
        "\n",
        "password = input(\"Enter your password: \")\n",
        "\n",
        "upper   = False\n",
        "lower   = False\n",
        "digit   = False\n",
        "special = False\n",
        "\n",
        "if len(password) >= 8 and len(password) <= 12:\n",
        "    for char in password:\n",
        "        if char.isupper():\n",
        "            upper = True\n",
        "        elif char.islower():\n",
        "            lower = True\n",
        "        elif char.isdigit():\n",
        "            digit = True\n",
        "        else:\n",
        "            special = True\n",
        "    if upper and lower and digit and special:\n",
        "        print(\"Valid password\")\n",
        "    else:\n",
        "        print(\"Not all password policy met\")\n",
        "else:\n",
        "    print(\"Password is too short or large\")"
      ],
      "metadata": {
        "id": "XKwWhahEOJzG",
        "colab": {
          "base_uri": "https://localhost:8080/"
        },
        "outputId": "3d8027f2-ef5a-41b0-fc8d-f7d3453d3456"
      },
      "id": "XKwWhahEOJzG",
      "execution_count": null,
      "outputs": [
        {
          "output_type": "stream",
          "name": "stdout",
          "text": [
            "Enter your password: 54\n",
            "Password is too short or large\n"
          ]
        }
      ]
    },
    {
      "cell_type": "markdown",
      "source": [
        "# Day 04\n"
      ],
      "metadata": {
        "id": "rA2f8v3ia_fR"
      },
      "id": "rA2f8v3ia_fR"
    },
    {
      "cell_type": "markdown",
      "source": [
        "### Example: Find Odd and Even number"
      ],
      "metadata": {
        "id": "fBF30NGVRPSD"
      },
      "id": "fBF30NGVRPSD"
    },
    {
      "cell_type": "code",
      "source": [
        "for num in range(1, 11):\n",
        "    if num % 2 == 0:\n",
        "        print(\"Found an even number\", num)\n",
        "        continue\n",
        "    print(\"Found an odd number\", num)"
      ],
      "metadata": {
        "id": "Aw6FhoYoRTuk",
        "colab": {
          "base_uri": "https://localhost:8080/"
        },
        "outputId": "1aa8f89d-5068-4557-e761-7301fd1b59f1"
      },
      "id": "Aw6FhoYoRTuk",
      "execution_count": null,
      "outputs": [
        {
          "output_type": "stream",
          "name": "stdout",
          "text": [
            "Found an odd number 1\n",
            "Found an even number 2\n",
            "Found an odd number 3\n",
            "Found an even number 4\n",
            "Found an odd number 5\n",
            "Found an even number 6\n",
            "Found an odd number 7\n",
            "Found an even number 8\n",
            "Found an odd number 9\n",
            "Found an even number 10\n"
          ]
        }
      ]
    },
    {
      "cell_type": "markdown",
      "source": [
        "### Nest Loops"
      ],
      "metadata": {
        "id": "niLeuSpsfIEH"
      },
      "id": "niLeuSpsfIEH"
    },
    {
      "cell_type": "code",
      "source": [
        "for f in range(1, 4):\n",
        "    for s in range(1, 6):\n",
        "        print(f\"outside loop var={f}, inside loop var={s}\")"
      ],
      "metadata": {
        "colab": {
          "base_uri": "https://localhost:8080/"
        },
        "id": "2sJ9_n2sfMdW",
        "outputId": "ade368c9-95b1-476b-dda0-cb4e80b9923b"
      },
      "id": "2sJ9_n2sfMdW",
      "execution_count": null,
      "outputs": [
        {
          "output_type": "stream",
          "name": "stdout",
          "text": [
            "outside loop var=1, inside loop var=1\n",
            "outside loop var=1, inside loop var=2\n",
            "outside loop var=1, inside loop var=3\n",
            "outside loop var=1, inside loop var=4\n",
            "outside loop var=1, inside loop var=5\n",
            "outside loop var=2, inside loop var=1\n",
            "outside loop var=2, inside loop var=2\n",
            "outside loop var=2, inside loop var=3\n",
            "outside loop var=2, inside loop var=4\n",
            "outside loop var=2, inside loop var=5\n",
            "outside loop var=3, inside loop var=1\n",
            "outside loop var=3, inside loop var=2\n",
            "outside loop var=3, inside loop var=3\n",
            "outside loop var=3, inside loop var=4\n",
            "outside loop var=3, inside loop var=5\n"
          ]
        }
      ]
    },
    {
      "cell_type": "code",
      "source": [
        "for i in range(1, 10):\n",
        "    for j in range(0, i):\n",
        "        print(\"*\", end='')\n",
        "    print(\"\")"
      ],
      "metadata": {
        "colab": {
          "base_uri": "https://localhost:8080/"
        },
        "id": "3Pzti-G4f3jM",
        "outputId": "800e40fc-5d34-4eb8-ad91-2f43f2080424"
      },
      "id": "3Pzti-G4f3jM",
      "execution_count": null,
      "outputs": [
        {
          "output_type": "stream",
          "name": "stdout",
          "text": [
            "*\n",
            "**\n",
            "***\n",
            "****\n",
            "*****\n",
            "******\n",
            "*******\n",
            "********\n",
            "*********\n"
          ]
        }
      ]
    },
    {
      "cell_type": "markdown",
      "source": [
        "## Tuples\n",
        "\n",
        "* Tuples are used to store multiple items in a single variable.\n",
        "* Container for storing data items.\n",
        "* Immutable, aka unchangeable.\n",
        "* Tuples are written with round brackets.\n",
        "* [more](https://www.w3schools.com/python/python_tuples.asp)"
      ],
      "metadata": {
        "id": "uBdYkFkwg5Iz"
      },
      "id": "uBdYkFkwg5Iz"
    },
    {
      "cell_type": "code",
      "source": [
        "# Tuple exampless\n",
        "\n",
        "coordinates = (1, 0)\n",
        "print(coordinates)\n",
        "\n",
        "# accessing individual tuple elements\n",
        "print(coordinates[0])\n",
        "\n",
        "# assigning elements to tuples\n",
        "coordinates[0] = 22"
      ],
      "metadata": {
        "id": "4PQzN-8EiIBq",
        "colab": {
          "base_uri": "https://localhost:8080/",
          "height": 235
        },
        "outputId": "63e7de92-1f19-4f2e-fada-e4dd38270b32"
      },
      "id": "4PQzN-8EiIBq",
      "execution_count": null,
      "outputs": [
        {
          "output_type": "stream",
          "name": "stdout",
          "text": [
            "(1, 0)\n",
            "1\n"
          ]
        },
        {
          "output_type": "error",
          "ename": "TypeError",
          "evalue": "ignored",
          "traceback": [
            "\u001b[0;31m---------------------------------------------------------------------------\u001b[0m",
            "\u001b[0;31mTypeError\u001b[0m                                 Traceback (most recent call last)",
            "\u001b[0;32m<ipython-input-9-6333546ee90b>\u001b[0m in \u001b[0;36m<module>\u001b[0;34m()\u001b[0m\n\u001b[1;32m      8\u001b[0m \u001b[0;34m\u001b[0m\u001b[0m\n\u001b[1;32m      9\u001b[0m \u001b[0;31m# assigning elements to tuples\u001b[0m\u001b[0;34m\u001b[0m\u001b[0;34m\u001b[0m\u001b[0;34m\u001b[0m\u001b[0m\n\u001b[0;32m---> 10\u001b[0;31m \u001b[0mcoordinates\u001b[0m\u001b[0;34m[\u001b[0m\u001b[0;36m0\u001b[0m\u001b[0;34m]\u001b[0m \u001b[0;34m=\u001b[0m \u001b[0;36m22\u001b[0m\u001b[0;34m\u001b[0m\u001b[0;34m\u001b[0m\u001b[0m\n\u001b[0m",
            "\u001b[0;31mTypeError\u001b[0m: 'tuple' object does not support item assignment"
          ]
        }
      ]
    },
    {
      "cell_type": "markdown",
      "source": [
        "## Unpacking\n",
        "* Unpacking in Python refers to an operation that consists of assigning an iterable of values to a tuple (or list ) of variables in a single assignment statement."
      ],
      "metadata": {
        "id": "Llu8YXTViyLW"
      },
      "id": "Llu8YXTViyLW"
    },
    {
      "cell_type": "code",
      "source": [
        "coordinates = (1, 2, 20)\n",
        "x = coordinates[0]\n",
        "y = coordinates[1]\n",
        "z = coordinates[2]\n",
        "print(x, y, z)\n",
        "\n",
        "# easy\n",
        "coordinates = (100, 22, 20)\n",
        "x, y, z = coordinates\n",
        "print(x, y, z)"
      ],
      "metadata": {
        "colab": {
          "base_uri": "https://localhost:8080/"
        },
        "id": "lhSyITBJi3CS",
        "outputId": "352d2344-6b1f-44e7-af54-4963493c4c74"
      },
      "id": "lhSyITBJi3CS",
      "execution_count": null,
      "outputs": [
        {
          "output_type": "stream",
          "name": "stdout",
          "text": [
            "1 2 20\n",
            "100 22 20\n"
          ]
        }
      ]
    },
    {
      "cell_type": "markdown",
      "source": [
        "## Dictionary\n",
        "\n",
        "* Dictionaries are used to store data values in key:value pairs.\n",
        "* A dictionary is a collection which is ordered*, changeable and do not allow duplicates.\n",
        "* Dictionaries are written with curly brackets, and have keys and values:\n",
        "\n",
        "* [more](https://www.w3schools.com/python/python_dictionaries.asp)"
      ],
      "metadata": {
        "id": "YXg3LtzojmJz"
      },
      "id": "YXg3LtzojmJz"
    },
    {
      "cell_type": "code",
      "source": [
        "user_details = {\n",
        "    \"name\": \"kevin\",\n",
        "    \"age\": 25,\n",
        "    \"skills\": [\"Python\", \"Ansible\",\n",
        "               \"Ruby\", \"Perl\"]\n",
        "}\n",
        "\n",
        "print(user_details)\n",
        "\n",
        "# Accessing individual elements\n",
        "\n",
        "print(f\"The user name is {user_details['name']} and age is {user_details['age']}\")\n",
        "\n",
        "print(f\"The user name is {user_details.get('name')} and age is {user_details.get('age')}\")\n",
        "\n",
        "print(\"==\" * 20)\n",
        "\n",
        "for k in user_details:\n",
        "    print(k)"
      ],
      "metadata": {
        "colab": {
          "base_uri": "https://localhost:8080/"
        },
        "id": "q_l6k2dzj-F7",
        "outputId": "400d566d-89cb-4e27-faf0-d0581cd8b7c7"
      },
      "id": "q_l6k2dzj-F7",
      "execution_count": null,
      "outputs": [
        {
          "output_type": "stream",
          "name": "stdout",
          "text": [
            "{'name': 'kevin', 'age': 25, 'skills': ['Python', 'Ansible', 'Ruby', 'Perl']}\n",
            "The user name is kevin and age is 25\n",
            "The user name is kevin and age is 25\n",
            "========================================\n",
            "kevin\n",
            "25\n",
            "['Python', 'Ansible', 'Ruby', 'Perl']\n"
          ]
        }
      ]
    },
    {
      "cell_type": "code",
      "source": [
        "# Program: Numbers to word\n",
        "\n",
        "DIGIT_WORD_LIST = {\n",
        "    \"0\": \"Zero\",\n",
        "    \"1\": \"One\",\n",
        "    \"2\": \"Two\",\n",
        "    \"3\": \"Three\",\n",
        "    \"4\": \"Four\",\n",
        "    \"5\": \"Five\",\n",
        "    \"6\": \"Six\",\n",
        "    \"7\": \"Seven\",\n",
        "    \"8\": \"Eight\",\n",
        "    \"9\": \"Nine\",\n",
        "}\n",
        "\n",
        "number = input(\"Enter a multi-digit number:  \")\n",
        "for num in number:\n",
        "    print(DIGIT_WORD_LIST.get(num), end=' ')"
      ],
      "metadata": {
        "colab": {
          "base_uri": "https://localhost:8080/"
        },
        "id": "hssy3ERzvGUM",
        "outputId": "545a8e8b-215c-4f5d-a6f0-cf6e16e525fb"
      },
      "id": "hssy3ERzvGUM",
      "execution_count": null,
      "outputs": [
        {
          "output_type": "stream",
          "name": "stdout",
          "text": [
            "Enter a multi-digit number:  23423\n",
            "Two Three Four Two Three "
          ]
        }
      ]
    },
    {
      "cell_type": "code",
      "source": [
        "# Write a Python program to sum all the items in a dictionary.\n",
        "\n",
        "mark_list = {\"Tom\": 233, \"Tony\": 232, \"Hulk\": 500}\n",
        "print(sum(mark_list.values()))\n"
      ],
      "metadata": {
        "colab": {
          "base_uri": "https://localhost:8080/"
        },
        "id": "-6ZoInMhw9aI",
        "outputId": "0af97a72-cee1-47bb-c895-5e8b0f13d051"
      },
      "id": "-6ZoInMhw9aI",
      "execution_count": null,
      "outputs": [
        {
          "output_type": "stream",
          "name": "stdout",
          "text": [
            "965\n"
          ]
        }
      ]
    },
    {
      "cell_type": "markdown",
      "source": [
        "## Functions\n",
        "\n",
        "\n",
        "* A function is a block of code which only runs when it is called.\n",
        "* You can pass data, known as parameters, into a function.\n",
        "* A function can return data as a result.\n",
        "* Function blocks begin with the keyword `def` followed by the function name and parentheses ( ( ) ).\n",
        "```\n",
        "def function_name(parameters):\n",
        "    \"\"\"docstring\"\"\"\n",
        "    # body of the function\n",
        "    return expression\n",
        "```\n",
        "\n"
      ],
      "metadata": {
        "id": "zPA0UpXHixcH"
      },
      "id": "zPA0UpXHixcH"
    },
    {
      "cell_type": "code",
      "source": [
        "# functions definition\n",
        "def greet():\n",
        "    print(\"Hello!\")\n",
        "\n",
        "# function call\n",
        "greet()\n"
      ],
      "metadata": {
        "colab": {
          "base_uri": "https://localhost:8080/"
        },
        "id": "OS3RYVZXnsOx",
        "outputId": "1e85b8c7-4639-4902-f123-8684530c33bb"
      },
      "id": "OS3RYVZXnsOx",
      "execution_count": null,
      "outputs": [
        {
          "output_type": "stream",
          "name": "stdout",
          "text": [
            "Hello!\n"
          ]
        }
      ]
    },
    {
      "cell_type": "markdown",
      "source": [
        "### Positional Arguments\n"
      ],
      "metadata": {
        "id": "vpOqFvUToUJO"
      },
      "id": "vpOqFvUToUJO"
    },
    {
      "cell_type": "code",
      "source": [
        "def greet_user(username, greet):\n",
        "    print(f\"{greet} {username}\")\n",
        "\n",
        "greet_user('Kevin', 'Hello')"
      ],
      "metadata": {
        "colab": {
          "base_uri": "https://localhost:8080/"
        },
        "id": "z3J9nO27odzY",
        "outputId": "27c628d9-71d1-466e-814b-803481cd8057"
      },
      "id": "z3J9nO27odzY",
      "execution_count": null,
      "outputs": [
        {
          "output_type": "stream",
          "name": "stdout",
          "text": [
            "Hello Kevin\n"
          ]
        }
      ]
    },
    {
      "cell_type": "markdown",
      "source": [
        "### Keyword Arguments\n",
        "* A keyword argument is a name-value pair that you pass to a function.\n",
        "* When you use keyword arguments, be sure to use the exact names of the parameters in the function’s definition."
      ],
      "metadata": {
        "id": "AwzNpHhdo9xy"
      },
      "id": "AwzNpHhdo9xy"
    },
    {
      "cell_type": "code",
      "source": [
        "def greet_user_k(username, greet):\n",
        "    print(f\"{greet} {username}\")\n",
        "\n",
        "greet_user_k(greet='Hola', username='Kevin')"
      ],
      "metadata": {
        "colab": {
          "base_uri": "https://localhost:8080/"
        },
        "id": "OhkyW5hhpBur",
        "outputId": "b3f7c215-2cf5-40a5-c185-d90bbc63c947"
      },
      "id": "OhkyW5hhpBur",
      "execution_count": null,
      "outputs": [
        {
          "output_type": "stream",
          "name": "stdout",
          "text": [
            "Hola Kevin\n"
          ]
        }
      ]
    },
    {
      "cell_type": "markdown",
      "source": [
        "### Default Values"
      ],
      "metadata": {
        "id": "2gbeK90HpSYp"
      },
      "id": "2gbeK90HpSYp"
    },
    {
      "cell_type": "code",
      "source": [
        "def greeting_user(username, greet='Hello!!!!'):\n",
        "    print(f\"{greet} {username}\")\n",
        "\n",
        "greeting_user('Tim Cook')"
      ],
      "metadata": {
        "colab": {
          "base_uri": "https://localhost:8080/"
        },
        "id": "6ri-bMoVpXA4",
        "outputId": "da8d7270-4a1c-4a7d-bb58-56d5f43fbe60"
      },
      "id": "6ri-bMoVpXA4",
      "execution_count": null,
      "outputs": [
        {
          "output_type": "stream",
          "name": "stdout",
          "text": [
            "Hello!!!! Tim Cook\n"
          ]
        }
      ]
    },
    {
      "cell_type": "markdown",
      "source": [
        "### Arbitrary Arguments (Non-Keyword Arguments)\n",
        "* The special syntax `*args` in function definitions in python is used to pass a variable number of arguments to a function. It is used to pass a non-key worded, variable-length argument list."
      ],
      "metadata": {
        "id": "JV__00QCrQGE"
      },
      "id": "JV__00QCrQGE"
    },
    {
      "cell_type": "code",
      "source": [
        "def adder(*numbers):\n",
        "    print(type(numbers))\n",
        "    sum = 0\n",
        "    for num in numbers:\n",
        "        sum += num\n",
        "    return sum\n",
        "\n",
        "print(adder(1, 2, 3, 4, 5))"
      ],
      "metadata": {
        "colab": {
          "base_uri": "https://localhost:8080/"
        },
        "id": "ZsY2Yy77rpIT",
        "outputId": "c311ed28-dc2b-48d7-a455-e8374ea50591"
      },
      "id": "ZsY2Yy77rpIT",
      "execution_count": null,
      "outputs": [
        {
          "output_type": "stream",
          "name": "stdout",
          "text": [
            "<class 'tuple'>\n",
            "15\n"
          ]
        }
      ]
    },
    {
      "cell_type": "markdown",
      "source": [
        "### Arbitrary Arguments (Keyword Arguments)"
      ],
      "metadata": {
        "id": "wNKPC2CWtmzv"
      },
      "id": "wNKPC2CWtmzv"
    },
    {
      "cell_type": "code",
      "source": [
        "def details(**kwargs):\n",
        "    for key, value in kwargs.items():\n",
        "        print(\"%s == %s\" % (key, value))\n",
        " \n",
        " \n",
        "details(name='Tim Cook', age=61, CEO='apple')"
      ],
      "metadata": {
        "colab": {
          "base_uri": "https://localhost:8080/"
        },
        "id": "qAEtUl7ptppP",
        "outputId": "89b01182-6d80-4b31-dbe7-e1e51998df95"
      },
      "id": "qAEtUl7ptppP",
      "execution_count": null,
      "outputs": [
        {
          "output_type": "stream",
          "name": "stdout",
          "text": [
            "name == Tim Cook\n",
            "age == 61\n",
            "CEO == apple\n"
          ]
        }
      ]
    },
    {
      "cell_type": "markdown",
      "source": [
        "### Return Values\n",
        "* A function doesn’t always have to display its output directly. Instead, it can\n",
        "process some data and then return a value or set of values.\n",
        "* The `return` statement takes a value from inside a function and sends it back to the line that called the function."
      ],
      "metadata": {
        "id": "v6rh4JZaqAEK"
      },
      "id": "v6rh4JZaqAEK"
    },
    {
      "cell_type": "code",
      "source": [
        "def mul(f, s):\n",
        "    return f * s\n",
        "\n",
        "mul(10, 10)\n",
        "print(mul(100, 100))"
      ],
      "metadata": {
        "colab": {
          "base_uri": "https://localhost:8080/"
        },
        "id": "PaKjGxKLqPkW",
        "outputId": "4286d025-ed6a-4afa-a99a-f90dc047e2ad"
      },
      "id": "PaKjGxKLqPkW",
      "execution_count": null,
      "outputs": [
        {
          "output_type": "stream",
          "name": "stdout",
          "text": [
            "10000\n"
          ]
        }
      ]
    },
    {
      "cell_type": "code",
      "source": [
        "\n",
        "\n",
        "def upper(string):\n",
        "    upper_str = ''\n",
        "    for s in string:\n",
        "        if s.isalpha():\n",
        "            upper_str += chr((ord(s) - 32))\n",
        "        else:\n",
        "            upper_str += s\n",
        "    return upper_str\n",
        "\n",
        "string = input(\"Enter you string \")\n",
        "print(upper(string))"
      ],
      "metadata": {
        "colab": {
          "base_uri": "https://localhost:8080/"
        },
        "id": "gl_pKwL6bPE3",
        "outputId": "29ca715d-28f8-431f-8b96-507ff645f0dd"
      },
      "id": "gl_pKwL6bPE3",
      "execution_count": null,
      "outputs": [
        {
          "output_type": "stream",
          "name": "stdout",
          "text": [
            "Enter you string hello world\n",
            "HELLO WORLD\n"
          ]
        }
      ]
    }
  ],
  "metadata": {
    "kernelspec": {
      "display_name": "Python 3 (ipykernel)",
      "language": "python",
      "name": "python3"
    },
    "language_info": {
      "codemirror_mode": {
        "name": "ipython",
        "version": 3
      },
      "file_extension": ".py",
      "mimetype": "text/x-python",
      "name": "python",
      "nbconvert_exporter": "python",
      "pygments_lexer": "ipython3",
      "version": "3.8.10"
    },
    "colab": {
      "name": "python3-devops.ipynb",
      "provenance": [],
      "collapsed_sections": [],
      "include_colab_link": true
    },
    "gpuClass": "standard"
  },
  "nbformat": 4,
  "nbformat_minor": 5
}