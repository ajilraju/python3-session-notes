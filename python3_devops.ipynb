{
  "cells": [
    {
      "cell_type": "markdown",
      "metadata": {
        "id": "view-in-github",
        "colab_type": "text"
      },
      "source": [
        "<a href=\"https://colab.research.google.com/github/ajilraju/python3-session-notes/blob/main/python3_devops.ipynb\" target=\"_parent\"><img src=\"https://colab.research.google.com/assets/colab-badge.svg\" alt=\"Open In Colab\"/></a>"
      ]
    },
    {
      "cell_type": "markdown",
      "source": [
        "# Day 01"
      ],
      "metadata": {
        "id": "9sAOf49iqLWe"
      },
      "id": "9sAOf49iqLWe"
    },
    {
      "cell_type": "markdown",
      "source": [
        "# Python Programming (Python3) 🐍\n",
        "\n",
        "## Get Started\n",
        "\n",
        "* ### Python is an interpreted, object-oriented, high-level programming language with dynamic semantics.\n",
        "* ### Created by Guido van Rossum, and released in 1991.\n",
        "* ### [Why Python2 and Python3](https://www.geeksforgeeks.org/important-differences-between-python-2-x-and-python-3-x-with-examples/).\n",
        "* ### [More about Python](https://en.wikipedia.org/wiki/Python_(programming_language).\n"
      ],
      "metadata": {
        "id": "SvH2RF33QQoQ"
      },
      "id": "SvH2RF33QQoQ"
    },
    {
      "cell_type": "markdown",
      "source": [
        "## First Python Program\n",
        "\n",
        "`hello_world.py`\n",
        "\n",
        "Run the script by Python3 interpreter\n",
        "```bash\n",
        "python3 hello_world.py\n",
        "```\n"
      ],
      "metadata": {
        "id": "rU0lPOsWBzDI"
      },
      "id": "rU0lPOsWBzDI"
    },
    {
      "cell_type": "code",
      "source": [
        "print(\"Hello World!\")\n",
        "print('hello world')\n",
        "print(\"I'm Love Python\")"
      ],
      "metadata": {
        "id": "clJOanayCp7z",
        "colab": {
          "base_uri": "https://localhost:8080/"
        },
        "outputId": "5460bde0-7ac3-40c1-e7d0-fe245791cbcf"
      },
      "id": "clJOanayCp7z",
      "execution_count": 1,
      "outputs": [
        {
          "output_type": "stream",
          "name": "stdout",
          "text": [
            "Hello World!\n",
            "hello world\n",
            "I'm Love Python\n"
          ]
        }
      ]
    },
    {
      "cell_type": "markdown",
      "source": [
        "## Variables\n",
        "\n",
        "* A Python Variables is a name given to a memory location. It is the basic unit of storage in a program.\n",
        "* [More about variables](https://en.wikipedia.org/wiki/Variable_(computer_science)\n",
        "\n",
        "### *Syntax*\n",
        "**varible_name = value**\n",
        "\n",
        "Eg: **my_name = \"Tom\"**"
      ],
      "metadata": {
        "id": "XLsm4f-5FwDO"
      },
      "id": "XLsm4f-5FwDO"
    },
    {
      "cell_type": "code",
      "source": [
        "first_varible = \"First value\""
      ],
      "metadata": {
        "id": "haWAPYZas70-"
      },
      "id": "haWAPYZas70-",
      "execution_count": 2,
      "outputs": []
    },
    {
      "cell_type": "code",
      "source": [
        "my_name = \"Tom\"\n",
        "my_age = 25\n",
        "my_weight = 75.5\n",
        "\n",
        "print(first_varible)\n",
        "print(my_name)\n",
        "print(my_age)\n",
        "print(my_weight)"
      ],
      "metadata": {
        "id": "mNwCz1V1HH44",
        "colab": {
          "base_uri": "https://localhost:8080/"
        },
        "outputId": "7b39fcb0-ef9f-43a6-c884-953ff5389c98"
      },
      "id": "mNwCz1V1HH44",
      "execution_count": 3,
      "outputs": [
        {
          "output_type": "stream",
          "name": "stdout",
          "text": [
            "First value\n",
            "Tom\n",
            "25\n",
            "75.5\n"
          ]
        }
      ]
    },
    {
      "cell_type": "markdown",
      "source": [
        "### Varible type data-type\n",
        "* string  `\"hello world or 'hello world'`\n",
        "* intger  `100`\n",
        "* float   `200.23`\n",
        "* boolean `True or False`\n",
        "* complex `1j`\n",
        "* [more](https://www.w3schools.com/python/python_datatypes.asp)"
      ],
      "metadata": {
        "id": "TI3POdtrzTP0"
      },
      "id": "TI3POdtrzTP0"
    },
    {
      "cell_type": "markdown",
      "source": [
        "## Working with string\n",
        "\n",
        "* A string is a series of characters. \n",
        "* Anything inside quotes is considered a string in Python.\n",
        "* Use single or double quotes around your strings\n",
        "* [String methods](https://docs.python.org/3/library/stdtypes.html#string-methods)"
      ],
      "metadata": {
        "id": "kmveI2m-1-MC"
      },
      "id": "kmveI2m-1-MC"
    },
    {
      "cell_type": "code",
      "source": [
        "# Using sring\n",
        "country_name = 'india'\n",
        "print(country_name)\n",
        "\n",
        "print(country_name.title())\n",
        "# title() is called method, \n",
        "# A method is an action that Python can perform on a piece of data.\n",
        "\n",
        "print(country_name.lower())\n",
        "print(country_name.upper())\n",
        "print(len(country_name))  # Special string function to find the string char length.\n",
        "print(type(country_name)) # Special function to out the data-type."
      ],
      "metadata": {
        "id": "QYnN2FyH0Xbx",
        "colab": {
          "base_uri": "https://localhost:8080/"
        },
        "outputId": "eacad4de-1c3f-46d9-ee3d-54776f305d1e"
      },
      "id": "QYnN2FyH0Xbx",
      "execution_count": 4,
      "outputs": [
        {
          "output_type": "stream",
          "name": "stdout",
          "text": [
            "india\n",
            "India\n",
            "india\n",
            "INDIA\n",
            "5\n",
            "<class 'str'>\n"
          ]
        }
      ]
    },
    {
      "cell_type": "markdown",
      "source": [
        "### Using varible inside string\n",
        "\n",
        "* [f-­strings](https://peps.python.org/pep-0498)\n",
        "* Eg: `f\"Hello! {varible_name}\"`"
      ],
      "metadata": {
        "id": "_5ErI6ch2vHb"
      },
      "id": "_5ErI6ch2vHb"
    },
    {
      "cell_type": "code",
      "source": [
        "possession = \"I\"\n",
        "\n",
        "print(f\"Hello Folks, {possession} love {country_name.title()}\")"
      ],
      "metadata": {
        "id": "PmsYqFwV3V9f",
        "colab": {
          "base_uri": "https://localhost:8080/"
        },
        "outputId": "d03d76c0-d475-4223-fb5f-421aa6a500dc"
      },
      "id": "PmsYqFwV3V9f",
      "execution_count": 5,
      "outputs": [
        {
          "output_type": "stream",
          "name": "stdout",
          "text": [
            "Hello Folks, I love India\n"
          ]
        }
      ]
    },
    {
      "cell_type": "markdown",
      "source": [
        "# Day 02"
      ],
      "metadata": {
        "id": "O6JkjLl4qIpm"
      },
      "id": "O6JkjLl4qIpm"
    },
    {
      "cell_type": "markdown",
      "source": [
        "## Numbers\n",
        "\n",
        "### Integer\n",
        "\n",
        "```\n",
        "2 + 2\n",
        "3 * 6\n",
        "```\n",
        "\n",
        "### Float\n",
        "\n",
        "Python calls any number with a decimal point a float.\n",
        "```\n",
        "3.43 + 3.14\n",
        "3 * 235\n",
        "```\n",
        "\n",
        "### Underscore in Numbers\n",
        "`universe_age = 14_000_000_000`\n",
        "\n",
        "### Multiple Assignment\n",
        "`x, y, z = 10, 100, 34.33`\n",
        "\n",
        "### Constants\n",
        "A constant is like a variable whose value stays the same throughout the life of a program. Python doesn’t have built-­in constant types.\n",
        "\n",
        "`MAX_CONNECTIONS = 5000`\n",
        "\n",
        "### Conversion\n",
        "* `int(x)` convert other datatype into int. x be the other datatype value."
      ],
      "metadata": {
        "id": "5ZomJbryoqUi"
      },
      "id": "5ZomJbryoqUi"
    },
    {
      "cell_type": "code",
      "source": [
        "sum = 2 + 2\n",
        "product = 2 * 6\n",
        "\n",
        "PI = 3.14159 # Constant\n",
        "\n",
        "sum_float = 2 + 2.22\n",
        "product_float = 3 * PI\n",
        "\n",
        "x, y, z = 1, 3, 2\n",
        "\n",
        "universe_age = 14_000_000_000\n",
        "\n",
        "print(sum)\n",
        "print(product)\n",
        "\n",
        "print(sum_float)\n",
        "print(product_float)\n",
        "\n",
        "print(f\"x = {x}, y = {y}, z = {z}\")\n",
        "\n",
        "print(universe_age * 2)"
      ],
      "metadata": {
        "id": "h7G4XMvqq0C4",
        "colab": {
          "base_uri": "https://localhost:8080/"
        },
        "outputId": "838bd3d6-7e80-4f73-b043-f37da0e9feaa"
      },
      "id": "h7G4XMvqq0C4",
      "execution_count": 6,
      "outputs": [
        {
          "output_type": "stream",
          "name": "stdout",
          "text": [
            "4\n",
            "12\n",
            "4.220000000000001\n",
            "9.424769999999999\n",
            "x = 1, y = 3, z = 2\n",
            "28000000000\n"
          ]
        }
      ]
    },
    {
      "cell_type": "markdown",
      "source": [
        "## Python Operators\n",
        "\n",
        "* Arithmetic operators\n",
        "* Assignment operators\n",
        "* Comparison operators\n",
        "* Logical operators\n",
        "* Identity operators\n",
        "* Membership operators\n",
        "* Bitwise operators\n",
        "* [More about operators](https://www.w3schools.com/python/python_operators.asp)\n",
        "\n",
        "\n",
        "    | Operator | Operand |\n",
        "    |----------|---------|\n",
        "    |+ = - **  | x, sum  |\n"
      ],
      "metadata": {
        "id": "Pmddq9wHsJb9"
      },
      "id": "Pmddq9wHsJb9"
    },
    {
      "cell_type": "code",
      "source": [
        "# Arithmetic Operators\n",
        "print(2 + 2)\n",
        "print(2 * 2)\n",
        "print(2 - 2)\n",
        "print(3 / 2)\n",
        "print(3 % 2)\n",
        "print(2 ** 3)\n",
        "print(3 // 2)\n",
        "\n",
        "# Assignment Operators\n",
        "x = 10\n",
        "x = x + 10\n",
        "\n",
        "y = 10\n",
        "y += 10\n",
        "\n",
        "x *= 10\n",
        "\n",
        "print(y)\n",
        "print(x)\n",
        "\n",
        "# Comparison Operators\n",
        "print(2 == 2)\n",
        "print(2 > 3)\n",
        "print(2 < 2)\n",
        "print(2 <= 2)\n",
        "print(2 != 2)\n",
        "\n",
        "# Logical Operators\n",
        "print(True and True)\n",
        "print(True and False)\n",
        "print(True or True)\n",
        "print(True or False)\n",
        "print(not True)\n",
        "print(not False)\n",
        "\n"
      ],
      "metadata": {
        "id": "7AlGbq1As1qk",
        "colab": {
          "base_uri": "https://localhost:8080/"
        },
        "outputId": "7ee2b20d-7f83-478f-a06f-70251ed5f32f"
      },
      "id": "7AlGbq1As1qk",
      "execution_count": 7,
      "outputs": [
        {
          "output_type": "stream",
          "name": "stdout",
          "text": [
            "4\n",
            "4\n",
            "0\n",
            "1.5\n",
            "1\n",
            "8\n",
            "1\n",
            "20\n",
            "200\n",
            "True\n",
            "False\n",
            "False\n",
            "True\n",
            "False\n",
            "True\n",
            "False\n",
            "True\n",
            "True\n",
            "False\n",
            "True\n"
          ]
        }
      ]
    },
    {
      "cell_type": "markdown",
      "source": [
        "## User input\n",
        "Developers often have a need to interact with users, either to get data or to provide some sort of result.\n",
        "\n",
        "`input(prompt)`\n",
        "\n",
        "`value = input(\"Enter your age\")`"
      ],
      "metadata": {
        "id": "al8-oWymxd8Y"
      },
      "id": "al8-oWymxd8Y"
    },
    {
      "cell_type": "code",
      "source": [
        "name = input(\"Enter your name: \")\n",
        "age = input(\"Enter you age: \")\n",
        "\n",
        "print(f\"Hello!!! {name} welcome to the world of python\")\n",
        "print(age)"
      ],
      "metadata": {
        "id": "rR6gOOb2yAwh"
      },
      "id": "rR6gOOb2yAwh",
      "execution_count": null,
      "outputs": []
    },
    {
      "cell_type": "code",
      "source": [
        "number = input(\"Enter the number\")\n",
        "print(2 + int(number))"
      ],
      "metadata": {
        "id": "OBwEka0WzI21"
      },
      "id": "OBwEka0WzI21",
      "execution_count": null,
      "outputs": []
    },
    {
      "cell_type": "code",
      "source": [
        "# Simple Calculator\n",
        "f_num = input(\"Enter the first number: \")\n",
        "s_num = int(input(\"Enter the second number: \"))\n",
        "\n",
        "f_num = int(f_num)\n",
        "\n",
        "print(\"=\" * 10)\n",
        "print(f\"Sum of {f_num} and {s_num} = {f_num + s_num}\")\n",
        "print(f\"Product of {f_num} and {s_num} = {f_num * s_num}\")\n",
        "print(f\"Quotient of {f_num} and {s_num} = {f_num / s_num}\")\n",
        "\n"
      ],
      "metadata": {
        "id": "aKK_AYr2ygUy"
      },
      "id": "aKK_AYr2ygUy",
      "execution_count": null,
      "outputs": []
    },
    {
      "cell_type": "markdown",
      "source": [
        "## Lists\n",
        "* A list is a collection of items in a particular order.\n",
        "* In Python, square brackets `( [] )` indicate a list, and individual elements in the list are separated by commas.\n",
        "*   ```\n",
        "    bicycles = ['trek', 'cannondale', 'redline', 'specialized']\n",
        "    print(bicycles)\n",
        "    ```\n",
        "\n",
        "\n"
      ],
      "metadata": {
        "id": "FzMNs5evjzC0"
      },
      "id": "FzMNs5evjzC0"
    },
    {
      "cell_type": "code",
      "source": [
        "bicycles = ['trek', 'cannondale', 'redline', 'specialized']\n",
        "print(bicycles)"
      ],
      "metadata": {
        "id": "gjzxADHWkrol"
      },
      "id": "gjzxADHWkrol",
      "execution_count": null,
      "outputs": []
    },
    {
      "cell_type": "markdown",
      "source": [
        "### Accessing elements in List\n",
        "\n",
        "* Lists are ordered collections.\n",
        "* Access any element in a list by telling Python the position, or index, of the item desired.\n",
        "* Index Positions Start at 0, Not 1\n",
        "* Last element is `(N-1)`\n",
        "* Python has a special syntax for accessing the last element in a list. with *negative index*."
      ],
      "metadata": {
        "id": "Vkr9noLok0z8"
      },
      "id": "Vkr9noLok0z8"
    },
    {
      "cell_type": "code",
      "source": [
        "print(bicycles[0])\n",
        "print(bicycles[0].title())\n",
        "print(bicycles[-1])\n",
        "print(bicycles[-2])"
      ],
      "metadata": {
        "id": "okmrfu3dlCbo"
      },
      "id": "okmrfu3dlCbo",
      "execution_count": null,
      "outputs": []
    },
    {
      "cell_type": "markdown",
      "source": [
        "### Modifiying element in a List"
      ],
      "metadata": {
        "id": "X9MUOsX5mfav"
      },
      "id": "X9MUOsX5mfav"
    },
    {
      "cell_type": "code",
      "source": [
        "bicycles[1] = 'BMX'\n",
        "print(bicycles)"
      ],
      "metadata": {
        "id": "b4MQZea7mpCo"
      },
      "id": "b4MQZea7mpCo",
      "execution_count": null,
      "outputs": []
    },
    {
      "cell_type": "markdown",
      "source": [
        "### Adding Elements to a List\n",
        "* Appending Elements to the End of a List, `append(ele)`.\n",
        "* Inserting Elements into a List, `insert(pos, elem)`.\n"
      ],
      "metadata": {
        "id": "yZemEKAKm4zN"
      },
      "id": "yZemEKAKm4zN"
    },
    {
      "cell_type": "markdown",
      "source": [
        "### More about List\n",
        "[Python3 list](https://docs.python.org/3/tutorial/datastructures.html)"
      ],
      "metadata": {
        "id": "SAINb7_KnU2l"
      },
      "id": "SAINb7_KnU2l"
    },
    {
      "cell_type": "markdown",
      "source": [
        "# Day 03"
      ],
      "metadata": {
        "id": "eQFisnJSet83"
      },
      "id": "eQFisnJSet83"
    },
    {
      "cell_type": "markdown",
      "source": [
        "## Decision Making (if-else statement)\n",
        "* Decision making is anticipation of conditions occurring while execution of the program and specifying actions taken according to the conditions.\n",
        "* Decision structures evaluate multiple expressions which produce TRUE or FALSE as outcome.\n",
        "![image](https://www.tutorialspoint.com/python/images/decision_making.jpg)\n",
        "* Python programming language assumes any non-zero and non-null values as TRUE, and if it is either zero or null, then it is assumed as FALSE value.\n",
        "* **if statement**\n",
        "* **if..else statement**\n",
        "* **nested if statement**\n",
        "\n",
        "* [Watch out Indentation](https://peps.python.org/pep-0008/#indentation)"
      ],
      "metadata": {
        "id": "UFlBY3iPno_Q"
      },
      "id": "UFlBY3iPno_Q"
    },
    {
      "cell_type": "code",
      "source": [
        "total_days_year = 365\n",
        "\n",
        "if total_days_year == 365:\n",
        "    print(\"You're in Earth.\")"
      ],
      "metadata": {
        "id": "hg5topLqo-pH"
      },
      "id": "hg5topLqo-pH",
      "execution_count": null,
      "outputs": []
    },
    {
      "cell_type": "code",
      "source": [
        "if total_days_year == 3666:\n",
        "    print(\"You're in Exo\")\n",
        "else:\n",
        "    print(\"You're in Earth\")"
      ],
      "metadata": {
        "id": "3ByV-WENp8c6"
      },
      "id": "3ByV-WENp8c6",
      "execution_count": null,
      "outputs": []
    },
    {
      "cell_type": "code",
      "source": [
        "total_days_year = int(input(\"Enter days: \"))\n",
        "if total_days_year == 365:\n",
        "    print(\"You're in Earth\")\n",
        "elif total_days_year == 243:\n",
        "    print(\"You're in Venus\")\n",
        "else:\n",
        "    print(\"You're in Exoplant\")"
      ],
      "metadata": {
        "id": "wZPXr_pnr2A3"
      },
      "id": "wZPXr_pnr2A3",
      "execution_count": null,
      "outputs": []
    },
    {
      "cell_type": "markdown",
      "source": [
        "### Example: Decision Making (Covid Vaccine)"
      ],
      "metadata": {
        "id": "TJnUBPELSrqj"
      },
      "id": "TJnUBPELSrqj"
    },
    {
      "cell_type": "code",
      "source": [
        "age = int(input(\"Enter you age: \"))\n",
        "\n",
        "if age >= 18:\n",
        "    taken_first_dose = input(\"Have you taken the first dose covid vaccine (y/n): \")\n",
        "    if taken_first_dose == 'y' or taken_first_dose == 'Y':\n",
        "        print(\"You're eligible to second dose vaccine\")\n",
        "    else:\n",
        "        print(\"Visit your nearest vaccine centre first dose vaccine\")\n",
        "else:\n",
        "    print(\"You are minor, Keep: 😷 🧼\")"
      ],
      "metadata": {
        "id": "2jpV8ajSSqee"
      },
      "id": "2jpV8ajSSqee",
      "execution_count": null,
      "outputs": []
    },
    {
      "cell_type": "markdown",
      "source": [
        "## Loops\n",
        "Loop is a sequence of instruction s that is continually repeated until a certain condition is reached.\n",
        "* **While loops (Conditional loops)**\n",
        "* **For loops (Counting loops)**\n",
        "* **[More](https://docs.python.org/3/tutorial/controlflow.html)**\n",
        "* `break, continue and else` are the loop controllers\n"
      ],
      "metadata": {
        "id": "2XL87eiOqucd"
      },
      "id": "2XL87eiOqucd"
    },
    {
      "cell_type": "markdown",
      "source": [
        "### While Loops\n",
        "`while` loop we can execute a set of statements as long as a condition is true."
      ],
      "metadata": {
        "id": "XuNTy7N3IBX_"
      },
      "id": "XuNTy7N3IBX_"
    },
    {
      "cell_type": "code",
      "source": [
        "number = 1\n",
        "count = 1\n",
        "while number <= 10:\n",
        "    print(f\"Iteration {count}, number variable value is {number}\")\n",
        "    count += 1\n",
        "    number += 1\n"
      ],
      "metadata": {
        "id": "CDgklaNCIQ9r"
      },
      "id": "CDgklaNCIQ9r",
      "execution_count": null,
      "outputs": []
    },
    {
      "cell_type": "markdown",
      "source": [
        "### For Loops\n",
        "A `for` loop is used for iterating over a sequence (that is either a list, a tuple, a dictionary, a set, or a string)."
      ],
      "metadata": {
        "id": "85b-CH0uH5K8"
      },
      "id": "85b-CH0uH5K8"
    },
    {
      "cell_type": "code",
      "source": [
        "cars = [\"Nissan\", \"Tata\", \"Hyundai\", \"MG\", \"BMW\"]\n",
        "\n",
        "for car in cars:\n",
        "    print(car)\n",
        "\n",
        "print(\"*\" * 20)\n",
        "for car in cars:\n",
        "    print(f\"{car} is so nice\")\n",
        "\n",
        "print(\"=\" * 20)\n",
        "for i in range(0, 10):\n",
        "    print(i)"
      ],
      "metadata": {
        "id": "22mGcArfJGu7"
      },
      "id": "22mGcArfJGu7",
      "execution_count": null,
      "outputs": []
    },
    {
      "cell_type": "markdown",
      "source": [
        "### Examples of break and continue in loops"
      ],
      "metadata": {
        "id": "ngFraxzpLH_6"
      },
      "id": "ngFraxzpLH_6"
    },
    {
      "cell_type": "code",
      "source": [
        "for i in range(1, 10):\n",
        "    if i == 5:\n",
        "        break\n",
        "    print(i)"
      ],
      "metadata": {
        "id": "0JgEpyibLM9V"
      },
      "id": "0JgEpyibLM9V",
      "execution_count": null,
      "outputs": []
    },
    {
      "cell_type": "code",
      "source": [
        "for i in range(1, 10):\n",
        "    if i == 5:\n",
        "        continue\n",
        "    print(i)"
      ],
      "metadata": {
        "id": "zTju6gkaLdpZ"
      },
      "id": "zTju6gkaLdpZ",
      "execution_count": null,
      "outputs": []
    },
    {
      "cell_type": "markdown",
      "source": [
        "### Example of while and for loops"
      ],
      "metadata": {
        "id": "nw3DNEyrL5Nh"
      },
      "id": "nw3DNEyrL5Nh"
    },
    {
      "cell_type": "code",
      "source": [
        "# program: printing even nubmers\n",
        "\n",
        "number = 1\n",
        "\n",
        "while number <= 20:\n",
        "    if number % 2 != 0:\n",
        "        print(number)\n",
        "    number += 1"
      ],
      "metadata": {
        "id": "qHzBoF-_L8_u"
      },
      "id": "qHzBoF-_L8_u",
      "execution_count": null,
      "outputs": []
    },
    {
      "cell_type": "code",
      "source": [
        "for num in range(1, 21):\n",
        "    if num % 2 != 0:\n",
        "        print(num)"
      ],
      "metadata": {
        "id": "8IErza7yMnFo"
      },
      "id": "8IErza7yMnFo",
      "execution_count": null,
      "outputs": []
    },
    {
      "cell_type": "markdown",
      "source": [
        "### Example: Pasword policy checker"
      ],
      "metadata": {
        "id": "aMlZnFueOD-s"
      },
      "id": "aMlZnFueOD-s"
    },
    {
      "cell_type": "code",
      "source": [
        "# title Default title text\n",
        "# program: password policy checking.\n",
        "#\n",
        "\n",
        "# Password policies are\n",
        "# * Atlest 1 uppercase\n",
        "# * Atlest 1 lowercase\n",
        "# * Atlest 1 digit\n",
        "# * Atlest 1 special character\n",
        "# * min length 8 characters\n",
        "# * max length 12 characters\n",
        "\n",
        "password = input(\"Enter your password: \")\n",
        "\n",
        "upper   = False\n",
        "lower   = False\n",
        "digit   = False\n",
        "special = False\n",
        "\n",
        "if len(password) >= 8 and len(password) <= 12:\n",
        "    for char in password:\n",
        "        if char.isupper():\n",
        "            upper = True\n",
        "        elif char.islower():\n",
        "            lower = True\n",
        "        elif char.isdigit():\n",
        "            digit = True\n",
        "        else:\n",
        "            special = True\n",
        "    if upper and lower and digit and special:\n",
        "        print(\"Valid password\")\n",
        "    else:\n",
        "        print(\"Not all password policy met\")\n",
        "else:\n",
        "    print(\"Password is too short or large\")"
      ],
      "metadata": {
        "id": "XKwWhahEOJzG"
      },
      "id": "XKwWhahEOJzG",
      "execution_count": null,
      "outputs": []
    },
    {
      "cell_type": "markdown",
      "source": [
        "# Day 04\n"
      ],
      "metadata": {
        "id": "rA2f8v3ia_fR"
      },
      "id": "rA2f8v3ia_fR"
    },
    {
      "cell_type": "markdown",
      "source": [
        "### Example: Find Odd and Even number"
      ],
      "metadata": {
        "id": "fBF30NGVRPSD"
      },
      "id": "fBF30NGVRPSD"
    },
    {
      "cell_type": "code",
      "source": [
        "for num in range(1, 11):\n",
        "    if num % 2 == 0:\n",
        "        print(\"Found an even number\", num)\n",
        "        continue\n",
        "    print(\"Found an odd number\", num)"
      ],
      "metadata": {
        "id": "Aw6FhoYoRTuk"
      },
      "id": "Aw6FhoYoRTuk",
      "execution_count": null,
      "outputs": []
    },
    {
      "cell_type": "markdown",
      "source": [
        "### Nest Loops"
      ],
      "metadata": {
        "id": "niLeuSpsfIEH"
      },
      "id": "niLeuSpsfIEH"
    },
    {
      "cell_type": "code",
      "source": [
        "for f in range(1, 4):\n",
        "    for s in range(1, 6):\n",
        "        print(f\"outside loop var={f}, inside loop var={s}\")"
      ],
      "metadata": {
        "id": "2sJ9_n2sfMdW"
      },
      "id": "2sJ9_n2sfMdW",
      "execution_count": null,
      "outputs": []
    },
    {
      "cell_type": "code",
      "source": [
        "for i in range(1, 10):\n",
        "    for j in range(0, i):\n",
        "        print(\"*\", end='')\n",
        "    print(\"\")"
      ],
      "metadata": {
        "id": "3Pzti-G4f3jM"
      },
      "id": "3Pzti-G4f3jM",
      "execution_count": null,
      "outputs": []
    },
    {
      "cell_type": "markdown",
      "source": [
        "## Tuples\n",
        "\n",
        "* Tuples are used to store multiple items in a single variable.\n",
        "* Container for storing data items.\n",
        "* Immutable, aka unchangeable.\n",
        "* Tuples are written with round brackets.\n",
        "* [more](https://www.w3schools.com/python/python_tuples.asp)"
      ],
      "metadata": {
        "id": "uBdYkFkwg5Iz"
      },
      "id": "uBdYkFkwg5Iz"
    },
    {
      "cell_type": "code",
      "source": [
        "# Tuple exampless\n",
        "\n",
        "coordinates = (1, 0)\n",
        "print(coordinates)\n",
        "\n",
        "# accessing individual tuple elements\n",
        "print(coordinates[0])\n",
        "\n",
        "# assigning elements to tuples\n",
        "coordinates[0] = 22"
      ],
      "metadata": {
        "id": "4PQzN-8EiIBq"
      },
      "id": "4PQzN-8EiIBq",
      "execution_count": null,
      "outputs": []
    },
    {
      "cell_type": "markdown",
      "source": [
        "## Unpacking\n",
        "* Unpacking in Python refers to an operation that consists of assigning an iterable of values to a tuple (or list ) of variables in a single assignment statement."
      ],
      "metadata": {
        "id": "Llu8YXTViyLW"
      },
      "id": "Llu8YXTViyLW"
    },
    {
      "cell_type": "code",
      "source": [
        "coordinates = (1, 2, 20)\n",
        "x = coordinates[0]\n",
        "y = coordinates[1]\n",
        "z = coordinates[2]\n",
        "print(x, y, z)\n",
        "\n",
        "# easy\n",
        "coordinates = (100, 22, 20)\n",
        "x, y, z = coordinates\n",
        "print(x, y, z)"
      ],
      "metadata": {
        "id": "lhSyITBJi3CS"
      },
      "id": "lhSyITBJi3CS",
      "execution_count": null,
      "outputs": []
    },
    {
      "cell_type": "markdown",
      "source": [
        "## Dictionary\n",
        "\n",
        "* Dictionaries are used to store data values in key:value pairs.\n",
        "* A dictionary is a collection which is ordered*, changeable and do not allow duplicates.\n",
        "* Dictionaries are written with curly brackets, and have keys and values:\n",
        "\n",
        "* [more](https://www.w3schools.com/python/python_dictionaries.asp)"
      ],
      "metadata": {
        "id": "YXg3LtzojmJz"
      },
      "id": "YXg3LtzojmJz"
    },
    {
      "cell_type": "code",
      "source": [
        "user_details = {\n",
        "    \"name\": \"kevin\",\n",
        "    \"age\": 25,\n",
        "    \"skills\": [\"Python\", \"Ansible\",\n",
        "               \"Ruby\", \"Perl\"]\n",
        "}\n",
        "\n",
        "print(user_details)\n",
        "\n",
        "# Accessing individual elements\n",
        "\n",
        "print(f\"The user name is {user_details['name']} and age is {user_details['age']}\")\n",
        "\n",
        "print(f\"The user name is {user_details.get('name')} and age is {user_details.get('age')}\")\n",
        "\n",
        "print(\"==\" * 20)\n",
        "\n",
        "for k in user_details:\n",
        "    print(k)"
      ],
      "metadata": {
        "id": "q_l6k2dzj-F7"
      },
      "id": "q_l6k2dzj-F7",
      "execution_count": null,
      "outputs": []
    },
    {
      "cell_type": "code",
      "source": [
        "# Program: Numbers to word\n",
        "\n",
        "DIGIT_WORD_LIST = {\n",
        "    \"0\": \"Zero\",\n",
        "    \"1\": \"One\",\n",
        "    \"2\": \"Two\",\n",
        "    \"3\": \"Three\",\n",
        "    \"4\": \"Four\",\n",
        "    \"5\": \"Five\",\n",
        "    \"6\": \"Six\",\n",
        "    \"7\": \"Seven\",\n",
        "    \"8\": \"Eight\",\n",
        "    \"9\": \"Nine\",\n",
        "}\n",
        "\n",
        "number = input(\"Enter a multi-digit number:  \")\n",
        "for num in number:\n",
        "    print(DIGIT_WORD_LIST.get(num), end=' ')"
      ],
      "metadata": {
        "id": "hssy3ERzvGUM"
      },
      "id": "hssy3ERzvGUM",
      "execution_count": null,
      "outputs": []
    },
    {
      "cell_type": "code",
      "source": [
        "# Write a Python program to sum all the items in a dictionary.\n",
        "\n",
        "mark_list = {\"Tom\": 233, \"Tony\": 232, \"Hulk\": 500}\n",
        "print(sum(mark_list.values()))\n"
      ],
      "metadata": {
        "id": "-6ZoInMhw9aI"
      },
      "id": "-6ZoInMhw9aI",
      "execution_count": null,
      "outputs": []
    },
    {
      "cell_type": "markdown",
      "source": [
        "## Functions\n",
        "\n",
        "\n",
        "* A function is a block of code which only runs when it is called.\n",
        "* You can pass data, known as parameters, into a function.\n",
        "* A function can return data as a result.\n",
        "* Function blocks begin with the keyword `def` followed by the function name and parentheses ( ( ) ).\n",
        "```\n",
        "def function_name(parameters):\n",
        "    \"\"\"docstring\"\"\"\n",
        "    # body of the function\n",
        "    return expression\n",
        "```\n",
        "\n"
      ],
      "metadata": {
        "id": "zPA0UpXHixcH"
      },
      "id": "zPA0UpXHixcH"
    },
    {
      "cell_type": "code",
      "source": [
        "# functions definition\n",
        "def greet():\n",
        "    print(\"Hello!\")\n",
        "\n",
        "# function call\n",
        "greet()\n"
      ],
      "metadata": {
        "id": "OS3RYVZXnsOx"
      },
      "id": "OS3RYVZXnsOx",
      "execution_count": null,
      "outputs": []
    },
    {
      "cell_type": "markdown",
      "source": [
        "### Positional Arguments\n"
      ],
      "metadata": {
        "id": "vpOqFvUToUJO"
      },
      "id": "vpOqFvUToUJO"
    },
    {
      "cell_type": "code",
      "source": [
        "def greet_user(username, greet):\n",
        "    print(f\"{greet} {username}\")\n",
        "\n",
        "greet_user('Kevin', 'Hello')"
      ],
      "metadata": {
        "id": "z3J9nO27odzY"
      },
      "id": "z3J9nO27odzY",
      "execution_count": null,
      "outputs": []
    },
    {
      "cell_type": "markdown",
      "source": [
        "### Keyword Arguments\n",
        "* A keyword argument is a name-value pair that you pass to a function.\n",
        "* When you use keyword arguments, be sure to use the exact names of the parameters in the function’s definition."
      ],
      "metadata": {
        "id": "AwzNpHhdo9xy"
      },
      "id": "AwzNpHhdo9xy"
    },
    {
      "cell_type": "code",
      "source": [
        "def greet_user_k(username, greet):\n",
        "    print(f\"{greet} {username}\")\n",
        "\n",
        "greet_user_k(greet='Hola', username='Kevin')"
      ],
      "metadata": {
        "id": "OhkyW5hhpBur"
      },
      "id": "OhkyW5hhpBur",
      "execution_count": null,
      "outputs": []
    },
    {
      "cell_type": "markdown",
      "source": [
        "### Default Values"
      ],
      "metadata": {
        "id": "2gbeK90HpSYp"
      },
      "id": "2gbeK90HpSYp"
    },
    {
      "cell_type": "code",
      "source": [
        "def greeting_user(username, greet='Hello!!!!'):\n",
        "    print(f\"{greet} {username}\")\n",
        "\n",
        "greeting_user('Tim Cook')"
      ],
      "metadata": {
        "id": "6ri-bMoVpXA4"
      },
      "id": "6ri-bMoVpXA4",
      "execution_count": null,
      "outputs": []
    },
    {
      "cell_type": "markdown",
      "source": [
        "# Day 05"
      ],
      "metadata": {
        "id": "RRpGYI_yHMCx"
      },
      "id": "RRpGYI_yHMCx"
    },
    {
      "cell_type": "markdown",
      "source": [
        "### Arbitrary Arguments (Non-Keyword Arguments)\n",
        "* The special syntax `*args` in function definitions in python is used to pass a variable number of arguments to a function. It is used to pass a non-key worded, variable-length argument list."
      ],
      "metadata": {
        "id": "JV__00QCrQGE"
      },
      "id": "JV__00QCrQGE"
    },
    {
      "cell_type": "code",
      "source": [
        "def adder(*numbers):\n",
        "    print(type(numbers))\n",
        "    sum = 0\n",
        "    for num in numbers:\n",
        "        sum += num\n",
        "    return sum\n",
        "\n",
        "print(adder(1, 2, 3, 4, 5))"
      ],
      "metadata": {
        "id": "ZsY2Yy77rpIT"
      },
      "id": "ZsY2Yy77rpIT",
      "execution_count": null,
      "outputs": []
    },
    {
      "cell_type": "markdown",
      "source": [
        "### Arbitrary Arguments (Keyword Arguments)"
      ],
      "metadata": {
        "id": "wNKPC2CWtmzv"
      },
      "id": "wNKPC2CWtmzv"
    },
    {
      "cell_type": "code",
      "source": [
        "def details(**kwargs):\n",
        "    for key, value in kwargs.items():\n",
        "        print(\"%s == %s\" % (key, value))\n",
        " \n",
        " \n",
        "details(name='Tim Cook', age=61, CEO='apple')"
      ],
      "metadata": {
        "id": "qAEtUl7ptppP"
      },
      "id": "qAEtUl7ptppP",
      "execution_count": null,
      "outputs": []
    },
    {
      "cell_type": "markdown",
      "source": [
        "### Return Values\n",
        "* A function doesn’t always have to display its output directly. Instead, it can\n",
        "process some data and then return a value or set of values.\n",
        "* The `return` statement takes a value from inside a function and sends it back to the line that called the function."
      ],
      "metadata": {
        "id": "v6rh4JZaqAEK"
      },
      "id": "v6rh4JZaqAEK"
    },
    {
      "cell_type": "code",
      "source": [
        "def mul(f, s):\n",
        "    return f * s\n",
        "\n",
        "mul(10, 10)\n",
        "print(mul(100, 100))"
      ],
      "metadata": {
        "id": "PaKjGxKLqPkW"
      },
      "id": "PaKjGxKLqPkW",
      "execution_count": null,
      "outputs": []
    },
    {
      "cell_type": "code",
      "source": [
        "\n",
        "def upper(string):\n",
        "    upper_str = ''\n",
        "    for s in string:\n",
        "        if s.isalpha():\n",
        "            upper_str += chr((ord(s) - 32))\n",
        "        else:\n",
        "            upper_str += s\n",
        "    return upper_str\n",
        "\n",
        "string = input(\"Enter you string \")\n",
        "print(upper(string))"
      ],
      "metadata": {
        "id": "gl_pKwL6bPE3"
      },
      "id": "gl_pKwL6bPE3",
      "execution_count": null,
      "outputs": []
    },
    {
      "cell_type": "markdown",
      "source": [
        "## Modules\n",
        "\n",
        "* A module allows you to logically organize your Python code.\n",
        "* Grouping related code into a module makes the code easier to understand and use.\n",
        "* A module is a Python object with arbitrarily named attributes that you can bind and reference.\n",
        "* A module can define `functions, classes and variables`.\n",
        "* Python source file as a module by executing an `import` statement in some other Python source file.\n",
        "* [more](https://docs.python.org/3/tutorial/modules.html)\n"
      ],
      "metadata": {
        "id": "xSBxVv3UHae2"
      },
      "id": "xSBxVv3UHae2"
    },
    {
      "cell_type": "markdown",
      "source": [
        "### User defined modules"
      ],
      "metadata": {
        "id": "4KPM2SnqPjLt"
      },
      "id": "4KPM2SnqPjLt"
    },
    {
      "cell_type": "markdown",
      "source": [
        "### file: `mymodule.py`\n",
        "\n",
        "```\n",
        "myvar = \"Variable from module\"\n",
        "\n",
        "def upper(string):\n",
        "    upper_str = ''\n",
        "    for s in string:\n",
        "        if s.isalpha():\n",
        "            upper_str += chr((ord(s) - 32))\n",
        "        else:\n",
        "            upper_str += s\n",
        "    return upper_str\n",
        "    \n",
        "\n",
        "def custom_sum(f, s):\n",
        "    return  f + s\n",
        "    \n",
        "def print_mod_name():\n",
        "    return __name__\n",
        "    \n",
        "if __name__ == '__main__':\n",
        "    print(upper(\"Hello\"))\n",
        "```\n",
        "\n"
      ],
      "metadata": {
        "id": "Dt5W8avoXpzu"
      },
      "id": "Dt5W8avoXpzu"
    },
    {
      "cell_type": "code",
      "source": [
        "import mymodule\n",
        "\n",
        "print(mymodule.upper(\"hello\"))"
      ],
      "metadata": {
        "colab": {
          "base_uri": "https://localhost:8080/"
        },
        "id": "SAA8YpUtIcWS",
        "outputId": "47dd17e6-b8c7-4d23-a874-532a15b3c326"
      },
      "id": "SAA8YpUtIcWS",
      "execution_count": 1,
      "outputs": [
        {
          "output_type": "stream",
          "name": "stdout",
          "text": [
            "HELLO\n"
          ]
        }
      ]
    },
    {
      "cell_type": "code",
      "source": [
        "from mymodule import myvar\n",
        "\n",
        "print(myvar)"
      ],
      "metadata": {
        "colab": {
          "base_uri": "https://localhost:8080/"
        },
        "id": "0QZ0J4MVJepR",
        "outputId": "5f6d8696-5222-416f-9423-3066b3ff585e"
      },
      "id": "0QZ0J4MVJepR",
      "execution_count": 2,
      "outputs": [
        {
          "output_type": "stream",
          "name": "stdout",
          "text": [
            "Variable from module\n"
          ]
        }
      ]
    },
    {
      "cell_type": "code",
      "source": [
        "print(__name__)"
      ],
      "metadata": {
        "colab": {
          "base_uri": "https://localhost:8080/"
        },
        "id": "5AxSNZblJpLI",
        "outputId": "e59558b1-23e3-4598-8cb9-b2badc9787c7"
      },
      "id": "5AxSNZblJpLI",
      "execution_count": 3,
      "outputs": [
        {
          "output_type": "stream",
          "name": "stdout",
          "text": [
            "__main__\n"
          ]
        }
      ]
    },
    {
      "cell_type": "code",
      "source": [
        "import mymodule as my_mod\n",
        "\n",
        "print(f\"Load module name is '{my_mod.print_mod_name()}'\")\n",
        "\n",
        "print(\"Find out which names a module defines.\")\n",
        "print(dir(my_mod))"
      ],
      "metadata": {
        "colab": {
          "base_uri": "https://localhost:8080/"
        },
        "id": "NjxPV-fyJ3Mf",
        "outputId": "f315a8d8-0936-4a18-da10-18681576ae49"
      },
      "id": "NjxPV-fyJ3Mf",
      "execution_count": 8,
      "outputs": [
        {
          "output_type": "stream",
          "name": "stdout",
          "text": [
            "Load module name is 'mymodule'\n",
            "Find out which names a module defines.\n",
            "['__builtins__', '__cached__', '__doc__', '__file__', '__loader__', '__name__', '__package__', '__spec__', 'custom_sum', 'myvar', 'print_mod_name', 'upper']\n"
          ]
        }
      ]
    },
    {
      "cell_type": "markdown",
      "source": [
        "### Working with *Standard Modules*\n",
        "* Python comes with a library of standard modules.\n",
        "* [Python3 Library Ref](https://docs.python.org/3/library/)\n"
      ],
      "metadata": {
        "id": "NswMz08TLMyk"
      },
      "id": "NswMz08TLMyk"
    },
    {
      "cell_type": "code",
      "source": [
        "import datetime as date\n",
        "import math\n",
        "import os\n",
        "import sys\n",
        "\n",
        "\n",
        "print(f\"Year: {date.datetime.now()}\")\n",
        "\n",
        "print(f\"Squre root of 64 is {math.sqrt(64)}\")\n",
        "print(f\"Value of sin(90) is {math.sin(30)}\")\n",
        "print(f\"Ceil value of 5.69 is {math.ceil(5.69)}\")\n",
        "\n",
        "print(os.environ['HOME'])\n",
        "print(os.environ['PWD'])\n",
        "print(os.getpid())\n",
        "\n",
        "print(f\"Current platform is {sys.platform}\")\n",
        "\n"
      ],
      "metadata": {
        "colab": {
          "base_uri": "https://localhost:8080/"
        },
        "id": "GeL-dVozLr7G",
        "outputId": "9522a084-173c-4421-e24a-499b3a2df456"
      },
      "id": "GeL-dVozLr7G",
      "execution_count": 38,
      "outputs": [
        {
          "output_type": "stream",
          "name": "stdout",
          "text": [
            "Year: 2022-07-24 12:45:43.473029\n",
            "Squre root of 64 is 8.0\n",
            "Value of sin(90) is -0.9880316240928618\n",
            "Ceil value of 5.69 is 6\n",
            "/root\n",
            "/\n",
            "307\n",
            "Current platform is linux\n"
          ]
        }
      ]
    },
    {
      "cell_type": "markdown",
      "source": [
        "## Reading and Writing (File I/O)\n",
        "\n",
        "* Python provides inbuilt functions for creating, writing, and reading files. \n",
        "* There are two types of files that can be handled in python, normal text files and binary files."
      ],
      "metadata": {
        "id": "LeLkRdl_kap5"
      },
      "id": "LeLkRdl_kap5"
    },
    {
      "cell_type": "markdown",
      "source": [
        "### Opening and Closing a File in Python\n",
        "\n",
        "Function to to read and write files\n",
        "\n",
        "`open(\"file_name\", \"file access mode\")`\n",
        "\n",
        "Eg: `file = open('dog_breeds.txt')`\n"
      ],
      "metadata": {
        "id": "I2trVsPZksD9"
      },
      "id": "I2trVsPZksD9"
    },
    {
      "cell_type": "code",
      "source": [
        "%shell echo -e \"Hello World\\nHello World!\\n\" > ./demo.txt\n",
        "\n",
        "%ls -la"
      ],
      "metadata": {
        "colab": {
          "base_uri": "https://localhost:8080/"
        },
        "id": "Co2ONgFQpIQm",
        "outputId": "3d72d94f-bf9f-4cda-839c-bcaf16ee0c21"
      },
      "id": "Co2ONgFQpIQm",
      "execution_count": 52,
      "outputs": [
        {
          "output_type": "stream",
          "name": "stdout",
          "text": [
            "total 28\n",
            "drwxr-xr-x 1 root root 4096 Jul 24 14:40 \u001b[0m\u001b[01;34m.\u001b[0m/\n",
            "drwxr-xr-x 1 root root 4096 Jul 24 12:08 \u001b[01;34m..\u001b[0m/\n",
            "drwxr-xr-x 4 root root 4096 Jul 13 13:42 \u001b[01;34m.config\u001b[0m/\n",
            "-rw-r--r-- 1 root root   26 Jul 24 15:35 demo.txt\n",
            "-rw-r--r-- 1 root root  374 Jul 24 12:21 mymodule.py\n",
            "drwxr-xr-x 2 root root 4096 Jul 24 12:23 \u001b[01;34m__pycache__\u001b[0m/\n",
            "drwxr-xr-x 1 root root 4096 Jul 13 13:43 \u001b[01;34msample_data\u001b[0m/\n"
          ]
        }
      ]
    },
    {
      "cell_type": "markdown",
      "source": [
        ""
      ],
      "metadata": {
        "id": "nw-BGT3KqFMP"
      },
      "id": "nw-BGT3KqFMP"
    },
    {
      "cell_type": "code",
      "source": [
        "\n",
        "file = open('demo.txt')\n",
        "file.close()"
      ],
      "metadata": {
        "id": "nns2eknx1zA_"
      },
      "id": "nns2eknx1zA_",
      "execution_count": 50,
      "outputs": []
    },
    {
      "cell_type": "code",
      "source": [
        "# reading content from the file\n",
        "\n",
        "file = open('demo.txt')\n",
        "print(file.read())\n",
        "\n",
        "file.seek(0)\n",
        "print(file.read(2))\n",
        "\n",
        "file.seek(0)\n",
        "print(file.readline())\n",
        "\n",
        "file.seek(0)\n",
        "print(file.readlines())\n"
      ],
      "metadata": {
        "colab": {
          "base_uri": "https://localhost:8080/"
        },
        "id": "iXrleSTd164w",
        "outputId": "eee66d0a-01fb-4e66-b72f-7cb0b40db3a1"
      },
      "id": "iXrleSTd164w",
      "execution_count": 60,
      "outputs": [
        {
          "output_type": "stream",
          "name": "stdout",
          "text": [
            "Hello World\n",
            "Hello World!\n",
            "\n",
            "\n",
            "He\n",
            "Hello World\n",
            "\n",
            "['Hello World\\n', 'Hello World!\\n', '\\n']\n"
          ]
        }
      ]
    },
    {
      "cell_type": "code",
      "source": [
        "# Writing to the file\n",
        "\n",
        "file = open('file.txt', 'w')\n",
        "file.write(\"Hello, Sample text\\n\")\n",
        "\n",
        "content = [\"Python\\n\", \"is\\n\", \"a nice language\"]\n",
        "file.writelines(content)\n",
        "file.close\n"
      ],
      "metadata": {
        "colab": {
          "base_uri": "https://localhost:8080/"
        },
        "id": "aBDqvDi1_sT6",
        "outputId": "34e1e509-0612-41f5-dcfd-027934010031"
      },
      "id": "aBDqvDi1_sT6",
      "execution_count": 76,
      "outputs": [
        {
          "output_type": "execute_result",
          "data": {
            "text/plain": [
              ""
            ]
          },
          "metadata": {},
          "execution_count": 76
        }
      ]
    },
    {
      "cell_type": "code",
      "source": [
        "%shell cat file.txt"
      ],
      "metadata": {
        "colab": {
          "base_uri": "https://localhost:8080/"
        },
        "id": "wEOarb-AEtPQ",
        "outputId": "24854245-81ba-419a-f102-139f463c2ef1"
      },
      "id": "wEOarb-AEtPQ",
      "execution_count": 77,
      "outputs": [
        {
          "output_type": "stream",
          "name": "stdout",
          "text": [
            "Hello, Sample text\n",
            "Python\n",
            "is\n",
            "a nice language"
          ]
        },
        {
          "output_type": "execute_result",
          "data": {
            "text/plain": [
              ""
            ]
          },
          "metadata": {},
          "execution_count": 77
        }
      ]
    },
    {
      "cell_type": "code",
      "source": [
        "# Iterating Over Each Line in the File\n",
        "\n",
        "with open('/etc/passwd', 'r') as reader:\n",
        "    line = reader.readline()\n",
        "    while line != '': # '' is representing the EOF\n",
        "        print(line, end='')\n",
        "        line = reader.readline()\n",
        "    reader.close()\n"
      ],
      "metadata": {
        "colab": {
          "base_uri": "https://localhost:8080/"
        },
        "id": "oi5wLKvtFMsG",
        "outputId": "0255ccb0-62c2-48fd-8a61-ae993dda608d"
      },
      "id": "oi5wLKvtFMsG",
      "execution_count": 78,
      "outputs": [
        {
          "output_type": "stream",
          "name": "stdout",
          "text": [
            "root:x:0:0:root:/root:/bin/bash\n",
            "daemon:x:1:1:daemon:/usr/sbin:/usr/sbin/nologin\n",
            "bin:x:2:2:bin:/bin:/usr/sbin/nologin\n",
            "sys:x:3:3:sys:/dev:/usr/sbin/nologin\n",
            "sync:x:4:65534:sync:/bin:/bin/sync\n",
            "games:x:5:60:games:/usr/games:/usr/sbin/nologin\n",
            "man:x:6:12:man:/var/cache/man:/usr/sbin/nologin\n",
            "lp:x:7:7:lp:/var/spool/lpd:/usr/sbin/nologin\n",
            "mail:x:8:8:mail:/var/mail:/usr/sbin/nologin\n",
            "news:x:9:9:news:/var/spool/news:/usr/sbin/nologin\n",
            "uucp:x:10:10:uucp:/var/spool/uucp:/usr/sbin/nologin\n",
            "proxy:x:13:13:proxy:/bin:/usr/sbin/nologin\n",
            "www-data:x:33:33:www-data:/var/www:/usr/sbin/nologin\n",
            "backup:x:34:34:backup:/var/backups:/usr/sbin/nologin\n",
            "list:x:38:38:Mailing List Manager:/var/list:/usr/sbin/nologin\n",
            "irc:x:39:39:ircd:/var/run/ircd:/usr/sbin/nologin\n",
            "gnats:x:41:41:Gnats Bug-Reporting System (admin):/var/lib/gnats:/usr/sbin/nologin\n",
            "nobody:x:65534:65534:nobody:/nonexistent:/usr/sbin/nologin\n",
            "_apt:x:100:65534::/nonexistent:/usr/sbin/nologin\n",
            "systemd-network:x:101:104:systemd Network Management,,,:/run/systemd/netif:/usr/sbin/nologin\n",
            "systemd-resolve:x:102:105:systemd Resolver,,,:/run/systemd/resolve:/usr/sbin/nologin\n",
            "messagebus:x:103:107::/nonexistent:/usr/sbin/nologin\n",
            "nvidia-persistenced:x:104:108:NVIDIA Persistence Daemon,,,:/nonexistent:/usr/sbin/nologin\n"
          ]
        }
      ]
    },
    {
      "cell_type": "code",
      "source": [
        "# Example: read from /etc/passwd and check any login shell is present\n",
        "\n",
        "with open('/etc/passwd', 'r') as reader:\n",
        "    for line in reader:\n",
        "        stripped_line = line.strip()\n",
        "        user = stripped_line.split(':')[0]\n",
        "        shell = stripped_line.split(':')[6]\n",
        "\n",
        "        if shell == '/usr/sbin/nologin':\n",
        "            continue\n",
        "        print(f\"{user} is {shell}\")\n",
        "    reader.close()"
      ],
      "metadata": {
        "colab": {
          "base_uri": "https://localhost:8080/"
        },
        "id": "Z50y9tyiGEKx",
        "outputId": "c90ca1f7-3fcc-4086-f4eb-03e228adb0e0"
      },
      "id": "Z50y9tyiGEKx",
      "execution_count": 95,
      "outputs": [
        {
          "output_type": "stream",
          "name": "stdout",
          "text": [
            "root is /bin/bash\n",
            "sync is /bin/sync\n"
          ]
        }
      ]
    },
    {
      "cell_type": "code",
      "source": [
        "%shell wget https://upload.wikimedia.org/wikipedia/commons/e/e6/1kb.png -O computer.png"
      ],
      "metadata": {
        "colab": {
          "base_uri": "https://localhost:8080/"
        },
        "id": "zXTh7kAZOVU3",
        "outputId": "c6dcdfe4-57db-42af-993c-f15137dfe8e1"
      },
      "id": "zXTh7kAZOVU3",
      "execution_count": 1,
      "outputs": [
        {
          "output_type": "stream",
          "name": "stdout",
          "text": [
            "--2022-07-24 17:49:13--  https://upload.wikimedia.org/wikipedia/commons/e/e6/1kb.png\n",
            "Resolving upload.wikimedia.org (upload.wikimedia.org)... 208.80.154.240, 2620:0:861:ed1a::2:b\n",
            "Connecting to upload.wikimedia.org (upload.wikimedia.org)|208.80.154.240|:443... connected.\n",
            "HTTP request sent, awaiting response... 200 OK\n",
            "Length: 1049 (1.0K) [image/png]\n",
            "Saving to: ‘computer.png’\n",
            "\n",
            "\rcomputer.png          0%[                    ]       0  --.-KB/s               \rcomputer.png        100%[===================>]   1.02K  --.-KB/s    in 0s      \n",
            "\n",
            "2022-07-24 17:49:13 (264 MB/s) - ‘computer.png’ saved [1049/1049]\n",
            "\n"
          ]
        },
        {
          "output_type": "execute_result",
          "data": {
            "text/plain": [
              ""
            ]
          },
          "metadata": {},
          "execution_count": 1
        }
      ]
    },
    {
      "cell_type": "code",
      "source": [
        "# Reading binary file\n",
        "\n",
        "image_file = open(r'computer.png', 'rb')\n",
        "print(image_file.readlines())"
      ],
      "metadata": {
        "colab": {
          "base_uri": "https://localhost:8080/"
        },
        "id": "EB2tnAHYOdKe",
        "outputId": "69c07b48-7d1b-4b89-8dbe-051913b1d592"
      },
      "id": "EB2tnAHYOdKe",
      "execution_count": 2,
      "outputs": [
        {
          "output_type": "stream",
          "name": "stdout",
          "text": [
            "[b'\\x89PNG\\r\\n', b'\\x1a\\n', b'\\x00\\x00\\x00\\rIHDR\\x00\\x00\\x00\\x11\\x00\\x00\\x00\\x0e\\x08\\x03\\x00\\x00\\x00\\xfe3\\x07\\x86\\x00\\x00\\x03\\x00PLTE\\x00\\x00\\x00\\x00\\x00U\\x00\\x00\\xaa\\x00\\x00\\xff\\x00$\\x00\\x00$U\\x00$\\xaa\\x00$\\xff\\x00I\\x00\\x00IU\\x00I\\xaa\\x00I\\xff\\x00m\\x00\\x00mU\\x00m\\xaa\\x00m\\xff\\x00\\x92\\x00\\x00\\x92U\\x00\\x92\\xaa\\x00\\x92\\xff\\x00\\xb6\\x00\\x00\\xb6U\\x00\\xb6\\xaa\\x00\\xb6\\xff\\x00\\xdb\\x00\\x00\\xdbU\\x00\\xdb\\xaa\\x00\\xdb\\xff\\x00\\xff\\x00\\x00\\xffU\\x00\\xff\\xaa\\x00\\xff\\xff$\\x00\\x00$\\x00U$\\x00\\xaa$\\x00\\xff$$\\x00$$U$$\\xaa$$\\xff$I\\x00$IU$I\\xaa$I\\xff$m\\x00$mU$m\\xaa$m\\xff$\\x92\\x00$\\x92U$\\x92\\xaa$\\x92\\xff$\\xb6\\x00$\\xb6U$\\xb6\\xaa$\\xb6\\xff$\\xdb\\x00$\\xdbU$\\xdb\\xaa$\\xdb\\xff$\\xff\\x00$\\xffU$\\xff\\xaa$\\xff\\xffI\\x00\\x00I\\x00UI\\x00\\xaaI\\x00\\xffI$\\x00I$UI$\\xaaI$\\xffII\\x00IIUII\\xaaII\\xffIm\\x00ImUIm\\xaaIm\\xffI\\x92\\x00I\\x92UI\\x92\\xaaI\\x92\\xffI\\xb6\\x00I\\xb6UI\\xb6\\xaaI\\xb6\\xffI\\xdb\\x00I\\xdbUI\\xdb\\xaaI\\xdb\\xffI\\xff\\x00I\\xffUI\\xff\\xaaI\\xff\\xffm\\x00\\x00m\\x00Um\\x00\\xaam\\x00\\xffm$\\x00m$Um$\\xaam$\\xffmI\\x00mIUmI\\xaamI\\xffmm\\x00mmUmm\\xaamm\\xffm\\x92\\x00m\\x92Um\\x92\\xaam\\x92\\xffm\\xb6\\x00m\\xb6Um\\xb6\\xaam\\xb6\\xffm\\xdb\\x00m\\xdbUm\\xdb\\xaam\\xdb\\xffm\\xff\\x00m\\xffUm\\xff\\xaam\\xff\\xff\\x92\\x00\\x00\\x92\\x00U\\x92\\x00\\xaa\\x92\\x00\\xff\\x92$\\x00\\x92$U\\x92$\\xaa\\x92$\\xff\\x92I\\x00\\x92IU\\x92I\\xaa\\x92I\\xff\\x92m\\x00\\x92mU\\x92m\\xaa\\x92m\\xff\\x92\\x92\\x00\\x92\\x92U\\x92\\x92\\xaa\\x92\\x92\\xff\\x92\\xb6\\x00\\x92\\xb6U\\x92\\xb6\\xaa\\x92\\xb6\\xff\\x92\\xdb\\x00\\x92\\xdbU\\x92\\xdb\\xaa\\x92\\xdb\\xff\\x92\\xff\\x00\\x92\\xffU\\x92\\xff\\xaa\\x92\\xff\\xff\\xb6\\x00\\x00\\xb6\\x00U\\xb6\\x00\\xaa\\xb6\\x00\\xff\\xb6$\\x00\\xb6$U\\xb6$\\xaa\\xb6$\\xff\\xb6I\\x00\\xb6IU\\xb6I\\xaa\\xb6I\\xff\\xb6m\\x00\\xb6mU\\xb6m\\xaa\\xb6m\\xff\\xb6\\x92\\x00\\xb6\\x92U\\xb6\\x92\\xaa\\xb6\\x92\\xff\\xb6\\xb6\\x00\\xb6\\xb6U\\xb6\\xb6\\xaa\\xb6\\xb6\\xff\\xb6\\xdb\\x00\\xb6\\xdbU\\xb6\\xdb\\xaa\\xb6\\xdb\\xff\\xb6\\xff\\x00\\xb6\\xffU\\xb6\\xff\\xaa\\xb6\\xff\\xff\\xdb\\x00\\x00\\xdb\\x00U\\xdb\\x00\\xaa\\xdb\\x00\\xff\\xdb$\\x00\\xdb$U\\xdb$\\xaa\\xdb$\\xff\\xdbI\\x00\\xdbIU\\xdbI\\xaa\\xdbI\\xff\\xdbm\\x00\\xdbmU\\xdbm\\xaa\\xdbm\\xff\\xdb\\x92\\x00\\xdb\\x92U\\xdb\\x92\\xaa\\xdb\\x92\\xff\\xdb\\xb6\\x00\\xdb\\xb6U\\xdb\\xb6\\xaa\\xdb\\xb6\\xff\\xdb\\xdb\\x00\\xdb\\xdbU\\xdb\\xdb\\xaa\\xdb\\xdb\\xff\\xdb\\xff\\x00\\xdb\\xffU\\xdb\\xff\\xaa\\xdb\\xff\\xff\\xff\\x00\\x00\\xff\\x00U\\xff\\x00\\xaa\\xff\\x00\\xff\\xff$\\x00\\xff$U\\xff$\\xaa\\xff$\\xff\\xffI\\x00\\xffIU\\xffI\\xaa\\xffI\\xff\\xffm\\x00\\xffmU\\xffm\\xaa\\xffm\\xff\\xff\\x92\\x00\\xff\\x92U\\xff\\x92\\xaa\\xff\\x92\\xff\\xff\\xb6\\x00\\xff\\xb6U\\xff\\xb6\\xaa\\xff\\xb6\\xff\\xff\\xdb\\x00\\xff\\xdbU\\xff\\xdb\\xaa\\xff\\xdb\\xff\\xff\\xff\\x00\\xff\\xffU\\xff\\xff\\xaa\\xff\\xff\\xff\\xea\\x9bn.\\x00\\x00\\x00\\xd4IDATx\\xda\\x1dO1n\\x02A\\x0c\\x1c\\xefy\\xa5\\x14\\x91\\x82@(E\"\\x9d\\x11\\x87DA\\x19^@\\x15E\\xca\\x0b\\xf2\\x8f|!]\\xaa\\xbc\\x84\\x82\\x82|!}\\n', b\"\\x10^\\xb8\\xabC\\xcf\\x9e\\x8c7\\x8d=\\x96\\xc73c\\xfa\\x00 \\x00g\\xef\\xbc7B@\\x81\\xe8Jq\\x98p`\\xc4\\xdaq\\xfd\\xd8:\\x11\\xa96\\t\\xd9\\xb4\\xdc\\xb0\\xa8*\\x84\\x88\\xb8\\xedW`\\x01cf\\xc0T\\x85\\x03U\\x00\\x01=\\xacHW'\\xab\\xc6\\xb7\\xc7\\xfc\\xe4\\x90\\x9a\\xe1ht\\xf77\\xe8C\\xdd\\xa1\\xfbf\\xe6\\x9b\\x18u\\xfbn\\xc4\\x8c\\x87\\x1c\\x13$\\xba\\xf7z\\xf7\\xf5{I\\xc1U\\xcc&\\xa9\\xc4\\xd9\\xb9\\xabJ\\xa0\\x96\\x81\\xed\\xd4\\x87\\x8d6]3A\\xb5\\x1c\\x14\\xd6y\\xf9r\\xff\\xfa\\xb6\\x10\\x1e\\xff\\x04K\\xe4\\xe6\\xf9\\xb3y\\x06\\x89\\xef\\xfcJ<\\x89\\xa9\\xce\\xff?\\xb3\\x88+\\x84\\x0cG\\x97@\\xec\\xa8e\\x00\\x00\\x00\\x00IEND\\xaeB`\\x82\"]\n"
          ]
        }
      ]
    },
    {
      "cell_type": "markdown",
      "source": [
        "## Exception Handling\n",
        "* Error in Python can be of two types i.e. [Syntax errors and Exceptions](https://www.geeksforgeeks.org/errors-and-exceptions-in-python/). "
      ],
      "metadata": {
        "id": "Lspnm2_iR9Dj"
      },
      "id": "Lspnm2_iR9Dj"
    },
    {
      "cell_type": "code",
      "source": [
        "# syntax errors\n",
        "\n",
        "amount = 10000\n",
        "\n",
        "if(amount > 2999)\n",
        "print(\"You are eligible to purchase Dsa Self Paced\")"
      ],
      "metadata": {
        "colab": {
          "base_uri": "https://localhost:8080/",
          "height": 130
        },
        "id": "TUFGEO7sSWMg",
        "outputId": "b8c63d66-daa7-43cb-f0c4-568275ccb92b"
      },
      "id": "TUFGEO7sSWMg",
      "execution_count": 96,
      "outputs": [
        {
          "output_type": "error",
          "ename": "SyntaxError",
          "evalue": "ignored",
          "traceback": [
            "\u001b[0;36m  File \u001b[0;32m\"<ipython-input-96-82138608d563>\"\u001b[0;36m, line \u001b[0;32m5\u001b[0m\n\u001b[0;31m    if(amount > 2999)\u001b[0m\n\u001b[0m                     ^\u001b[0m\n\u001b[0;31mSyntaxError\u001b[0m\u001b[0;31m:\u001b[0m invalid syntax\n"
          ]
        }
      ]
    },
    {
      "cell_type": "code",
      "source": [
        "# Logical errors (Exceptions)\n",
        "\n",
        "dividend = 1000\n",
        "divisors = [1, 5, 50, 0, 100, 1, 2]\n",
        "\n",
        "for d in divisors:\n",
        "    print(dividend / d)"
      ],
      "metadata": {
        "colab": {
          "base_uri": "https://localhost:8080/",
          "height": 252
        },
        "id": "8gYTRPkKSmrO",
        "outputId": "895d7d5f-d7f9-4754-e6ea-8eabd813e7f9"
      },
      "id": "8gYTRPkKSmrO",
      "execution_count": 97,
      "outputs": [
        {
          "output_type": "stream",
          "name": "stdout",
          "text": [
            "1000.0\n",
            "200.0\n",
            "20.0\n"
          ]
        },
        {
          "output_type": "error",
          "ename": "ZeroDivisionError",
          "evalue": "ignored",
          "traceback": [
            "\u001b[0;31m---------------------------------------------------------------------------\u001b[0m",
            "\u001b[0;31mZeroDivisionError\u001b[0m                         Traceback (most recent call last)",
            "\u001b[0;32m<ipython-input-97-9ac5b7588210>\u001b[0m in \u001b[0;36m<module>\u001b[0;34m()\u001b[0m\n\u001b[1;32m      5\u001b[0m \u001b[0;34m\u001b[0m\u001b[0m\n\u001b[1;32m      6\u001b[0m \u001b[0;32mfor\u001b[0m \u001b[0md\u001b[0m \u001b[0;32min\u001b[0m \u001b[0mdivisors\u001b[0m\u001b[0;34m:\u001b[0m\u001b[0;34m\u001b[0m\u001b[0;34m\u001b[0m\u001b[0m\n\u001b[0;32m----> 7\u001b[0;31m     \u001b[0mprint\u001b[0m\u001b[0;34m(\u001b[0m\u001b[0mdividend\u001b[0m \u001b[0;34m/\u001b[0m \u001b[0md\u001b[0m\u001b[0;34m)\u001b[0m\u001b[0;34m\u001b[0m\u001b[0;34m\u001b[0m\u001b[0m\n\u001b[0m",
            "\u001b[0;31mZeroDivisionError\u001b[0m: division by zero"
          ]
        }
      ]
    },
    {
      "cell_type": "markdown",
      "source": [
        "### Try and Except Statement – Catching Exceptions\n",
        "\n",
        "Try and except statements are used to catch and handle exceptions in Python. Statements that can raise exceptions are kept inside the try clause and the statements that handle the exception are written inside except clause.\n"
      ],
      "metadata": {
        "id": "H9rgc_T4TK43"
      },
      "id": "H9rgc_T4TK43"
    },
    {
      "cell_type": "code",
      "source": [
        "# Logical errors (Exceptions)\n",
        "\n",
        "dividend = 1000\n",
        "divisors = [1, 5, 50, 0, 100, 1, 2]\n",
        "\n",
        "try:\n",
        "    for d in divisors:\n",
        "        print(dividend / d)\n",
        "except:\n",
        "    print(\"Unsupported mathematical operation\")"
      ],
      "metadata": {
        "colab": {
          "base_uri": "https://localhost:8080/"
        },
        "id": "C2jaeI6KTKMN",
        "outputId": "040e49c5-ad8a-466f-e63f-ac19fe2e97c1"
      },
      "id": "C2jaeI6KTKMN",
      "execution_count": 102,
      "outputs": [
        {
          "output_type": "stream",
          "name": "stdout",
          "text": [
            "Unsupported mathematical operation\n"
          ]
        }
      ]
    },
    {
      "cell_type": "markdown",
      "source": [
        "### Catching Specific Exception"
      ],
      "metadata": {
        "id": "wSVhu-yzTn0x"
      },
      "id": "wSVhu-yzTn0x"
    },
    {
      "cell_type": "code",
      "source": [
        "# Logical errors (Exceptions)\n",
        "\n",
        "dividend = 1000\n",
        "divisors = [1, 5, 50, 0, 100, 1, 2]\n",
        "\n",
        "try:\n",
        "    for d in divisors:\n",
        "        print(dividend / d)\n",
        "    value = divisors[1000]\n",
        "except ZeroDivisionError:\n",
        "    print(\"Unsupported mathematical operation.\")\n",
        "except IndexError:\n",
        "    print(\"Accessing element from out of list.\")"
      ],
      "metadata": {
        "colab": {
          "base_uri": "https://localhost:8080/"
        },
        "id": "UzkywBdJTpb7",
        "outputId": "804a9ec6-2cdf-4adb-d6d4-fe5408f375aa"
      },
      "id": "UzkywBdJTpb7",
      "execution_count": 105,
      "outputs": [
        {
          "output_type": "stream",
          "name": "stdout",
          "text": [
            "1000.0\n",
            "200.0\n",
            "20.0\n",
            "Unsupported mathematical operation.\n"
          ]
        }
      ]
    }
  ],
  "metadata": {
    "kernelspec": {
      "display_name": "Python 3 (ipykernel)",
      "language": "python",
      "name": "python3"
    },
    "language_info": {
      "codemirror_mode": {
        "name": "ipython",
        "version": 3
      },
      "file_extension": ".py",
      "mimetype": "text/x-python",
      "name": "python",
      "nbconvert_exporter": "python",
      "pygments_lexer": "ipython3",
      "version": "3.8.10"
    },
    "colab": {
      "name": "python3-devops.ipynb",
      "provenance": [],
      "collapsed_sections": [],
      "toc_visible": true,
      "include_colab_link": true
    },
    "gpuClass": "standard"
  },
  "nbformat": 4,
  "nbformat_minor": 5
}