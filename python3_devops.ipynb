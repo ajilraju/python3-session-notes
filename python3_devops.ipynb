{
  "cells": [
    {
      "cell_type": "markdown",
      "metadata": {
        "id": "view-in-github",
        "colab_type": "text"
      },
      "source": [
        "<a href=\"https://colab.research.google.com/github/ajilraju/python3-session-notes/blob/main/python3_devops.ipynb\" target=\"_parent\"><img src=\"https://colab.research.google.com/assets/colab-badge.svg\" alt=\"Open In Colab\"/></a>"
      ]
    },
    {
      "cell_type": "markdown",
      "source": [
        "# Day 01"
      ],
      "metadata": {
        "id": "9sAOf49iqLWe"
      },
      "id": "9sAOf49iqLWe"
    },
    {
      "cell_type": "markdown",
      "source": [
        "# Python Programming (Python3) 🐍\n",
        "\n",
        "## Get Started\n",
        "\n",
        "* ### Python is an interpreted, object-oriented, high-level programming language with dynamic semantics.\n",
        "* ### Created by Guido van Rossum, and released in 1991.\n",
        "* ### [Why Python2 and Python3](https://www.geeksforgeeks.org/important-differences-between-python-2-x-and-python-3-x-with-examples/).\n",
        "* ### [More about Python](https://en.wikipedia.org/wiki/Python_(programming_language).\n"
      ],
      "metadata": {
        "id": "SvH2RF33QQoQ"
      },
      "id": "SvH2RF33QQoQ"
    },
    {
      "cell_type": "markdown",
      "source": [
        "## First Python Program\n",
        "\n",
        "`hello_world.py`\n",
        "\n",
        "Run the script by Python3 interpreter\n",
        "```bash\n",
        "python3 hello_world.py\n",
        "```\n"
      ],
      "metadata": {
        "id": "rU0lPOsWBzDI"
      },
      "id": "rU0lPOsWBzDI"
    },
    {
      "cell_type": "code",
      "source": [
        "print(\"Hello World!\")\n",
        "print('hello world')\n",
        "print(\"I'm Love Python\")"
      ],
      "metadata": {
        "id": "clJOanayCp7z",
        "colab": {
          "base_uri": "https://localhost:8080/"
        },
        "outputId": "b8afeb8e-8c10-4350-b4f6-5a760d25eeba"
      },
      "id": "clJOanayCp7z",
      "execution_count": null,
      "outputs": [
        {
          "output_type": "stream",
          "name": "stdout",
          "text": [
            "Hello World!\n",
            "hello world\n",
            "I'm Love Python\n"
          ]
        }
      ]
    },
    {
      "cell_type": "markdown",
      "source": [
        "## Variables\n",
        "\n",
        "* A Python Variables is a name given to a memory location. It is the basic unit of storage in a program.\n",
        "* [More about variables](https://en.wikipedia.org/wiki/Variable_(computer_science)\n",
        "\n",
        "### *Syntax*\n",
        "**varible_name = value**\n",
        "\n",
        "Eg: **my_name = \"Tom\"**"
      ],
      "metadata": {
        "id": "XLsm4f-5FwDO"
      },
      "id": "XLsm4f-5FwDO"
    },
    {
      "cell_type": "code",
      "source": [
        "first_varible = \"First value\""
      ],
      "metadata": {
        "id": "haWAPYZas70-"
      },
      "id": "haWAPYZas70-",
      "execution_count": null,
      "outputs": []
    },
    {
      "cell_type": "code",
      "source": [
        "my_name = \"Tom\"\n",
        "my_age = 25\n",
        "my_weight = 75.5\n",
        "\n",
        "print(first_varible)\n",
        "print(my_name)\n",
        "print(my_age)\n",
        "print(my_weight)"
      ],
      "metadata": {
        "id": "mNwCz1V1HH44",
        "colab": {
          "base_uri": "https://localhost:8080/"
        },
        "outputId": "4996e889-91cd-403f-aa78-2d736371c75d"
      },
      "id": "mNwCz1V1HH44",
      "execution_count": null,
      "outputs": [
        {
          "output_type": "stream",
          "name": "stdout",
          "text": [
            "First value\n",
            "Tom\n",
            "25\n",
            "75.5\n"
          ]
        }
      ]
    },
    {
      "cell_type": "markdown",
      "source": [
        "### Varible type data-type\n",
        "* string  `\"hello world or 'hello world'`\n",
        "* intger  `100`\n",
        "* float   `200.23`\n",
        "* boolean `True or False`\n",
        "* complex `1j`\n",
        "* [more](https://www.w3schools.com/python/python_datatypes.asp)"
      ],
      "metadata": {
        "id": "TI3POdtrzTP0"
      },
      "id": "TI3POdtrzTP0"
    },
    {
      "cell_type": "markdown",
      "source": [
        "## Working with string\n",
        "\n",
        "* A string is a series of characters. \n",
        "* Anything inside quotes is considered a string in Python.\n",
        "* Use single or double quotes around your strings\n",
        "* [String methods](https://docs.python.org/3/library/stdtypes.html#string-methods)"
      ],
      "metadata": {
        "id": "kmveI2m-1-MC"
      },
      "id": "kmveI2m-1-MC"
    },
    {
      "cell_type": "code",
      "source": [
        "# Using sring\n",
        "country_name = 'india'\n",
        "print(country_name)\n",
        "\n",
        "print(country_name.title())\n",
        "# title() is called method, \n",
        "# A method is an action that Python can perform on a piece of data.\n",
        "\n",
        "print(country_name.lower())\n",
        "print(country_name.upper())\n",
        "print(len(country_name))  # Special string function to find the string char length.\n",
        "print(type(country_name)) # Special function to out the data-type."
      ],
      "metadata": {
        "id": "QYnN2FyH0Xbx",
        "colab": {
          "base_uri": "https://localhost:8080/"
        },
        "outputId": "06621d83-fd50-40b2-ea01-01bd2dc92985"
      },
      "id": "QYnN2FyH0Xbx",
      "execution_count": null,
      "outputs": [
        {
          "output_type": "stream",
          "name": "stdout",
          "text": [
            "india\n",
            "India\n",
            "india\n",
            "INDIA\n",
            "5\n",
            "<class 'str'>\n"
          ]
        }
      ]
    },
    {
      "cell_type": "markdown",
      "source": [
        "### Using varible inside string\n",
        "\n",
        "* [f-­strings](https://peps.python.org/pep-0498)\n",
        "* Eg: `f\"Hello! {varible_name}\"`"
      ],
      "metadata": {
        "id": "_5ErI6ch2vHb"
      },
      "id": "_5ErI6ch2vHb"
    },
    {
      "cell_type": "code",
      "source": [
        "possession = \"I\"\n",
        "\n",
        "print(f\"Hello Folks, {possession} love {country_name.title()}\")"
      ],
      "metadata": {
        "id": "PmsYqFwV3V9f",
        "colab": {
          "base_uri": "https://localhost:8080/"
        },
        "outputId": "79ac7567-a023-428f-89d1-87d1434ed252"
      },
      "id": "PmsYqFwV3V9f",
      "execution_count": null,
      "outputs": [
        {
          "output_type": "stream",
          "name": "stdout",
          "text": [
            "Hello Folks, I love India\n"
          ]
        }
      ]
    },
    {
      "cell_type": "markdown",
      "source": [
        "# Day 02"
      ],
      "metadata": {
        "id": "O6JkjLl4qIpm"
      },
      "id": "O6JkjLl4qIpm"
    },
    {
      "cell_type": "markdown",
      "source": [
        "## Numbers\n",
        "\n",
        "### Integer\n",
        "\n",
        "```\n",
        "2 + 2\n",
        "3 * 6\n",
        "```\n",
        "\n",
        "### Float\n",
        "\n",
        "Python calls any number with a decimal point a float.\n",
        "```\n",
        "3.43 + 3.14\n",
        "3 * 235\n",
        "```\n",
        "\n",
        "### Underscore in Numbers\n",
        "`universe_age = 14_000_000_000`\n",
        "\n",
        "### Multiple Assignment\n",
        "`x, y, z = 10, 100, 34.33`\n",
        "\n",
        "### Constants\n",
        "A constant is like a variable whose value stays the same throughout the life of a program. Python doesn’t have built-­in constant types.\n",
        "\n",
        "`MAX_CONNECTIONS = 5000`\n",
        "\n",
        "### Conversion\n",
        "* `int(x)` convert other datatype into int. x be the other datatype value."
      ],
      "metadata": {
        "id": "5ZomJbryoqUi"
      },
      "id": "5ZomJbryoqUi"
    },
    {
      "cell_type": "code",
      "source": [
        "sum = 2 + 2\n",
        "product = 2 * 6\n",
        "\n",
        "PI = 3.14159 # Constant\n",
        "\n",
        "sum_float = 2 + 2.22\n",
        "product_float = 3 * PI\n",
        "\n",
        "x, y, z = 1, 3, 2\n",
        "\n",
        "universe_age = 14_000_000_000\n",
        "\n",
        "print(sum)\n",
        "print(product)\n",
        "\n",
        "print(sum_float)\n",
        "print(product_float)\n",
        "\n",
        "print(f\"x = {x}, y = {y}, z = {z}\")\n",
        "\n",
        "print(universe_age * 2)"
      ],
      "metadata": {
        "id": "h7G4XMvqq0C4",
        "colab": {
          "base_uri": "https://localhost:8080/"
        },
        "outputId": "2eb5088f-3b5b-4748-8e20-cbaa93015289"
      },
      "id": "h7G4XMvqq0C4",
      "execution_count": null,
      "outputs": [
        {
          "output_type": "stream",
          "name": "stdout",
          "text": [
            "4\n",
            "12\n",
            "4.220000000000001\n",
            "9.424769999999999\n",
            "x = 1, y = 3, z = 2\n",
            "28000000000\n"
          ]
        }
      ]
    },
    {
      "cell_type": "markdown",
      "source": [
        "## Python Operators\n",
        "\n",
        "* Arithmetic operators\n",
        "* Assignment operators\n",
        "* Comparison operators\n",
        "* Logical operators\n",
        "* Identity operators\n",
        "* Membership operators\n",
        "* Bitwise operators\n",
        "* [More about operators](https://www.w3schools.com/python/python_operators.asp)\n",
        "\n",
        "\n",
        "    | Operator | Operand |\n",
        "    |----------|---------|\n",
        "    |+ = - **  | x, sum  |\n"
      ],
      "metadata": {
        "id": "Pmddq9wHsJb9"
      },
      "id": "Pmddq9wHsJb9"
    },
    {
      "cell_type": "code",
      "source": [
        "# Arithmetic Operators\n",
        "print(2 + 2)\n",
        "print(2 * 2)\n",
        "print(2 - 2)\n",
        "print(3 / 2)\n",
        "print(3 % 2)\n",
        "print(2 ** 3)\n",
        "print(3 // 2)\n",
        "\n",
        "# Assignment Operators\n",
        "x = 10\n",
        "x = x + 10\n",
        "\n",
        "y = 10\n",
        "y += 10\n",
        "\n",
        "x *= 10\n",
        "\n",
        "print(y)\n",
        "print(x)\n",
        "\n",
        "# Comparison Operators\n",
        "print(2 == 2)\n",
        "print(2 > 3)\n",
        "print(2 < 2)\n",
        "print(2 <= 2)\n",
        "print(2 != 2)\n",
        "\n",
        "# Logical Operators\n",
        "print(True and True)\n",
        "print(True and False)\n",
        "print(True or True)\n",
        "print(True or False)\n",
        "print(not True)\n",
        "print(not False)\n",
        "\n"
      ],
      "metadata": {
        "id": "7AlGbq1As1qk",
        "colab": {
          "base_uri": "https://localhost:8080/"
        },
        "outputId": "2964fb53-33da-4fe4-fa18-160db6bb5485"
      },
      "id": "7AlGbq1As1qk",
      "execution_count": null,
      "outputs": [
        {
          "output_type": "stream",
          "name": "stdout",
          "text": [
            "4\n",
            "4\n",
            "0\n",
            "1.5\n",
            "1\n",
            "8\n",
            "1\n",
            "20\n",
            "200\n",
            "True\n",
            "False\n",
            "False\n",
            "True\n",
            "False\n",
            "True\n",
            "False\n",
            "True\n",
            "True\n",
            "False\n",
            "True\n"
          ]
        }
      ]
    },
    {
      "cell_type": "markdown",
      "source": [
        "## User input\n",
        "Developers often have a need to interact with users, either to get data or to provide some sort of result.\n",
        "\n",
        "`input(prompt)`\n",
        "\n",
        "`value = input(\"Enter your age\")`"
      ],
      "metadata": {
        "id": "al8-oWymxd8Y"
      },
      "id": "al8-oWymxd8Y"
    },
    {
      "cell_type": "code",
      "source": [
        "name = input(\"Enter your name: \")\n",
        "age = input(\"Enter you age: \")\n",
        "\n",
        "print(f\"Hello!!! {name} welcome to the world of python\")\n",
        "print(age)"
      ],
      "metadata": {
        "id": "rR6gOOb2yAwh",
        "colab": {
          "base_uri": "https://localhost:8080/"
        },
        "outputId": "a40a08bc-91bb-4c1a-afa4-1909802b6869"
      },
      "id": "rR6gOOb2yAwh",
      "execution_count": null,
      "outputs": [
        {
          "output_type": "stream",
          "name": "stdout",
          "text": [
            "Enter your name: tim\n",
            "Enter you age: 52\n",
            "Hello!!! tim welcome to the world of python\n",
            "52\n"
          ]
        }
      ]
    },
    {
      "cell_type": "code",
      "source": [
        "number = input(\"Enter the number\")\n",
        "print(2 + int(number))"
      ],
      "metadata": {
        "id": "OBwEka0WzI21",
        "colab": {
          "base_uri": "https://localhost:8080/"
        },
        "outputId": "df77e7f1-5628-40e9-9e2f-bf4622830047"
      },
      "id": "OBwEka0WzI21",
      "execution_count": null,
      "outputs": [
        {
          "output_type": "stream",
          "name": "stdout",
          "text": [
            "Enter the number100\n",
            "102\n"
          ]
        }
      ]
    },
    {
      "cell_type": "code",
      "source": [
        "# Simple Calculator\n",
        "f_num = input(\"Enter the first number: \")\n",
        "s_num = int(input(\"Enter the second number: \"))\n",
        "\n",
        "f_num = int(f_num)\n",
        "\n",
        "print(\"=\" * 10)\n",
        "print(f\"Sum of {f_num} and {s_num} = {f_num + s_num}\")\n",
        "print(f\"Product of {f_num} and {s_num} = {f_num * s_num}\")\n",
        "print(f\"Quotient of {f_num} and {s_num} = {f_num / s_num}\")\n",
        "\n"
      ],
      "metadata": {
        "id": "aKK_AYr2ygUy",
        "colab": {
          "base_uri": "https://localhost:8080/"
        },
        "outputId": "8916165d-94d8-4e73-d47f-4c3aaff50347"
      },
      "id": "aKK_AYr2ygUy",
      "execution_count": null,
      "outputs": [
        {
          "output_type": "stream",
          "name": "stdout",
          "text": [
            "Enter the first number: 3\n",
            "Enter the second number: 2\n",
            "==========\n",
            "Sum of 3 and 2 = 5\n",
            "Product of 3 and 2 = 6\n",
            "Quotient of 3 and 2 = 1.5\n"
          ]
        }
      ]
    },
    {
      "cell_type": "markdown",
      "source": [
        "## Lists\n",
        "* A list is a collection of items in a particular order.\n",
        "* In Python, square brackets `( [] )` indicate a list, and individual elements in the list are separated by commas.\n",
        "*   ```\n",
        "    bicycles = ['trek', 'cannondale', 'redline', 'specialized']\n",
        "    print(bicycles)\n",
        "    ```\n",
        "\n",
        "\n"
      ],
      "metadata": {
        "id": "FzMNs5evjzC0"
      },
      "id": "FzMNs5evjzC0"
    },
    {
      "cell_type": "code",
      "source": [
        "bicycles = ['trek', 'cannondale', 'redline', 'specialized']\n",
        "print(bicycles)"
      ],
      "metadata": {
        "id": "gjzxADHWkrol",
        "colab": {
          "base_uri": "https://localhost:8080/"
        },
        "outputId": "28ada3ce-909f-4095-f705-ca9bd9951342"
      },
      "id": "gjzxADHWkrol",
      "execution_count": null,
      "outputs": [
        {
          "output_type": "stream",
          "name": "stdout",
          "text": [
            "['trek', 'cannondale', 'redline', 'specialized']\n"
          ]
        }
      ]
    },
    {
      "cell_type": "markdown",
      "source": [
        "### Accessing elements in List\n",
        "\n",
        "* Lists are ordered collections.\n",
        "* Access any element in a list by telling Python the position, or index, of the item desired.\n",
        "* Index Positions Start at 0, Not 1\n",
        "* Last element is `(N-1)`\n",
        "* Python has a special syntax for accessing the last element in a list. with *negative index*."
      ],
      "metadata": {
        "id": "Vkr9noLok0z8"
      },
      "id": "Vkr9noLok0z8"
    },
    {
      "cell_type": "code",
      "source": [
        "print(bicycles[0])\n",
        "print(bicycles[0].title())\n",
        "print(bicycles[-1])\n",
        "print(bicycles[-2])"
      ],
      "metadata": {
        "id": "okmrfu3dlCbo",
        "colab": {
          "base_uri": "https://localhost:8080/"
        },
        "outputId": "5d23789a-7689-47c1-9ed2-9ec76470f3cc"
      },
      "id": "okmrfu3dlCbo",
      "execution_count": null,
      "outputs": [
        {
          "output_type": "stream",
          "name": "stdout",
          "text": [
            "trek\n",
            "Trek\n",
            "specialized\n",
            "redline\n"
          ]
        }
      ]
    },
    {
      "cell_type": "markdown",
      "source": [
        "### Modifiying element in a List"
      ],
      "metadata": {
        "id": "X9MUOsX5mfav"
      },
      "id": "X9MUOsX5mfav"
    },
    {
      "cell_type": "code",
      "source": [
        "bicycles[1] = 'BMX'\n",
        "print(bicycles)"
      ],
      "metadata": {
        "id": "b4MQZea7mpCo"
      },
      "id": "b4MQZea7mpCo",
      "execution_count": null,
      "outputs": []
    },
    {
      "cell_type": "markdown",
      "source": [
        "### Adding Elements to a List\n",
        "* Appending Elements to the End of a List, `append(ele)`.\n",
        "* Inserting Elements into a List, `insert(pos, elem)`.\n"
      ],
      "metadata": {
        "id": "yZemEKAKm4zN"
      },
      "id": "yZemEKAKm4zN"
    },
    {
      "cell_type": "markdown",
      "source": [
        "### More about List\n",
        "[Python3 list](https://docs.python.org/3/tutorial/datastructures.html)"
      ],
      "metadata": {
        "id": "SAINb7_KnU2l"
      },
      "id": "SAINb7_KnU2l"
    },
    {
      "cell_type": "markdown",
      "source": [
        "## Decision Making (if-else statement)\n",
        "* Decision making is anticipation of conditions occurring while execution of the program and specifying actions taken according to the conditions.\n",
        "* Decision structures evaluate multiple expressions which produce TRUE or FALSE as outcome.\n",
        "![image](https://www.tutorialspoint.com/python/images/decision_making.jpg)\n",
        "* Python programming language assumes any non-zero and non-null values as TRUE, and if it is either zero or null, then it is assumed as FALSE value.\n",
        "* **if statement**\n",
        "* **if..else statement**\n",
        "* **nested if statement**\n",
        "\n",
        "* [Watch out Indentation](https://peps.python.org/pep-0008/#indentation)"
      ],
      "metadata": {
        "id": "UFlBY3iPno_Q"
      },
      "id": "UFlBY3iPno_Q"
    },
    {
      "cell_type": "code",
      "source": [
        "total_days_year = 365\n",
        "\n",
        "if total_days_year == 365:\n",
        "    print(\"You're in Earth.\")"
      ],
      "metadata": {
        "id": "hg5topLqo-pH",
        "colab": {
          "base_uri": "https://localhost:8080/"
        },
        "outputId": "0d614f99-bc3e-420a-ac85-871d97bd6567"
      },
      "id": "hg5topLqo-pH",
      "execution_count": null,
      "outputs": [
        {
          "output_type": "stream",
          "name": "stdout",
          "text": [
            "You're in Earth.\n"
          ]
        }
      ]
    },
    {
      "cell_type": "code",
      "source": [
        "if total_days_year == 3666:\n",
        "    print(\"You're in Exo\")\n",
        "else:\n",
        "    print(\"You're in Earth\")"
      ],
      "metadata": {
        "id": "3ByV-WENp8c6",
        "colab": {
          "base_uri": "https://localhost:8080/"
        },
        "outputId": "3f32df0d-7c72-424a-8429-a42a3f4c8702"
      },
      "id": "3ByV-WENp8c6",
      "execution_count": null,
      "outputs": [
        {
          "output_type": "stream",
          "name": "stdout",
          "text": [
            "You're in Earth\n"
          ]
        }
      ]
    },
    {
      "cell_type": "code",
      "source": [
        "total_days_year = int(input(\"Enter days: \"))\n",
        "if total_days_year == 365:\n",
        "    print(\"You're in Earth\")\n",
        "elif total_days_year == 243:\n",
        "    print(\"You're in Venus\")\n",
        "else:\n",
        "    print(\"You're in Exoplant\")"
      ],
      "metadata": {
        "id": "wZPXr_pnr2A3"
      },
      "id": "wZPXr_pnr2A3",
      "execution_count": null,
      "outputs": []
    },
    {
      "cell_type": "markdown",
      "source": [
        "### Example: Decision Making (Covid Vaccine)"
      ],
      "metadata": {
        "id": "TJnUBPELSrqj"
      },
      "id": "TJnUBPELSrqj"
    },
    {
      "cell_type": "code",
      "source": [
        "age = int(input(\"Enter you age\"))\n",
        "\n",
        "if age >= 18:\n",
        "    taken_first_dose = input(\"Have you taken the first dose covid vaccine (y/n): \")\n",
        "    if taken_first_dose == 'y' or taken_first_dose == 'Y':\n",
        "        print(\"You're eligible to second dose vaccine\")\n",
        "    else:\n",
        "        print(\"Visit your nearest vaccine centre first dose vaccine\")\n",
        "else:\n",
        "    print(\"You are minor, Keep: 😷 🧼\")"
      ],
      "metadata": {
        "colab": {
          "base_uri": "https://localhost:8080/"
        },
        "id": "2jpV8ajSSqee",
        "outputId": "c4e414f2-33b6-4aa3-aa9c-fd48ace133c5"
      },
      "id": "2jpV8ajSSqee",
      "execution_count": null,
      "outputs": [
        {
          "output_type": "stream",
          "name": "stdout",
          "text": [
            "Enter you age2\n",
            "You are minor, Keep: 😷 🧼\n"
          ]
        }
      ]
    },
    {
      "cell_type": "markdown",
      "source": [
        "## Loops\n",
        "Loop is a sequence of instruction s that is continually repeated until a certain condition is reached.\n",
        "* **While loops (Conditional loops)**\n",
        "* **For loops (Counting loops)**\n",
        "* **[More](https://docs.python.org/3/tutorial/controlflow.html)**\n",
        "* `break, continue and else` are the loop controllers\n"
      ],
      "metadata": {
        "id": "2XL87eiOqucd"
      },
      "id": "2XL87eiOqucd"
    },
    {
      "cell_type": "markdown",
      "source": [
        "### While Loops\n",
        "`while` loop we can execute a set of statements as long as a condition is true."
      ],
      "metadata": {
        "id": "XuNTy7N3IBX_"
      },
      "id": "XuNTy7N3IBX_"
    },
    {
      "cell_type": "code",
      "source": [
        "number = 1\n",
        "count = 1\n",
        "while number <= 10:\n",
        "    print(f\"Iteration {count}, number variable value is {number}\")\n",
        "    count += 1\n",
        "    number += 1\n"
      ],
      "metadata": {
        "id": "CDgklaNCIQ9r"
      },
      "id": "CDgklaNCIQ9r",
      "execution_count": null,
      "outputs": []
    },
    {
      "cell_type": "markdown",
      "source": [
        "### For Loops\n",
        "A `for` loop is used for iterating over a sequence (that is either a list, a tuple, a dictionary, a set, or a string)."
      ],
      "metadata": {
        "id": "85b-CH0uH5K8"
      },
      "id": "85b-CH0uH5K8"
    },
    {
      "cell_type": "code",
      "source": [
        "cars = [\"Nissan\", \"Tata\", \"Hyundai\", \"MG\", \"BMW\"]\n",
        "\n",
        "for car in cars:\n",
        "    print(car)\n",
        "\n",
        "print(\"*\" * 20)\n",
        "for car in cars:\n",
        "    print(f\"{car} is so nice\")\n",
        "\n",
        "print(\"=\" * 20)\n",
        "for i in range(0, 10):\n",
        "    print(i)"
      ],
      "metadata": {
        "id": "22mGcArfJGu7"
      },
      "id": "22mGcArfJGu7",
      "execution_count": null,
      "outputs": []
    },
    {
      "cell_type": "markdown",
      "source": [
        "### Examples of break and continue in loops"
      ],
      "metadata": {
        "id": "ngFraxzpLH_6"
      },
      "id": "ngFraxzpLH_6"
    },
    {
      "cell_type": "code",
      "source": [
        "for i in range(1, 10):\n",
        "    if i == 5:\n",
        "        break\n",
        "    print(i)"
      ],
      "metadata": {
        "id": "0JgEpyibLM9V"
      },
      "id": "0JgEpyibLM9V",
      "execution_count": null,
      "outputs": []
    },
    {
      "cell_type": "code",
      "source": [
        "for i in range(1, 10):\n",
        "    if i == 5:\n",
        "        continue\n",
        "    print(i)"
      ],
      "metadata": {
        "id": "zTju6gkaLdpZ"
      },
      "id": "zTju6gkaLdpZ",
      "execution_count": null,
      "outputs": []
    },
    {
      "cell_type": "markdown",
      "source": [
        "### Example of while and for loops"
      ],
      "metadata": {
        "id": "nw3DNEyrL5Nh"
      },
      "id": "nw3DNEyrL5Nh"
    },
    {
      "cell_type": "code",
      "source": [
        "# program: printing odd nubmers\n",
        "\n",
        "number = 1\n",
        "\n",
        "while number <= 20:\n",
        "    if number % 2 == 0:\n",
        "        print(number)\n",
        "    number += 1"
      ],
      "metadata": {
        "id": "qHzBoF-_L8_u"
      },
      "id": "qHzBoF-_L8_u",
      "execution_count": null,
      "outputs": []
    },
    {
      "cell_type": "code",
      "source": [
        "for num in range(1, 21):\n",
        "    if num % 2 == 0:\n",
        "        print(num)"
      ],
      "metadata": {
        "id": "8IErza7yMnFo"
      },
      "id": "8IErza7yMnFo",
      "execution_count": null,
      "outputs": []
    },
    {
      "cell_type": "markdown",
      "source": [
        "### Example: Pasword policy checker"
      ],
      "metadata": {
        "id": "aMlZnFueOD-s"
      },
      "id": "aMlZnFueOD-s"
    },
    {
      "cell_type": "code",
      "source": [
        "# program: password police checking.\n",
        "#\n",
        "\n",
        "# Password policies are\n",
        "# * Atlest 1 uppercase\n",
        "# * Atlest 1 lowercase\n",
        "# * Atlest 1 digit\n",
        "# * Atlest 1 special character\n",
        "# * min length 8 characters\n",
        "# * max length 12 characters\n",
        "\n",
        "password = input(\"Enter your password: \")\n",
        "\n",
        "upper   = False\n",
        "lower   = False\n",
        "digit   = False\n",
        "special = False\n",
        "\n",
        "if len(password) >= 8 and len(password) <= 12:\n",
        "    for char in password:\n",
        "        if char.isupper():\n",
        "            upper = True\n",
        "        elif char.islower():\n",
        "            lower = True\n",
        "        elif char.isdigit():\n",
        "            digit = True\n",
        "        else:\n",
        "            special = True\n",
        "    if upper and lower and digit and special:\n",
        "        print(\"Valid password\")\n",
        "    else:\n",
        "        print(\"Not all password policy met\")\n",
        "else:\n",
        "    print(\"Password is too short or large\")"
      ],
      "metadata": {
        "id": "XKwWhahEOJzG",
        "colab": {
          "base_uri": "https://localhost:8080/"
        },
        "outputId": "948a25a1-0361-4e02-8130-a00ae018e9ad"
      },
      "id": "XKwWhahEOJzG",
      "execution_count": null,
      "outputs": [
        {
          "output_type": "stream",
          "name": "stdout",
          "text": [
            "Enter your password: 234S22sd%\n",
            "Valid password\n"
          ]
        }
      ]
    },
    {
      "cell_type": "markdown",
      "source": [
        "### Example: Find Odd and Even number"
      ],
      "metadata": {
        "id": "fBF30NGVRPSD"
      },
      "id": "fBF30NGVRPSD"
    },
    {
      "cell_type": "code",
      "source": [
        "for num in range(1, 11):\n",
        "    if num % 2 == 0:\n",
        "        print(\"Found an even number\", num)\n",
        "        continue\n",
        "    print(\"Found an odd number\", num)"
      ],
      "metadata": {
        "id": "Aw6FhoYoRTuk"
      },
      "id": "Aw6FhoYoRTuk",
      "execution_count": null,
      "outputs": []
    }
  ],
  "metadata": {
    "kernelspec": {
      "display_name": "Python 3 (ipykernel)",
      "language": "python",
      "name": "python3"
    },
    "language_info": {
      "codemirror_mode": {
        "name": "ipython",
        "version": 3
      },
      "file_extension": ".py",
      "mimetype": "text/x-python",
      "name": "python",
      "nbconvert_exporter": "python",
      "pygments_lexer": "ipython3",
      "version": "3.8.10"
    },
    "colab": {
      "name": "python3-devops.ipynb",
      "provenance": [],
      "collapsed_sections": [],
      "include_colab_link": true
    }
  },
  "nbformat": 4,
  "nbformat_minor": 5
}